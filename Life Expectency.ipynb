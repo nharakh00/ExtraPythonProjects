{
 "cells": [
  {
   "cell_type": "code",
   "execution_count": 2,
   "id": "65ad3906",
   "metadata": {},
   "outputs": [],
   "source": [
    "import pandas as pd\n",
    "import matplotlib.pyplot as plt"
   ]
  },
  {
   "cell_type": "code",
   "execution_count": 3,
   "id": "c83900ff",
   "metadata": {},
   "outputs": [
    {
     "name": "stdout",
     "output_type": "stream",
     "text": [
      "<class 'pandas.core.frame.DataFrame'>\n",
      "RangeIndex: 120 entries, 0 to 119\n",
      "Data columns (total 5 columns):\n",
      " #   Column                   Non-Null Count  Dtype \n",
      "---  ------                   --------------  ----- \n",
      " 0   Country                  120 non-null    object\n",
      " 1   Life expectancy males    120 non-null    object\n",
      " 2   Life expectancy females  120 non-null    object\n",
      " 3   Birth rate               120 non-null    object\n",
      " 4   Death rate               120 non-null    object\n",
      "dtypes: object(5)\n",
      "memory usage: 4.8+ KB\n"
     ]
    }
   ],
   "source": [
    "df = pd.read_csv(\"life_expectancy.csv\")\n",
    "df.info()\n"
   ]
  },
  {
   "cell_type": "code",
   "execution_count": 4,
   "id": "13e33594",
   "metadata": {},
   "outputs": [
    {
     "data": {
      "text/html": [
       "<div>\n",
       "<style scoped>\n",
       "    .dataframe tbody tr th:only-of-type {\n",
       "        vertical-align: middle;\n",
       "    }\n",
       "\n",
       "    .dataframe tbody tr th {\n",
       "        vertical-align: top;\n",
       "    }\n",
       "\n",
       "    .dataframe thead th {\n",
       "        text-align: right;\n",
       "    }\n",
       "</style>\n",
       "<table border=\"1\" class=\"dataframe\">\n",
       "  <thead>\n",
       "    <tr style=\"text-align: right;\">\n",
       "      <th></th>\n",
       "      <th>Country</th>\n",
       "      <th>Life expectancy males</th>\n",
       "      <th>Life expectancy females</th>\n",
       "      <th>Birth rate</th>\n",
       "      <th>Death rate</th>\n",
       "    </tr>\n",
       "  </thead>\n",
       "  <tbody>\n",
       "    <tr>\n",
       "      <th>0</th>\n",
       "      <td>Hong Kong *</td>\n",
       "      <td>83.2 years</td>\n",
       "      <td>87.9 years</td>\n",
       "      <td>5.0 ‰</td>\n",
       "      <td>6.9 ‰</td>\n",
       "    </tr>\n",
       "    <tr>\n",
       "      <th>1</th>\n",
       "      <td>Macao *</td>\n",
       "      <td>82.8 years</td>\n",
       "      <td>87.9 years</td>\n",
       "      <td>10.1 ‰</td>\n",
       "      <td>4.1 ‰</td>\n",
       "    </tr>\n",
       "    <tr>\n",
       "      <th>2</th>\n",
       "      <td>Switzerland</td>\n",
       "      <td>81.9 years</td>\n",
       "      <td>85.9 years</td>\n",
       "      <td>10.3 ‰</td>\n",
       "      <td>8.2 ‰</td>\n",
       "    </tr>\n",
       "    <tr>\n",
       "      <th>3</th>\n",
       "      <td>Iceland</td>\n",
       "      <td>81.8 years</td>\n",
       "      <td>84.5 years</td>\n",
       "      <td>13.1 ‰</td>\n",
       "      <td>6.3 ‰</td>\n",
       "    </tr>\n",
       "    <tr>\n",
       "      <th>4</th>\n",
       "      <td>Norway</td>\n",
       "      <td>81.7 years</td>\n",
       "      <td>84.7 years</td>\n",
       "      <td>10.4 ‰</td>\n",
       "      <td>7.8 ‰</td>\n",
       "    </tr>\n",
       "    <tr>\n",
       "      <th>...</th>\n",
       "      <td>...</td>\n",
       "      <td>...</td>\n",
       "      <td>...</td>\n",
       "      <td>...</td>\n",
       "      <td>...</td>\n",
       "    </tr>\n",
       "    <tr>\n",
       "      <th>115</th>\n",
       "      <td>Congo (Dem. Republic)</td>\n",
       "      <td>57.0 years</td>\n",
       "      <td>61.5 years</td>\n",
       "      <td>42.0 ‰</td>\n",
       "      <td>9.7 ‰</td>\n",
       "    </tr>\n",
       "    <tr>\n",
       "      <th>116</th>\n",
       "      <td>Zimbabwe</td>\n",
       "      <td>56.2 years</td>\n",
       "      <td>62.0 years</td>\n",
       "      <td>30.5 ‰</td>\n",
       "      <td>9.1 ‰</td>\n",
       "    </tr>\n",
       "    <tr>\n",
       "      <th>117</th>\n",
       "      <td>Somalia</td>\n",
       "      <td>53.2 years</td>\n",
       "      <td>57.4 years</td>\n",
       "      <td>43.6 ‰</td>\n",
       "      <td>11.6 ‰</td>\n",
       "    </tr>\n",
       "    <tr>\n",
       "      <th>118</th>\n",
       "      <td>Nigeria</td>\n",
       "      <td>52.3 years</td>\n",
       "      <td>53.1 years</td>\n",
       "      <td>37.1 ‰</td>\n",
       "      <td>13.1 ‰</td>\n",
       "    </tr>\n",
       "    <tr>\n",
       "      <th>119</th>\n",
       "      <td>Chad</td>\n",
       "      <td>50.8 years</td>\n",
       "      <td>54.3 years</td>\n",
       "      <td>43.4 ‰</td>\n",
       "      <td>12.5 ‰</td>\n",
       "    </tr>\n",
       "  </tbody>\n",
       "</table>\n",
       "<p>120 rows × 5 columns</p>\n",
       "</div>"
      ],
      "text/plain": [
       "                   Country Life expectancy males Life expectancy females  \\\n",
       "0              Hong Kong *            83.2 years              87.9 years   \n",
       "1                  Macao *            82.8 years              87.9 years   \n",
       "2              Switzerland            81.9 years              85.9 years   \n",
       "3                  Iceland            81.8 years              84.5 years   \n",
       "4                   Norway            81.7 years              84.7 years   \n",
       "..                     ...                   ...                     ...   \n",
       "115  Congo (Dem. Republic)            57.0 years              61.5 years   \n",
       "116               Zimbabwe            56.2 years              62.0 years   \n",
       "117                Somalia            53.2 years              57.4 years   \n",
       "118                Nigeria            52.3 years              53.1 years   \n",
       "119                   Chad            50.8 years              54.3 years   \n",
       "\n",
       "    Birth rate Death rate  \n",
       "0        5.0 ‰      6.9 ‰  \n",
       "1       10.1 ‰      4.1 ‰  \n",
       "2       10.3 ‰      8.2 ‰  \n",
       "3       13.1 ‰      6.3 ‰  \n",
       "4       10.4 ‰      7.8 ‰  \n",
       "..         ...        ...  \n",
       "115     42.0 ‰      9.7 ‰  \n",
       "116     30.5 ‰      9.1 ‰  \n",
       "117     43.6 ‰     11.6 ‰  \n",
       "118     37.1 ‰     13.1 ‰  \n",
       "119     43.4 ‰     12.5 ‰  \n",
       "\n",
       "[120 rows x 5 columns]"
      ]
     },
     "execution_count": 4,
     "metadata": {},
     "output_type": "execute_result"
    }
   ],
   "source": [
    "df\n"
   ]
  },
  {
   "cell_type": "code",
   "execution_count": 5,
   "id": "7f48cbc3",
   "metadata": {},
   "outputs": [
    {
     "data": {
      "text/html": [
       "<div>\n",
       "<style scoped>\n",
       "    .dataframe tbody tr th:only-of-type {\n",
       "        vertical-align: middle;\n",
       "    }\n",
       "\n",
       "    .dataframe tbody tr th {\n",
       "        vertical-align: top;\n",
       "    }\n",
       "\n",
       "    .dataframe thead th {\n",
       "        text-align: right;\n",
       "    }\n",
       "</style>\n",
       "<table border=\"1\" class=\"dataframe\">\n",
       "  <thead>\n",
       "    <tr style=\"text-align: right;\">\n",
       "      <th></th>\n",
       "      <th>Country</th>\n",
       "      <th>Life expectancy males</th>\n",
       "      <th>Life expectancy females</th>\n",
       "      <th>Birth rate</th>\n",
       "      <th>Death rate</th>\n",
       "    </tr>\n",
       "  </thead>\n",
       "  <tbody>\n",
       "    <tr>\n",
       "      <th>0</th>\n",
       "      <td>Hong Kong *</td>\n",
       "      <td>83.2 years</td>\n",
       "      <td>87.9 years</td>\n",
       "      <td>5.0 ‰</td>\n",
       "      <td>6.9 ‰</td>\n",
       "    </tr>\n",
       "    <tr>\n",
       "      <th>1</th>\n",
       "      <td>Macao *</td>\n",
       "      <td>82.8 years</td>\n",
       "      <td>87.9 years</td>\n",
       "      <td>10.1 ‰</td>\n",
       "      <td>4.1 ‰</td>\n",
       "    </tr>\n",
       "    <tr>\n",
       "      <th>2</th>\n",
       "      <td>Switzerland</td>\n",
       "      <td>81.9 years</td>\n",
       "      <td>85.9 years</td>\n",
       "      <td>10.3 ‰</td>\n",
       "      <td>8.2 ‰</td>\n",
       "    </tr>\n",
       "    <tr>\n",
       "      <th>3</th>\n",
       "      <td>Iceland</td>\n",
       "      <td>81.8 years</td>\n",
       "      <td>84.5 years</td>\n",
       "      <td>13.1 ‰</td>\n",
       "      <td>6.3 ‰</td>\n",
       "    </tr>\n",
       "    <tr>\n",
       "      <th>4</th>\n",
       "      <td>Norway</td>\n",
       "      <td>81.7 years</td>\n",
       "      <td>84.7 years</td>\n",
       "      <td>10.4 ‰</td>\n",
       "      <td>7.8 ‰</td>\n",
       "    </tr>\n",
       "  </tbody>\n",
       "</table>\n",
       "</div>"
      ],
      "text/plain": [
       "       Country Life expectancy males Life expectancy females Birth rate  \\\n",
       "0  Hong Kong *            83.2 years              87.9 years      5.0 ‰   \n",
       "1      Macao *            82.8 years              87.9 years     10.1 ‰   \n",
       "2  Switzerland            81.9 years              85.9 years     10.3 ‰   \n",
       "3      Iceland            81.8 years              84.5 years     13.1 ‰   \n",
       "4       Norway            81.7 years              84.7 years     10.4 ‰   \n",
       "\n",
       "  Death rate  \n",
       "0      6.9 ‰  \n",
       "1      4.1 ‰  \n",
       "2      8.2 ‰  \n",
       "3      6.3 ‰  \n",
       "4      7.8 ‰  "
      ]
     },
     "execution_count": 5,
     "metadata": {},
     "output_type": "execute_result"
    }
   ],
   "source": [
    "df.head()"
   ]
  },
  {
   "cell_type": "code",
   "execution_count": 6,
   "id": "f428f738",
   "metadata": {
    "scrolled": true
   },
   "outputs": [
    {
     "data": {
      "text/html": [
       "<div>\n",
       "<style scoped>\n",
       "    .dataframe tbody tr th:only-of-type {\n",
       "        vertical-align: middle;\n",
       "    }\n",
       "\n",
       "    .dataframe tbody tr th {\n",
       "        vertical-align: top;\n",
       "    }\n",
       "\n",
       "    .dataframe thead th {\n",
       "        text-align: right;\n",
       "    }\n",
       "</style>\n",
       "<table border=\"1\" class=\"dataframe\">\n",
       "  <thead>\n",
       "    <tr style=\"text-align: right;\">\n",
       "      <th></th>\n",
       "      <th>Country</th>\n",
       "      <th>Life expectancy males</th>\n",
       "      <th>Life expectancy females</th>\n",
       "      <th>Birth rate</th>\n",
       "      <th>Death rate</th>\n",
       "    </tr>\n",
       "  </thead>\n",
       "  <tbody>\n",
       "    <tr>\n",
       "      <th>115</th>\n",
       "      <td>Congo (Dem. Republic)</td>\n",
       "      <td>57.0 years</td>\n",
       "      <td>61.5 years</td>\n",
       "      <td>42.0 ‰</td>\n",
       "      <td>9.7 ‰</td>\n",
       "    </tr>\n",
       "    <tr>\n",
       "      <th>116</th>\n",
       "      <td>Zimbabwe</td>\n",
       "      <td>56.2 years</td>\n",
       "      <td>62.0 years</td>\n",
       "      <td>30.5 ‰</td>\n",
       "      <td>9.1 ‰</td>\n",
       "    </tr>\n",
       "    <tr>\n",
       "      <th>117</th>\n",
       "      <td>Somalia</td>\n",
       "      <td>53.2 years</td>\n",
       "      <td>57.4 years</td>\n",
       "      <td>43.6 ‰</td>\n",
       "      <td>11.6 ‰</td>\n",
       "    </tr>\n",
       "    <tr>\n",
       "      <th>118</th>\n",
       "      <td>Nigeria</td>\n",
       "      <td>52.3 years</td>\n",
       "      <td>53.1 years</td>\n",
       "      <td>37.1 ‰</td>\n",
       "      <td>13.1 ‰</td>\n",
       "    </tr>\n",
       "    <tr>\n",
       "      <th>119</th>\n",
       "      <td>Chad</td>\n",
       "      <td>50.8 years</td>\n",
       "      <td>54.3 years</td>\n",
       "      <td>43.4 ‰</td>\n",
       "      <td>12.5 ‰</td>\n",
       "    </tr>\n",
       "  </tbody>\n",
       "</table>\n",
       "</div>"
      ],
      "text/plain": [
       "                   Country Life expectancy males Life expectancy females  \\\n",
       "115  Congo (Dem. Republic)            57.0 years              61.5 years   \n",
       "116               Zimbabwe            56.2 years              62.0 years   \n",
       "117                Somalia            53.2 years              57.4 years   \n",
       "118                Nigeria            52.3 years              53.1 years   \n",
       "119                   Chad            50.8 years              54.3 years   \n",
       "\n",
       "    Birth rate Death rate  \n",
       "115     42.0 ‰      9.7 ‰  \n",
       "116     30.5 ‰      9.1 ‰  \n",
       "117     43.6 ‰     11.6 ‰  \n",
       "118     37.1 ‰     13.1 ‰  \n",
       "119     43.4 ‰     12.5 ‰  "
      ]
     },
     "execution_count": 6,
     "metadata": {},
     "output_type": "execute_result"
    }
   ],
   "source": [
    "df.tail()"
   ]
  },
  {
   "cell_type": "code",
   "execution_count": 7,
   "id": "9a2e8eb6",
   "metadata": {},
   "outputs": [
    {
     "name": "stdout",
     "output_type": "stream",
     "text": [
      "<class 'pandas.core.frame.DataFrame'>\n",
      "RangeIndex: 120 entries, 0 to 119\n",
      "Data columns (total 5 columns):\n",
      " #   Column                   Non-Null Count  Dtype \n",
      "---  ------                   --------------  ----- \n",
      " 0   Country                  120 non-null    object\n",
      " 1   Life expectancy males    120 non-null    object\n",
      " 2   Life expectancy females  120 non-null    object\n",
      " 3   Birth rate               120 non-null    object\n",
      " 4   Death rate               120 non-null    object\n",
      "dtypes: object(5)\n",
      "memory usage: 4.8+ KB\n"
     ]
    }
   ],
   "source": [
    "df.info()"
   ]
  },
  {
   "cell_type": "code",
   "execution_count": 8,
   "id": "7a95fd66",
   "metadata": {},
   "outputs": [
    {
     "data": {
      "text/plain": [
       "0                Hong Kong *\n",
       "1                    Macao *\n",
       "2                Switzerland\n",
       "3                    Iceland\n",
       "4                     Norway\n",
       "               ...          \n",
       "115    Congo (Dem. Republic)\n",
       "116                 Zimbabwe\n",
       "117                  Somalia\n",
       "118                  Nigeria\n",
       "119                     Chad\n",
       "Name: Country, Length: 120, dtype: object"
      ]
     },
     "execution_count": 8,
     "metadata": {},
     "output_type": "execute_result"
    }
   ],
   "source": [
    "df[\"Country\"]"
   ]
  },
  {
   "cell_type": "code",
   "execution_count": 9,
   "id": "46c901af",
   "metadata": {},
   "outputs": [
    {
     "name": "stdout",
     "output_type": "stream",
     "text": [
      "<class 'pandas.core.series.Series'>\n",
      "RangeIndex: 120 entries, 0 to 119\n",
      "Series name: Country\n",
      "Non-Null Count  Dtype \n",
      "--------------  ----- \n",
      "120 non-null    object\n",
      "dtypes: object(1)\n",
      "memory usage: 1.1+ KB\n"
     ]
    }
   ],
   "source": [
    "df[\"Country\"].info()"
   ]
  },
  {
   "cell_type": "code",
   "execution_count": 10,
   "id": "5f214d9e",
   "metadata": {},
   "outputs": [
    {
     "data": {
      "text/html": [
       "<div>\n",
       "<style scoped>\n",
       "    .dataframe tbody tr th:only-of-type {\n",
       "        vertical-align: middle;\n",
       "    }\n",
       "\n",
       "    .dataframe tbody tr th {\n",
       "        vertical-align: top;\n",
       "    }\n",
       "\n",
       "    .dataframe thead th {\n",
       "        text-align: right;\n",
       "    }\n",
       "</style>\n",
       "<table border=\"1\" class=\"dataframe\">\n",
       "  <thead>\n",
       "    <tr style=\"text-align: right;\">\n",
       "      <th></th>\n",
       "      <th>Country</th>\n",
       "    </tr>\n",
       "  </thead>\n",
       "  <tbody>\n",
       "    <tr>\n",
       "      <th>0</th>\n",
       "      <td>Hong Kong *</td>\n",
       "    </tr>\n",
       "    <tr>\n",
       "      <th>1</th>\n",
       "      <td>Macao *</td>\n",
       "    </tr>\n",
       "    <tr>\n",
       "      <th>2</th>\n",
       "      <td>Switzerland</td>\n",
       "    </tr>\n",
       "    <tr>\n",
       "      <th>3</th>\n",
       "      <td>Iceland</td>\n",
       "    </tr>\n",
       "    <tr>\n",
       "      <th>4</th>\n",
       "      <td>Norway</td>\n",
       "    </tr>\n",
       "    <tr>\n",
       "      <th>...</th>\n",
       "      <td>...</td>\n",
       "    </tr>\n",
       "    <tr>\n",
       "      <th>115</th>\n",
       "      <td>Congo (Dem. Republic)</td>\n",
       "    </tr>\n",
       "    <tr>\n",
       "      <th>116</th>\n",
       "      <td>Zimbabwe</td>\n",
       "    </tr>\n",
       "    <tr>\n",
       "      <th>117</th>\n",
       "      <td>Somalia</td>\n",
       "    </tr>\n",
       "    <tr>\n",
       "      <th>118</th>\n",
       "      <td>Nigeria</td>\n",
       "    </tr>\n",
       "    <tr>\n",
       "      <th>119</th>\n",
       "      <td>Chad</td>\n",
       "    </tr>\n",
       "  </tbody>\n",
       "</table>\n",
       "<p>120 rows × 1 columns</p>\n",
       "</div>"
      ],
      "text/plain": [
       "                   Country\n",
       "0              Hong Kong *\n",
       "1                  Macao *\n",
       "2              Switzerland\n",
       "3                  Iceland\n",
       "4                   Norway\n",
       "..                     ...\n",
       "115  Congo (Dem. Republic)\n",
       "116               Zimbabwe\n",
       "117                Somalia\n",
       "118                Nigeria\n",
       "119                   Chad\n",
       "\n",
       "[120 rows x 1 columns]"
      ]
     },
     "execution_count": 10,
     "metadata": {},
     "output_type": "execute_result"
    }
   ],
   "source": [
    "df[[\"Country\"]]"
   ]
  },
  {
   "cell_type": "code",
   "execution_count": 11,
   "id": "ee3c834d",
   "metadata": {},
   "outputs": [
    {
     "name": "stdout",
     "output_type": "stream",
     "text": [
      "<class 'pandas.core.frame.DataFrame'>\n",
      "RangeIndex: 120 entries, 0 to 119\n",
      "Data columns (total 1 columns):\n",
      " #   Column   Non-Null Count  Dtype \n",
      "---  ------   --------------  ----- \n",
      " 0   Country  120 non-null    object\n",
      "dtypes: object(1)\n",
      "memory usage: 1.1+ KB\n"
     ]
    }
   ],
   "source": [
    "df[[\"Country\"]].info()"
   ]
  },
  {
   "cell_type": "code",
   "execution_count": 12,
   "id": "8e874a30",
   "metadata": {},
   "outputs": [
    {
     "name": "stdout",
     "output_type": "stream",
     "text": [
      "<class 'pandas.core.series.Series'>\n",
      "RangeIndex: 120 entries, 0 to 119\n",
      "Series name: Country\n",
      "Non-Null Count  Dtype \n",
      "--------------  ----- \n",
      "120 non-null    object\n",
      "dtypes: object(1)\n",
      "memory usage: 1.1+ KB\n"
     ]
    }
   ],
   "source": [
    "df[\"Country\"].info()"
   ]
  },
  {
   "cell_type": "code",
   "execution_count": 13,
   "id": "d27082cd",
   "metadata": {},
   "outputs": [
    {
     "data": {
      "text/plain": [
       "Country                      Zimbabwe\n",
       "Life expectancy males      83.2 years\n",
       "Life expectancy females    87.9 years\n",
       "Birth rate                      9.8 ‰\n",
       "Death rate                      9.9 ‰\n",
       "dtype: object"
      ]
     },
     "execution_count": 13,
     "metadata": {},
     "output_type": "execute_result"
    }
   ],
   "source": [
    "df.max()"
   ]
  },
  {
   "cell_type": "code",
   "execution_count": 14,
   "id": "ed98390c",
   "metadata": {},
   "outputs": [
    {
     "data": {
      "text/plain": [
       "Country                    Afghanistan\n",
       "Life expectancy males       50.8 years\n",
       "Life expectancy females     53.1 years\n",
       "Birth rate                      10.0 ‰\n",
       "Death rate                       1.3 ‰\n",
       "dtype: object"
      ]
     },
     "execution_count": 14,
     "metadata": {},
     "output_type": "execute_result"
    }
   ],
   "source": [
    "df.min()"
   ]
  },
  {
   "cell_type": "markdown",
   "id": "ee73e452",
   "metadata": {},
   "source": [
    "# Data Cleaning "
   ]
  },
  {
   "cell_type": "markdown",
   "id": "ff0e0ebb",
   "metadata": {},
   "source": [
    "## Country"
   ]
  },
  {
   "cell_type": "code",
   "execution_count": 15,
   "id": "67e7190a",
   "metadata": {},
   "outputs": [
    {
     "name": "stdout",
     "output_type": "stream",
     "text": [
      "<class 'pandas.core.frame.DataFrame'>\n",
      "RangeIndex: 120 entries, 0 to 119\n",
      "Data columns (total 5 columns):\n",
      " #   Column                   Non-Null Count  Dtype \n",
      "---  ------                   --------------  ----- \n",
      " 0   Country                  120 non-null    object\n",
      " 1   Life expectancy males    120 non-null    object\n",
      " 2   Life expectancy females  120 non-null    object\n",
      " 3   Birth rate               120 non-null    object\n",
      " 4   Death rate               120 non-null    object\n",
      "dtypes: object(5)\n",
      "memory usage: 4.8+ KB\n"
     ]
    }
   ],
   "source": [
    "df.info()"
   ]
  },
  {
   "cell_type": "code",
   "execution_count": 16,
   "id": "2bb3ca2b",
   "metadata": {},
   "outputs": [
    {
     "data": {
      "text/plain": [
       "0                Hong Kong *\n",
       "1                    Macao *\n",
       "2                Switzerland\n",
       "3                    Iceland\n",
       "4                     Norway\n",
       "               ...          \n",
       "115    Congo (Dem. Republic)\n",
       "116                 Zimbabwe\n",
       "117                  Somalia\n",
       "118                  Nigeria\n",
       "119                     Chad\n",
       "Name: Country, Length: 120, dtype: object"
      ]
     },
     "execution_count": 16,
     "metadata": {},
     "output_type": "execute_result"
    }
   ],
   "source": [
    "df[\"Country\"]"
   ]
  },
  {
   "cell_type": "code",
   "execution_count": 17,
   "id": "b97473b8",
   "metadata": {},
   "outputs": [
    {
     "data": {
      "text/html": [
       "<div>\n",
       "<style scoped>\n",
       "    .dataframe tbody tr th:only-of-type {\n",
       "        vertical-align: middle;\n",
       "    }\n",
       "\n",
       "    .dataframe tbody tr th {\n",
       "        vertical-align: top;\n",
       "    }\n",
       "\n",
       "    .dataframe thead th {\n",
       "        text-align: right;\n",
       "    }\n",
       "</style>\n",
       "<table border=\"1\" class=\"dataframe\">\n",
       "  <thead>\n",
       "    <tr style=\"text-align: right;\">\n",
       "      <th></th>\n",
       "      <th>Country</th>\n",
       "    </tr>\n",
       "  </thead>\n",
       "  <tbody>\n",
       "    <tr>\n",
       "      <th>0</th>\n",
       "      <td>Hong Kong *</td>\n",
       "    </tr>\n",
       "    <tr>\n",
       "      <th>1</th>\n",
       "      <td>Macao *</td>\n",
       "    </tr>\n",
       "    <tr>\n",
       "      <th>2</th>\n",
       "      <td>Switzerland</td>\n",
       "    </tr>\n",
       "    <tr>\n",
       "      <th>3</th>\n",
       "      <td>Iceland</td>\n",
       "    </tr>\n",
       "    <tr>\n",
       "      <th>4</th>\n",
       "      <td>Norway</td>\n",
       "    </tr>\n",
       "    <tr>\n",
       "      <th>...</th>\n",
       "      <td>...</td>\n",
       "    </tr>\n",
       "    <tr>\n",
       "      <th>115</th>\n",
       "      <td>Congo (Dem. Republic)</td>\n",
       "    </tr>\n",
       "    <tr>\n",
       "      <th>116</th>\n",
       "      <td>Zimbabwe</td>\n",
       "    </tr>\n",
       "    <tr>\n",
       "      <th>117</th>\n",
       "      <td>Somalia</td>\n",
       "    </tr>\n",
       "    <tr>\n",
       "      <th>118</th>\n",
       "      <td>Nigeria</td>\n",
       "    </tr>\n",
       "    <tr>\n",
       "      <th>119</th>\n",
       "      <td>Chad</td>\n",
       "    </tr>\n",
       "  </tbody>\n",
       "</table>\n",
       "<p>120 rows × 1 columns</p>\n",
       "</div>"
      ],
      "text/plain": [
       "                   Country\n",
       "0              Hong Kong *\n",
       "1                  Macao *\n",
       "2              Switzerland\n",
       "3                  Iceland\n",
       "4                   Norway\n",
       "..                     ...\n",
       "115  Congo (Dem. Republic)\n",
       "116               Zimbabwe\n",
       "117                Somalia\n",
       "118                Nigeria\n",
       "119                   Chad\n",
       "\n",
       "[120 rows x 1 columns]"
      ]
     },
     "execution_count": 17,
     "metadata": {},
     "output_type": "execute_result"
    }
   ],
   "source": [
    "df[[\"Country\"]]"
   ]
  },
  {
   "cell_type": "markdown",
   "id": "c256af83",
   "metadata": {},
   "source": [
    "Convert this to string datatype "
   ]
  },
  {
   "cell_type": "code",
   "execution_count": 18,
   "id": "2a911dc2",
   "metadata": {},
   "outputs": [
    {
     "data": {
      "text/html": [
       "<div>\n",
       "<style scoped>\n",
       "    .dataframe tbody tr th:only-of-type {\n",
       "        vertical-align: middle;\n",
       "    }\n",
       "\n",
       "    .dataframe tbody tr th {\n",
       "        vertical-align: top;\n",
       "    }\n",
       "\n",
       "    .dataframe thead th {\n",
       "        text-align: right;\n",
       "    }\n",
       "</style>\n",
       "<table border=\"1\" class=\"dataframe\">\n",
       "  <thead>\n",
       "    <tr style=\"text-align: right;\">\n",
       "      <th></th>\n",
       "      <th>Country</th>\n",
       "      <th>Life expectancy males</th>\n",
       "      <th>Life expectancy females</th>\n",
       "      <th>Birth rate</th>\n",
       "      <th>Death rate</th>\n",
       "    </tr>\n",
       "  </thead>\n",
       "  <tbody>\n",
       "    <tr>\n",
       "      <th>count</th>\n",
       "      <td>120</td>\n",
       "      <td>120</td>\n",
       "      <td>120</td>\n",
       "      <td>120</td>\n",
       "      <td>120</td>\n",
       "    </tr>\n",
       "    <tr>\n",
       "      <th>unique</th>\n",
       "      <td>120</td>\n",
       "      <td>100</td>\n",
       "      <td>98</td>\n",
       "      <td>96</td>\n",
       "      <td>82</td>\n",
       "    </tr>\n",
       "    <tr>\n",
       "      <th>top</th>\n",
       "      <td>Hong Kong *</td>\n",
       "      <td>66.1 years</td>\n",
       "      <td>76.4 years</td>\n",
       "      <td>9.6 ‰</td>\n",
       "      <td>6.8 ‰</td>\n",
       "    </tr>\n",
       "    <tr>\n",
       "      <th>freq</th>\n",
       "      <td>1</td>\n",
       "      <td>3</td>\n",
       "      <td>3</td>\n",
       "      <td>4</td>\n",
       "      <td>5</td>\n",
       "    </tr>\n",
       "  </tbody>\n",
       "</table>\n",
       "</div>"
      ],
      "text/plain": [
       "            Country Life expectancy males Life expectancy females Birth rate  \\\n",
       "count           120                   120                     120        120   \n",
       "unique          120                   100                      98         96   \n",
       "top     Hong Kong *            66.1 years              76.4 years      9.6 ‰   \n",
       "freq              1                     3                       3          4   \n",
       "\n",
       "       Death rate  \n",
       "count         120  \n",
       "unique         82  \n",
       "top         6.8 ‰  \n",
       "freq            5  "
      ]
     },
     "execution_count": 18,
     "metadata": {},
     "output_type": "execute_result"
    }
   ],
   "source": [
    "df.describe()"
   ]
  },
  {
   "cell_type": "code",
   "execution_count": 19,
   "id": "afbd853a",
   "metadata": {},
   "outputs": [
    {
     "data": {
      "text/plain": [
       "0                Hong Kong *\n",
       "1                    Macao *\n",
       "2                Switzerland\n",
       "3                    Iceland\n",
       "4                     Norway\n",
       "               ...          \n",
       "115    Congo (Dem. Republic)\n",
       "116                 Zimbabwe\n",
       "117                  Somalia\n",
       "118                  Nigeria\n",
       "119                     Chad\n",
       "Name: Country, Length: 120, dtype: string"
      ]
     },
     "execution_count": 19,
     "metadata": {},
     "output_type": "execute_result"
    }
   ],
   "source": [
    "df[\"Country\"].astype(\"string\")"
   ]
  },
  {
   "cell_type": "code",
   "execution_count": 20,
   "id": "641f22ba",
   "metadata": {},
   "outputs": [],
   "source": [
    "df[\"Country\"] = df[\"Country\"].astype(\"string\")"
   ]
  },
  {
   "cell_type": "code",
   "execution_count": 21,
   "id": "74f57990",
   "metadata": {},
   "outputs": [
    {
     "name": "stdout",
     "output_type": "stream",
     "text": [
      "<class 'pandas.core.frame.DataFrame'>\n",
      "RangeIndex: 120 entries, 0 to 119\n",
      "Data columns (total 5 columns):\n",
      " #   Column                   Non-Null Count  Dtype \n",
      "---  ------                   --------------  ----- \n",
      " 0   Country                  120 non-null    string\n",
      " 1   Life expectancy males    120 non-null    object\n",
      " 2   Life expectancy females  120 non-null    object\n",
      " 3   Birth rate               120 non-null    object\n",
      " 4   Death rate               120 non-null    object\n",
      "dtypes: object(4), string(1)\n",
      "memory usage: 4.8+ KB\n"
     ]
    }
   ],
   "source": [
    "df.info()"
   ]
  },
  {
   "cell_type": "code",
   "execution_count": 22,
   "id": "3c600eeb",
   "metadata": {},
   "outputs": [
    {
     "data": {
      "text/plain": [
       "0                Hong Kong *\n",
       "1                    Macao *\n",
       "2                Switzerland\n",
       "3                    Iceland\n",
       "4                     Norway\n",
       "               ...          \n",
       "115    Congo (Dem. Republic)\n",
       "116                 Zimbabwe\n",
       "117                  Somalia\n",
       "118                  Nigeria\n",
       "119                     Chad\n",
       "Name: Country, Length: 120, dtype: string"
      ]
     },
     "execution_count": 22,
     "metadata": {},
     "output_type": "execute_result"
    }
   ],
   "source": [
    "df[\"Country\"]"
   ]
  },
  {
   "cell_type": "code",
   "execution_count": 23,
   "id": "23ddee3a",
   "metadata": {},
   "outputs": [],
   "source": [
    "df[\"Country\"] = df[\"Country\"].str.strip(to_strip = \" \")"
   ]
  },
  {
   "cell_type": "code",
   "execution_count": 24,
   "id": "fb6681f1",
   "metadata": {},
   "outputs": [
    {
     "data": {
      "text/plain": [
       "0                Hong Kong *\n",
       "1                    Macao *\n",
       "2                Switzerland\n",
       "3                    Iceland\n",
       "4                     Norway\n",
       "               ...          \n",
       "115    Congo (Dem. Republic)\n",
       "116                 Zimbabwe\n",
       "117                  Somalia\n",
       "118                  Nigeria\n",
       "119                     Chad\n",
       "Name: Country, Length: 120, dtype: string"
      ]
     },
     "execution_count": 24,
     "metadata": {},
     "output_type": "execute_result"
    }
   ],
   "source": [
    "df[\"Country\"]"
   ]
  },
  {
   "cell_type": "markdown",
   "id": "dfc0c61b",
   "metadata": {},
   "source": [
    "## Finding Null Values"
   ]
  },
  {
   "cell_type": "code",
   "execution_count": 25,
   "id": "9cc3e5de",
   "metadata": {},
   "outputs": [
    {
     "name": "stdout",
     "output_type": "stream",
     "text": [
      "<class 'pandas.core.frame.DataFrame'>\n",
      "RangeIndex: 120 entries, 0 to 119\n",
      "Data columns (total 5 columns):\n",
      " #   Column                   Non-Null Count  Dtype \n",
      "---  ------                   --------------  ----- \n",
      " 0   Country                  120 non-null    string\n",
      " 1   Life expectancy males    120 non-null    object\n",
      " 2   Life expectancy females  120 non-null    object\n",
      " 3   Birth rate               120 non-null    object\n",
      " 4   Death rate               120 non-null    object\n",
      "dtypes: object(4), string(1)\n",
      "memory usage: 4.8+ KB\n"
     ]
    }
   ],
   "source": [
    "df.info()"
   ]
  },
  {
   "cell_type": "code",
   "execution_count": 26,
   "id": "e690a339",
   "metadata": {},
   "outputs": [
    {
     "data": {
      "text/html": [
       "<div>\n",
       "<style scoped>\n",
       "    .dataframe tbody tr th:only-of-type {\n",
       "        vertical-align: middle;\n",
       "    }\n",
       "\n",
       "    .dataframe tbody tr th {\n",
       "        vertical-align: top;\n",
       "    }\n",
       "\n",
       "    .dataframe thead th {\n",
       "        text-align: right;\n",
       "    }\n",
       "</style>\n",
       "<table border=\"1\" class=\"dataframe\">\n",
       "  <thead>\n",
       "    <tr style=\"text-align: right;\">\n",
       "      <th></th>\n",
       "      <th>Country</th>\n",
       "      <th>Life expectancy males</th>\n",
       "      <th>Life expectancy females</th>\n",
       "      <th>Birth rate</th>\n",
       "      <th>Death rate</th>\n",
       "    </tr>\n",
       "  </thead>\n",
       "  <tbody>\n",
       "  </tbody>\n",
       "</table>\n",
       "</div>"
      ],
      "text/plain": [
       "Empty DataFrame\n",
       "Columns: [Country, Life expectancy males, Life expectancy females, Birth rate, Death rate]\n",
       "Index: []"
      ]
     },
     "execution_count": 26,
     "metadata": {},
     "output_type": "execute_result"
    }
   ],
   "source": [
    "df[df[\"Country\"].isna()]"
   ]
  },
  {
   "cell_type": "code",
   "execution_count": 27,
   "id": "830172b1",
   "metadata": {},
   "outputs": [
    {
     "data": {
      "text/html": [
       "<div>\n",
       "<style scoped>\n",
       "    .dataframe tbody tr th:only-of-type {\n",
       "        vertical-align: middle;\n",
       "    }\n",
       "\n",
       "    .dataframe tbody tr th {\n",
       "        vertical-align: top;\n",
       "    }\n",
       "\n",
       "    .dataframe thead th {\n",
       "        text-align: right;\n",
       "    }\n",
       "</style>\n",
       "<table border=\"1\" class=\"dataframe\">\n",
       "  <thead>\n",
       "    <tr style=\"text-align: right;\">\n",
       "      <th></th>\n",
       "      <th>Country</th>\n",
       "      <th>Life expectancy males</th>\n",
       "      <th>Life expectancy females</th>\n",
       "      <th>Birth rate</th>\n",
       "      <th>Death rate</th>\n",
       "    </tr>\n",
       "  </thead>\n",
       "  <tbody>\n",
       "  </tbody>\n",
       "</table>\n",
       "</div>"
      ],
      "text/plain": [
       "Empty DataFrame\n",
       "Columns: [Country, Life expectancy males, Life expectancy females, Birth rate, Death rate]\n",
       "Index: []"
      ]
     },
     "execution_count": 27,
     "metadata": {},
     "output_type": "execute_result"
    }
   ],
   "source": [
    "df[df[\"Life expectancy males\"].isna()]"
   ]
  },
  {
   "cell_type": "code",
   "execution_count": 28,
   "id": "4e02f9f9",
   "metadata": {},
   "outputs": [
    {
     "data": {
      "text/html": [
       "<div>\n",
       "<style scoped>\n",
       "    .dataframe tbody tr th:only-of-type {\n",
       "        vertical-align: middle;\n",
       "    }\n",
       "\n",
       "    .dataframe tbody tr th {\n",
       "        vertical-align: top;\n",
       "    }\n",
       "\n",
       "    .dataframe thead th {\n",
       "        text-align: right;\n",
       "    }\n",
       "</style>\n",
       "<table border=\"1\" class=\"dataframe\">\n",
       "  <thead>\n",
       "    <tr style=\"text-align: right;\">\n",
       "      <th></th>\n",
       "      <th>Country</th>\n",
       "      <th>Life expectancy males</th>\n",
       "      <th>Life expectancy females</th>\n",
       "      <th>Birth rate</th>\n",
       "      <th>Death rate</th>\n",
       "    </tr>\n",
       "  </thead>\n",
       "  <tbody>\n",
       "  </tbody>\n",
       "</table>\n",
       "</div>"
      ],
      "text/plain": [
       "Empty DataFrame\n",
       "Columns: [Country, Life expectancy males, Life expectancy females, Birth rate, Death rate]\n",
       "Index: []"
      ]
     },
     "execution_count": 28,
     "metadata": {},
     "output_type": "execute_result"
    }
   ],
   "source": [
    "df[df[\"Life expectancy females\"].isna()]"
   ]
  },
  {
   "cell_type": "code",
   "execution_count": 29,
   "id": "f3f420ee",
   "metadata": {},
   "outputs": [
    {
     "data": {
      "text/html": [
       "<div>\n",
       "<style scoped>\n",
       "    .dataframe tbody tr th:only-of-type {\n",
       "        vertical-align: middle;\n",
       "    }\n",
       "\n",
       "    .dataframe tbody tr th {\n",
       "        vertical-align: top;\n",
       "    }\n",
       "\n",
       "    .dataframe thead th {\n",
       "        text-align: right;\n",
       "    }\n",
       "</style>\n",
       "<table border=\"1\" class=\"dataframe\">\n",
       "  <thead>\n",
       "    <tr style=\"text-align: right;\">\n",
       "      <th></th>\n",
       "      <th>Country</th>\n",
       "      <th>Life expectancy males</th>\n",
       "      <th>Life expectancy females</th>\n",
       "      <th>Birth rate</th>\n",
       "      <th>Death rate</th>\n",
       "    </tr>\n",
       "  </thead>\n",
       "  <tbody>\n",
       "  </tbody>\n",
       "</table>\n",
       "</div>"
      ],
      "text/plain": [
       "Empty DataFrame\n",
       "Columns: [Country, Life expectancy males, Life expectancy females, Birth rate, Death rate]\n",
       "Index: []"
      ]
     },
     "execution_count": 29,
     "metadata": {},
     "output_type": "execute_result"
    }
   ],
   "source": [
    "df[df[\"Birth rate\"].isna()]"
   ]
  },
  {
   "cell_type": "code",
   "execution_count": 30,
   "id": "074448aa",
   "metadata": {},
   "outputs": [
    {
     "data": {
      "text/html": [
       "<div>\n",
       "<style scoped>\n",
       "    .dataframe tbody tr th:only-of-type {\n",
       "        vertical-align: middle;\n",
       "    }\n",
       "\n",
       "    .dataframe tbody tr th {\n",
       "        vertical-align: top;\n",
       "    }\n",
       "\n",
       "    .dataframe thead th {\n",
       "        text-align: right;\n",
       "    }\n",
       "</style>\n",
       "<table border=\"1\" class=\"dataframe\">\n",
       "  <thead>\n",
       "    <tr style=\"text-align: right;\">\n",
       "      <th></th>\n",
       "      <th>Country</th>\n",
       "      <th>Life expectancy males</th>\n",
       "      <th>Life expectancy females</th>\n",
       "      <th>Birth rate</th>\n",
       "      <th>Death rate</th>\n",
       "    </tr>\n",
       "  </thead>\n",
       "  <tbody>\n",
       "  </tbody>\n",
       "</table>\n",
       "</div>"
      ],
      "text/plain": [
       "Empty DataFrame\n",
       "Columns: [Country, Life expectancy males, Life expectancy females, Birth rate, Death rate]\n",
       "Index: []"
      ]
     },
     "execution_count": 30,
     "metadata": {},
     "output_type": "execute_result"
    }
   ],
   "source": [
    "df[df[\"Death rate\"].isna()]"
   ]
  },
  {
   "cell_type": "markdown",
   "id": "56c9addc",
   "metadata": {},
   "source": [
    "## Changing Values 0 and 1"
   ]
  },
  {
   "cell_type": "code",
   "execution_count": 31,
   "id": "f9d2fc14",
   "metadata": {},
   "outputs": [
    {
     "data": {
      "text/html": [
       "<div>\n",
       "<style scoped>\n",
       "    .dataframe tbody tr th:only-of-type {\n",
       "        vertical-align: middle;\n",
       "    }\n",
       "\n",
       "    .dataframe tbody tr th {\n",
       "        vertical-align: top;\n",
       "    }\n",
       "\n",
       "    .dataframe thead th {\n",
       "        text-align: right;\n",
       "    }\n",
       "</style>\n",
       "<table border=\"1\" class=\"dataframe\">\n",
       "  <thead>\n",
       "    <tr style=\"text-align: right;\">\n",
       "      <th></th>\n",
       "      <th>Country</th>\n",
       "    </tr>\n",
       "  </thead>\n",
       "  <tbody>\n",
       "    <tr>\n",
       "      <th>0</th>\n",
       "      <td>Hong Kong</td>\n",
       "    </tr>\n",
       "  </tbody>\n",
       "</table>\n",
       "</div>"
      ],
      "text/plain": [
       "     Country\n",
       "0  Hong Kong"
      ]
     },
     "execution_count": 31,
     "metadata": {},
     "output_type": "execute_result"
    }
   ],
   "source": [
    "df.loc[[0], [\"Country\"]] = \"Hong Kong\"\n",
    "df.loc[[0], [\"Country\"]]"
   ]
  },
  {
   "cell_type": "code",
   "execution_count": 32,
   "id": "9e5516d9",
   "metadata": {},
   "outputs": [
    {
     "data": {
      "text/html": [
       "<div>\n",
       "<style scoped>\n",
       "    .dataframe tbody tr th:only-of-type {\n",
       "        vertical-align: middle;\n",
       "    }\n",
       "\n",
       "    .dataframe tbody tr th {\n",
       "        vertical-align: top;\n",
       "    }\n",
       "\n",
       "    .dataframe thead th {\n",
       "        text-align: right;\n",
       "    }\n",
       "</style>\n",
       "<table border=\"1\" class=\"dataframe\">\n",
       "  <thead>\n",
       "    <tr style=\"text-align: right;\">\n",
       "      <th></th>\n",
       "      <th>Country</th>\n",
       "    </tr>\n",
       "  </thead>\n",
       "  <tbody>\n",
       "    <tr>\n",
       "      <th>1</th>\n",
       "      <td>Macao</td>\n",
       "    </tr>\n",
       "  </tbody>\n",
       "</table>\n",
       "</div>"
      ],
      "text/plain": [
       "  Country\n",
       "1   Macao"
      ]
     },
     "execution_count": 32,
     "metadata": {},
     "output_type": "execute_result"
    }
   ],
   "source": [
    "df.loc[[1], [\"Country\"]] = \"Macao\"\n",
    "df.loc[[1], [\"Country\"]]"
   ]
  },
  {
   "cell_type": "code",
   "execution_count": 33,
   "id": "a2cd2c94",
   "metadata": {},
   "outputs": [
    {
     "data": {
      "text/html": [
       "<div>\n",
       "<style scoped>\n",
       "    .dataframe tbody tr th:only-of-type {\n",
       "        vertical-align: middle;\n",
       "    }\n",
       "\n",
       "    .dataframe tbody tr th {\n",
       "        vertical-align: top;\n",
       "    }\n",
       "\n",
       "    .dataframe thead th {\n",
       "        text-align: right;\n",
       "    }\n",
       "</style>\n",
       "<table border=\"1\" class=\"dataframe\">\n",
       "  <thead>\n",
       "    <tr style=\"text-align: right;\">\n",
       "      <th></th>\n",
       "      <th>Country</th>\n",
       "      <th>Life expectancy males</th>\n",
       "      <th>Life expectancy females</th>\n",
       "      <th>Birth rate</th>\n",
       "      <th>Death rate</th>\n",
       "    </tr>\n",
       "  </thead>\n",
       "  <tbody>\n",
       "    <tr>\n",
       "      <th>0</th>\n",
       "      <td>Hong Kong</td>\n",
       "      <td>83.2 years</td>\n",
       "      <td>87.9 years</td>\n",
       "      <td>5.0 ‰</td>\n",
       "      <td>6.9 ‰</td>\n",
       "    </tr>\n",
       "    <tr>\n",
       "      <th>1</th>\n",
       "      <td>Macao</td>\n",
       "      <td>82.8 years</td>\n",
       "      <td>87.9 years</td>\n",
       "      <td>10.1 ‰</td>\n",
       "      <td>4.1 ‰</td>\n",
       "    </tr>\n",
       "    <tr>\n",
       "      <th>2</th>\n",
       "      <td>Switzerland</td>\n",
       "      <td>81.9 years</td>\n",
       "      <td>85.9 years</td>\n",
       "      <td>10.3 ‰</td>\n",
       "      <td>8.2 ‰</td>\n",
       "    </tr>\n",
       "    <tr>\n",
       "      <th>3</th>\n",
       "      <td>Iceland</td>\n",
       "      <td>81.8 years</td>\n",
       "      <td>84.5 years</td>\n",
       "      <td>13.1 ‰</td>\n",
       "      <td>6.3 ‰</td>\n",
       "    </tr>\n",
       "    <tr>\n",
       "      <th>4</th>\n",
       "      <td>Norway</td>\n",
       "      <td>81.7 years</td>\n",
       "      <td>84.7 years</td>\n",
       "      <td>10.4 ‰</td>\n",
       "      <td>7.8 ‰</td>\n",
       "    </tr>\n",
       "    <tr>\n",
       "      <th>...</th>\n",
       "      <td>...</td>\n",
       "      <td>...</td>\n",
       "      <td>...</td>\n",
       "      <td>...</td>\n",
       "      <td>...</td>\n",
       "    </tr>\n",
       "    <tr>\n",
       "      <th>115</th>\n",
       "      <td>Congo (Dem. Republic)</td>\n",
       "      <td>57.0 years</td>\n",
       "      <td>61.5 years</td>\n",
       "      <td>42.0 ‰</td>\n",
       "      <td>9.7 ‰</td>\n",
       "    </tr>\n",
       "    <tr>\n",
       "      <th>116</th>\n",
       "      <td>Zimbabwe</td>\n",
       "      <td>56.2 years</td>\n",
       "      <td>62.0 years</td>\n",
       "      <td>30.5 ‰</td>\n",
       "      <td>9.1 ‰</td>\n",
       "    </tr>\n",
       "    <tr>\n",
       "      <th>117</th>\n",
       "      <td>Somalia</td>\n",
       "      <td>53.2 years</td>\n",
       "      <td>57.4 years</td>\n",
       "      <td>43.6 ‰</td>\n",
       "      <td>11.6 ‰</td>\n",
       "    </tr>\n",
       "    <tr>\n",
       "      <th>118</th>\n",
       "      <td>Nigeria</td>\n",
       "      <td>52.3 years</td>\n",
       "      <td>53.1 years</td>\n",
       "      <td>37.1 ‰</td>\n",
       "      <td>13.1 ‰</td>\n",
       "    </tr>\n",
       "    <tr>\n",
       "      <th>119</th>\n",
       "      <td>Chad</td>\n",
       "      <td>50.8 years</td>\n",
       "      <td>54.3 years</td>\n",
       "      <td>43.4 ‰</td>\n",
       "      <td>12.5 ‰</td>\n",
       "    </tr>\n",
       "  </tbody>\n",
       "</table>\n",
       "<p>120 rows × 5 columns</p>\n",
       "</div>"
      ],
      "text/plain": [
       "                   Country Life expectancy males Life expectancy females  \\\n",
       "0                Hong Kong            83.2 years              87.9 years   \n",
       "1                    Macao            82.8 years              87.9 years   \n",
       "2              Switzerland            81.9 years              85.9 years   \n",
       "3                  Iceland            81.8 years              84.5 years   \n",
       "4                   Norway            81.7 years              84.7 years   \n",
       "..                     ...                   ...                     ...   \n",
       "115  Congo (Dem. Republic)            57.0 years              61.5 years   \n",
       "116               Zimbabwe            56.2 years              62.0 years   \n",
       "117                Somalia            53.2 years              57.4 years   \n",
       "118                Nigeria            52.3 years              53.1 years   \n",
       "119                   Chad            50.8 years              54.3 years   \n",
       "\n",
       "    Birth rate Death rate  \n",
       "0        5.0 ‰      6.9 ‰  \n",
       "1       10.1 ‰      4.1 ‰  \n",
       "2       10.3 ‰      8.2 ‰  \n",
       "3       13.1 ‰      6.3 ‰  \n",
       "4       10.4 ‰      7.8 ‰  \n",
       "..         ...        ...  \n",
       "115     42.0 ‰      9.7 ‰  \n",
       "116     30.5 ‰      9.1 ‰  \n",
       "117     43.6 ‰     11.6 ‰  \n",
       "118     37.1 ‰     13.1 ‰  \n",
       "119     43.4 ‰     12.5 ‰  \n",
       "\n",
       "[120 rows x 5 columns]"
      ]
     },
     "execution_count": 33,
     "metadata": {},
     "output_type": "execute_result"
    }
   ],
   "source": [
    "df"
   ]
  },
  {
   "cell_type": "markdown",
   "id": "c781776f",
   "metadata": {},
   "source": [
    "## Now changing Life Expectency For both males and females"
   ]
  },
  {
   "cell_type": "code",
   "execution_count": 34,
   "id": "9c65856f",
   "metadata": {},
   "outputs": [
    {
     "data": {
      "text/html": [
       "<div>\n",
       "<style scoped>\n",
       "    .dataframe tbody tr th:only-of-type {\n",
       "        vertical-align: middle;\n",
       "    }\n",
       "\n",
       "    .dataframe tbody tr th {\n",
       "        vertical-align: top;\n",
       "    }\n",
       "\n",
       "    .dataframe thead th {\n",
       "        text-align: right;\n",
       "    }\n",
       "</style>\n",
       "<table border=\"1\" class=\"dataframe\">\n",
       "  <thead>\n",
       "    <tr style=\"text-align: right;\">\n",
       "      <th></th>\n",
       "      <th>Country</th>\n",
       "      <th>Life expectancy males</th>\n",
       "      <th>Life expectancy females</th>\n",
       "      <th>Birth rate</th>\n",
       "      <th>Death rate</th>\n",
       "    </tr>\n",
       "  </thead>\n",
       "  <tbody>\n",
       "    <tr>\n",
       "      <th>0</th>\n",
       "      <td>Hong Kong</td>\n",
       "      <td>83.2 years</td>\n",
       "      <td>87.9 years</td>\n",
       "      <td>5.0 ‰</td>\n",
       "      <td>6.9 ‰</td>\n",
       "    </tr>\n",
       "    <tr>\n",
       "      <th>1</th>\n",
       "      <td>Macao</td>\n",
       "      <td>82.8 years</td>\n",
       "      <td>87.9 years</td>\n",
       "      <td>10.1 ‰</td>\n",
       "      <td>4.1 ‰</td>\n",
       "    </tr>\n",
       "    <tr>\n",
       "      <th>2</th>\n",
       "      <td>Switzerland</td>\n",
       "      <td>81.9 years</td>\n",
       "      <td>85.9 years</td>\n",
       "      <td>10.3 ‰</td>\n",
       "      <td>8.2 ‰</td>\n",
       "    </tr>\n",
       "    <tr>\n",
       "      <th>3</th>\n",
       "      <td>Iceland</td>\n",
       "      <td>81.8 years</td>\n",
       "      <td>84.5 years</td>\n",
       "      <td>13.1 ‰</td>\n",
       "      <td>6.3 ‰</td>\n",
       "    </tr>\n",
       "    <tr>\n",
       "      <th>4</th>\n",
       "      <td>Norway</td>\n",
       "      <td>81.7 years</td>\n",
       "      <td>84.7 years</td>\n",
       "      <td>10.4 ‰</td>\n",
       "      <td>7.8 ‰</td>\n",
       "    </tr>\n",
       "  </tbody>\n",
       "</table>\n",
       "</div>"
      ],
      "text/plain": [
       "       Country Life expectancy males Life expectancy females Birth rate  \\\n",
       "0    Hong Kong            83.2 years              87.9 years      5.0 ‰   \n",
       "1        Macao            82.8 years              87.9 years     10.1 ‰   \n",
       "2  Switzerland            81.9 years              85.9 years     10.3 ‰   \n",
       "3      Iceland            81.8 years              84.5 years     13.1 ‰   \n",
       "4       Norway            81.7 years              84.7 years     10.4 ‰   \n",
       "\n",
       "  Death rate  \n",
       "0      6.9 ‰  \n",
       "1      4.1 ‰  \n",
       "2      8.2 ‰  \n",
       "3      6.3 ‰  \n",
       "4      7.8 ‰  "
      ]
     },
     "execution_count": 34,
     "metadata": {},
     "output_type": "execute_result"
    }
   ],
   "source": [
    "df.head()"
   ]
  },
  {
   "cell_type": "code",
   "execution_count": 35,
   "id": "8c1823e6",
   "metadata": {},
   "outputs": [
    {
     "data": {
      "text/html": [
       "<div>\n",
       "<style scoped>\n",
       "    .dataframe tbody tr th:only-of-type {\n",
       "        vertical-align: middle;\n",
       "    }\n",
       "\n",
       "    .dataframe tbody tr th {\n",
       "        vertical-align: top;\n",
       "    }\n",
       "\n",
       "    .dataframe thead th {\n",
       "        text-align: right;\n",
       "    }\n",
       "</style>\n",
       "<table border=\"1\" class=\"dataframe\">\n",
       "  <thead>\n",
       "    <tr style=\"text-align: right;\">\n",
       "      <th></th>\n",
       "      <th>Country</th>\n",
       "      <th>Life expectancy males</th>\n",
       "      <th>Life expectancy females</th>\n",
       "      <th>Birth rate</th>\n",
       "      <th>Death rate</th>\n",
       "    </tr>\n",
       "  </thead>\n",
       "  <tbody>\n",
       "    <tr>\n",
       "      <th>0</th>\n",
       "      <td>Hong Kong</td>\n",
       "      <td>83.2 years</td>\n",
       "      <td>87.9 years</td>\n",
       "      <td>5.0 ‰</td>\n",
       "      <td>6.9 ‰</td>\n",
       "    </tr>\n",
       "    <tr>\n",
       "      <th>1</th>\n",
       "      <td>Macao</td>\n",
       "      <td>82.8 years</td>\n",
       "      <td>87.9 years</td>\n",
       "      <td>10.1 ‰</td>\n",
       "      <td>4.1 ‰</td>\n",
       "    </tr>\n",
       "    <tr>\n",
       "      <th>2</th>\n",
       "      <td>Switzerland</td>\n",
       "      <td>81.9 years</td>\n",
       "      <td>85.9 years</td>\n",
       "      <td>10.3 ‰</td>\n",
       "      <td>8.2 ‰</td>\n",
       "    </tr>\n",
       "    <tr>\n",
       "      <th>3</th>\n",
       "      <td>Iceland</td>\n",
       "      <td>81.8 years</td>\n",
       "      <td>84.5 years</td>\n",
       "      <td>13.1 ‰</td>\n",
       "      <td>6.3 ‰</td>\n",
       "    </tr>\n",
       "    <tr>\n",
       "      <th>4</th>\n",
       "      <td>This is the error</td>\n",
       "      <td>81.7 years</td>\n",
       "      <td>84.7 years</td>\n",
       "      <td>10.4 ‰</td>\n",
       "      <td>7.8 ‰</td>\n",
       "    </tr>\n",
       "    <tr>\n",
       "      <th>...</th>\n",
       "      <td>...</td>\n",
       "      <td>...</td>\n",
       "      <td>...</td>\n",
       "      <td>...</td>\n",
       "      <td>...</td>\n",
       "    </tr>\n",
       "    <tr>\n",
       "      <th>115</th>\n",
       "      <td>Congo (Dem. Republic)</td>\n",
       "      <td>57.0 years</td>\n",
       "      <td>61.5 years</td>\n",
       "      <td>42.0 ‰</td>\n",
       "      <td>9.7 ‰</td>\n",
       "    </tr>\n",
       "    <tr>\n",
       "      <th>116</th>\n",
       "      <td>Zimbabwe</td>\n",
       "      <td>56.2 years</td>\n",
       "      <td>62.0 years</td>\n",
       "      <td>30.5 ‰</td>\n",
       "      <td>9.1 ‰</td>\n",
       "    </tr>\n",
       "    <tr>\n",
       "      <th>117</th>\n",
       "      <td>Somalia</td>\n",
       "      <td>53.2 years</td>\n",
       "      <td>57.4 years</td>\n",
       "      <td>43.6 ‰</td>\n",
       "      <td>11.6 ‰</td>\n",
       "    </tr>\n",
       "    <tr>\n",
       "      <th>118</th>\n",
       "      <td>Nigeria</td>\n",
       "      <td>52.3 years</td>\n",
       "      <td>53.1 years</td>\n",
       "      <td>37.1 ‰</td>\n",
       "      <td>13.1 ‰</td>\n",
       "    </tr>\n",
       "    <tr>\n",
       "      <th>119</th>\n",
       "      <td>Chad</td>\n",
       "      <td>50.8 years</td>\n",
       "      <td>54.3 years</td>\n",
       "      <td>43.4 ‰</td>\n",
       "      <td>12.5 ‰</td>\n",
       "    </tr>\n",
       "  </tbody>\n",
       "</table>\n",
       "<p>120 rows × 5 columns</p>\n",
       "</div>"
      ],
      "text/plain": [
       "                   Country Life expectancy males Life expectancy females  \\\n",
       "0                Hong Kong            83.2 years              87.9 years   \n",
       "1                    Macao            82.8 years              87.9 years   \n",
       "2              Switzerland            81.9 years              85.9 years   \n",
       "3                  Iceland            81.8 years              84.5 years   \n",
       "4        This is the error            81.7 years              84.7 years   \n",
       "..                     ...                   ...                     ...   \n",
       "115  Congo (Dem. Republic)            57.0 years              61.5 years   \n",
       "116               Zimbabwe            56.2 years              62.0 years   \n",
       "117                Somalia            53.2 years              57.4 years   \n",
       "118                Nigeria            52.3 years              53.1 years   \n",
       "119                   Chad            50.8 years              54.3 years   \n",
       "\n",
       "    Birth rate Death rate  \n",
       "0        5.0 ‰      6.9 ‰  \n",
       "1       10.1 ‰      4.1 ‰  \n",
       "2       10.3 ‰      8.2 ‰  \n",
       "3       13.1 ‰      6.3 ‰  \n",
       "4       10.4 ‰      7.8 ‰  \n",
       "..         ...        ...  \n",
       "115     42.0 ‰      9.7 ‰  \n",
       "116     30.5 ‰      9.1 ‰  \n",
       "117     43.6 ‰     11.6 ‰  \n",
       "118     37.1 ‰     13.1 ‰  \n",
       "119     43.4 ‰     12.5 ‰  \n",
       "\n",
       "[120 rows x 5 columns]"
      ]
     },
     "execution_count": 35,
     "metadata": {},
     "output_type": "execute_result"
    }
   ],
   "source": [
    "df.replace(\"Norway\", \"This is the error\")"
   ]
  },
  {
   "cell_type": "code",
   "execution_count": 36,
   "id": "0f093870",
   "metadata": {
    "scrolled": true
   },
   "outputs": [
    {
     "data": {
      "text/plain": [
       "0      83.2 years\n",
       "1      82.8 years\n",
       "2      81.9 years\n",
       "3      81.8 years\n",
       "4      81.7 years\n",
       "          ...    \n",
       "115    57.0 years\n",
       "116    56.2 years\n",
       "117    53.2 years\n",
       "118    52.3 years\n",
       "119    50.8 years\n",
       "Name: Life expectancy males, Length: 120, dtype: string"
      ]
     },
     "execution_count": 36,
     "metadata": {},
     "output_type": "execute_result"
    }
   ],
   "source": [
    "df[\"Life expectancy males\"].astype(\"string\")"
   ]
  },
  {
   "cell_type": "code",
   "execution_count": 37,
   "id": "0e870a2a",
   "metadata": {},
   "outputs": [
    {
     "data": {
      "text/plain": [
       "0      87.9 years\n",
       "1      87.9 years\n",
       "2      85.9 years\n",
       "3      84.5 years\n",
       "4      84.7 years\n",
       "          ...    \n",
       "115    61.5 years\n",
       "116    62.0 years\n",
       "117    57.4 years\n",
       "118    53.1 years\n",
       "119    54.3 years\n",
       "Name: Life expectancy females, Length: 120, dtype: string"
      ]
     },
     "execution_count": 37,
     "metadata": {},
     "output_type": "execute_result"
    }
   ],
   "source": [
    "df[\"Life expectancy females\"].astype(\"string\")"
   ]
  },
  {
   "cell_type": "code",
   "execution_count": 38,
   "id": "629a13a0",
   "metadata": {},
   "outputs": [],
   "source": [
    "df[\"Life expectancy males\"] = df[\"Life expectancy males\"].astype(\"string\")\n",
    "df[\"Life expectancy females\"] = df[\"Life expectancy females\"].astype(\"string\")"
   ]
  },
  {
   "cell_type": "code",
   "execution_count": 39,
   "id": "853e5369",
   "metadata": {},
   "outputs": [
    {
     "name": "stdout",
     "output_type": "stream",
     "text": [
      "<class 'pandas.core.frame.DataFrame'>\n",
      "RangeIndex: 120 entries, 0 to 119\n",
      "Data columns (total 5 columns):\n",
      " #   Column                   Non-Null Count  Dtype \n",
      "---  ------                   --------------  ----- \n",
      " 0   Country                  120 non-null    string\n",
      " 1   Life expectancy males    120 non-null    string\n",
      " 2   Life expectancy females  120 non-null    string\n",
      " 3   Birth rate               120 non-null    object\n",
      " 4   Death rate               120 non-null    object\n",
      "dtypes: object(2), string(3)\n",
      "memory usage: 4.8+ KB\n"
     ]
    }
   ],
   "source": [
    "df.info()"
   ]
  },
  {
   "cell_type": "code",
   "execution_count": 46,
   "id": "fbb381da",
   "metadata": {},
   "outputs": [
    {
     "data": {
      "text/html": [
       "<div>\n",
       "<style scoped>\n",
       "    .dataframe tbody tr th:only-of-type {\n",
       "        vertical-align: middle;\n",
       "    }\n",
       "\n",
       "    .dataframe tbody tr th {\n",
       "        vertical-align: top;\n",
       "    }\n",
       "\n",
       "    .dataframe thead th {\n",
       "        text-align: right;\n",
       "    }\n",
       "</style>\n",
       "<table border=\"1\" class=\"dataframe\">\n",
       "  <thead>\n",
       "    <tr style=\"text-align: right;\">\n",
       "      <th></th>\n",
       "      <th>Country</th>\n",
       "      <th>Life expectancy males</th>\n",
       "      <th>Life expectancy females</th>\n",
       "      <th>Birth rate</th>\n",
       "      <th>Death rate</th>\n",
       "    </tr>\n",
       "  </thead>\n",
       "  <tbody>\n",
       "    <tr>\n",
       "      <th>0</th>\n",
       "      <td>Hong Kong</td>\n",
       "      <td>83.2 years</td>\n",
       "      <td>87.9 years</td>\n",
       "      <td>5.0 ‰</td>\n",
       "      <td>6.9 ‰</td>\n",
       "    </tr>\n",
       "    <tr>\n",
       "      <th>1</th>\n",
       "      <td>Macao</td>\n",
       "      <td>82.8 years</td>\n",
       "      <td>87.9 years</td>\n",
       "      <td>10.1 ‰</td>\n",
       "      <td>4.1 ‰</td>\n",
       "    </tr>\n",
       "    <tr>\n",
       "      <th>2</th>\n",
       "      <td>Switzerland</td>\n",
       "      <td>81.9 years</td>\n",
       "      <td>85.9 years</td>\n",
       "      <td>10.3 ‰</td>\n",
       "      <td>8.2 ‰</td>\n",
       "    </tr>\n",
       "    <tr>\n",
       "      <th>3</th>\n",
       "      <td>Iceland</td>\n",
       "      <td>81.8 years</td>\n",
       "      <td>84.5 years</td>\n",
       "      <td>13.1 ‰</td>\n",
       "      <td>6.3 ‰</td>\n",
       "    </tr>\n",
       "    <tr>\n",
       "      <th>4</th>\n",
       "      <td>Norway</td>\n",
       "      <td>81.7 years</td>\n",
       "      <td>84.7 years</td>\n",
       "      <td>10.4 ‰</td>\n",
       "      <td>7.8 ‰</td>\n",
       "    </tr>\n",
       "    <tr>\n",
       "      <th>...</th>\n",
       "      <td>...</td>\n",
       "      <td>...</td>\n",
       "      <td>...</td>\n",
       "      <td>...</td>\n",
       "      <td>...</td>\n",
       "    </tr>\n",
       "    <tr>\n",
       "      <th>115</th>\n",
       "      <td>Congo (Dem. Republic)</td>\n",
       "      <td>57.0 years</td>\n",
       "      <td>61.5 years</td>\n",
       "      <td>42.0 ‰</td>\n",
       "      <td>9.7 ‰</td>\n",
       "    </tr>\n",
       "    <tr>\n",
       "      <th>116</th>\n",
       "      <td>Zimbabwe</td>\n",
       "      <td>56.2 years</td>\n",
       "      <td>62.0 years</td>\n",
       "      <td>30.5 ‰</td>\n",
       "      <td>9.1 ‰</td>\n",
       "    </tr>\n",
       "    <tr>\n",
       "      <th>117</th>\n",
       "      <td>Somalia</td>\n",
       "      <td>53.2 years</td>\n",
       "      <td>57.4 years</td>\n",
       "      <td>43.6 ‰</td>\n",
       "      <td>11.6 ‰</td>\n",
       "    </tr>\n",
       "    <tr>\n",
       "      <th>118</th>\n",
       "      <td>Nigeria</td>\n",
       "      <td>52.3 years</td>\n",
       "      <td>53.1 years</td>\n",
       "      <td>37.1 ‰</td>\n",
       "      <td>13.1 ‰</td>\n",
       "    </tr>\n",
       "    <tr>\n",
       "      <th>119</th>\n",
       "      <td>Chad</td>\n",
       "      <td>50.8 years</td>\n",
       "      <td>54.3 years</td>\n",
       "      <td>43.4 ‰</td>\n",
       "      <td>12.5 ‰</td>\n",
       "    </tr>\n",
       "  </tbody>\n",
       "</table>\n",
       "<p>120 rows × 5 columns</p>\n",
       "</div>"
      ],
      "text/plain": [
       "                   Country Life expectancy males Life expectancy females  \\\n",
       "0                Hong Kong            83.2 years              87.9 years   \n",
       "1                    Macao            82.8 years              87.9 years   \n",
       "2              Switzerland            81.9 years              85.9 years   \n",
       "3                  Iceland            81.8 years              84.5 years   \n",
       "4                   Norway            81.7 years              84.7 years   \n",
       "..                     ...                   ...                     ...   \n",
       "115  Congo (Dem. Republic)            57.0 years              61.5 years   \n",
       "116               Zimbabwe            56.2 years              62.0 years   \n",
       "117                Somalia            53.2 years              57.4 years   \n",
       "118                Nigeria            52.3 years              53.1 years   \n",
       "119                   Chad            50.8 years              54.3 years   \n",
       "\n",
       "    Birth rate Death rate  \n",
       "0        5.0 ‰      6.9 ‰  \n",
       "1       10.1 ‰      4.1 ‰  \n",
       "2       10.3 ‰      8.2 ‰  \n",
       "3       13.1 ‰      6.3 ‰  \n",
       "4       10.4 ‰      7.8 ‰  \n",
       "..         ...        ...  \n",
       "115     42.0 ‰      9.7 ‰  \n",
       "116     30.5 ‰      9.1 ‰  \n",
       "117     43.6 ‰     11.6 ‰  \n",
       "118     37.1 ‰     13.1 ‰  \n",
       "119     43.4 ‰     12.5 ‰  \n",
       "\n",
       "[120 rows x 5 columns]"
      ]
     },
     "execution_count": 46,
     "metadata": {},
     "output_type": "execute_result"
    }
   ],
   "source": [
    "df[\"Life expectancy males\"].str.contains(\"years\")\n",
    "df[df[\"Life expectancy males\"].str.contains(\"years\", na = False)]"
   ]
  },
  {
   "cell_type": "code",
   "execution_count": 47,
   "id": "70a0a126",
   "metadata": {},
   "outputs": [
    {
     "data": {
      "text/html": [
       "<div>\n",
       "<style scoped>\n",
       "    .dataframe tbody tr th:only-of-type {\n",
       "        vertical-align: middle;\n",
       "    }\n",
       "\n",
       "    .dataframe tbody tr th {\n",
       "        vertical-align: top;\n",
       "    }\n",
       "\n",
       "    .dataframe thead th {\n",
       "        text-align: right;\n",
       "    }\n",
       "</style>\n",
       "<table border=\"1\" class=\"dataframe\">\n",
       "  <thead>\n",
       "    <tr style=\"text-align: right;\">\n",
       "      <th></th>\n",
       "      <th>Country</th>\n",
       "      <th>Life expectancy males</th>\n",
       "      <th>Life expectancy females</th>\n",
       "      <th>Birth rate</th>\n",
       "      <th>Death rate</th>\n",
       "    </tr>\n",
       "  </thead>\n",
       "  <tbody>\n",
       "    <tr>\n",
       "      <th>0</th>\n",
       "      <td>Hong Kong</td>\n",
       "      <td>83.2 years</td>\n",
       "      <td>87.9 years</td>\n",
       "      <td>5.0 ‰</td>\n",
       "      <td>6.9 ‰</td>\n",
       "    </tr>\n",
       "    <tr>\n",
       "      <th>1</th>\n",
       "      <td>Macao</td>\n",
       "      <td>82.8 years</td>\n",
       "      <td>87.9 years</td>\n",
       "      <td>10.1 ‰</td>\n",
       "      <td>4.1 ‰</td>\n",
       "    </tr>\n",
       "    <tr>\n",
       "      <th>2</th>\n",
       "      <td>Switzerland</td>\n",
       "      <td>81.9 years</td>\n",
       "      <td>85.9 years</td>\n",
       "      <td>10.3 ‰</td>\n",
       "      <td>8.2 ‰</td>\n",
       "    </tr>\n",
       "    <tr>\n",
       "      <th>3</th>\n",
       "      <td>Iceland</td>\n",
       "      <td>81.8 years</td>\n",
       "      <td>84.5 years</td>\n",
       "      <td>13.1 ‰</td>\n",
       "      <td>6.3 ‰</td>\n",
       "    </tr>\n",
       "    <tr>\n",
       "      <th>4</th>\n",
       "      <td>Norway</td>\n",
       "      <td>81.7 years</td>\n",
       "      <td>84.7 years</td>\n",
       "      <td>10.4 ‰</td>\n",
       "      <td>7.8 ‰</td>\n",
       "    </tr>\n",
       "    <tr>\n",
       "      <th>...</th>\n",
       "      <td>...</td>\n",
       "      <td>...</td>\n",
       "      <td>...</td>\n",
       "      <td>...</td>\n",
       "      <td>...</td>\n",
       "    </tr>\n",
       "    <tr>\n",
       "      <th>115</th>\n",
       "      <td>Congo (Dem. Republic)</td>\n",
       "      <td>57.0 years</td>\n",
       "      <td>61.5 years</td>\n",
       "      <td>42.0 ‰</td>\n",
       "      <td>9.7 ‰</td>\n",
       "    </tr>\n",
       "    <tr>\n",
       "      <th>116</th>\n",
       "      <td>Zimbabwe</td>\n",
       "      <td>56.2 years</td>\n",
       "      <td>62.0 years</td>\n",
       "      <td>30.5 ‰</td>\n",
       "      <td>9.1 ‰</td>\n",
       "    </tr>\n",
       "    <tr>\n",
       "      <th>117</th>\n",
       "      <td>Somalia</td>\n",
       "      <td>53.2 years</td>\n",
       "      <td>57.4 years</td>\n",
       "      <td>43.6 ‰</td>\n",
       "      <td>11.6 ‰</td>\n",
       "    </tr>\n",
       "    <tr>\n",
       "      <th>118</th>\n",
       "      <td>Nigeria</td>\n",
       "      <td>52.3 years</td>\n",
       "      <td>53.1 years</td>\n",
       "      <td>37.1 ‰</td>\n",
       "      <td>13.1 ‰</td>\n",
       "    </tr>\n",
       "    <tr>\n",
       "      <th>119</th>\n",
       "      <td>Chad</td>\n",
       "      <td>50.8 years</td>\n",
       "      <td>54.3 years</td>\n",
       "      <td>43.4 ‰</td>\n",
       "      <td>12.5 ‰</td>\n",
       "    </tr>\n",
       "  </tbody>\n",
       "</table>\n",
       "<p>120 rows × 5 columns</p>\n",
       "</div>"
      ],
      "text/plain": [
       "                   Country Life expectancy males Life expectancy females  \\\n",
       "0                Hong Kong            83.2 years              87.9 years   \n",
       "1                    Macao            82.8 years              87.9 years   \n",
       "2              Switzerland            81.9 years              85.9 years   \n",
       "3                  Iceland            81.8 years              84.5 years   \n",
       "4                   Norway            81.7 years              84.7 years   \n",
       "..                     ...                   ...                     ...   \n",
       "115  Congo (Dem. Republic)            57.0 years              61.5 years   \n",
       "116               Zimbabwe            56.2 years              62.0 years   \n",
       "117                Somalia            53.2 years              57.4 years   \n",
       "118                Nigeria            52.3 years              53.1 years   \n",
       "119                   Chad            50.8 years              54.3 years   \n",
       "\n",
       "    Birth rate Death rate  \n",
       "0        5.0 ‰      6.9 ‰  \n",
       "1       10.1 ‰      4.1 ‰  \n",
       "2       10.3 ‰      8.2 ‰  \n",
       "3       13.1 ‰      6.3 ‰  \n",
       "4       10.4 ‰      7.8 ‰  \n",
       "..         ...        ...  \n",
       "115     42.0 ‰      9.7 ‰  \n",
       "116     30.5 ‰      9.1 ‰  \n",
       "117     43.6 ‰     11.6 ‰  \n",
       "118     37.1 ‰     13.1 ‰  \n",
       "119     43.4 ‰     12.5 ‰  \n",
       "\n",
       "[120 rows x 5 columns]"
      ]
     },
     "execution_count": 47,
     "metadata": {},
     "output_type": "execute_result"
    }
   ],
   "source": [
    "df[\"Life expectancy females\"].str.contains(\"years\")\n",
    "df[df[\"Life expectancy females\"].str.contains(\"years\", na = False)]"
   ]
  },
  {
   "cell_type": "code",
   "execution_count": 54,
   "id": "90482aa9",
   "metadata": {},
   "outputs": [],
   "source": [
    "df[\"Life expectancy males\"] = df[\"Life expectancy males\"].str.replace(\"years\", \"\")"
   ]
  },
  {
   "cell_type": "code",
   "execution_count": 55,
   "id": "f4acaa11",
   "metadata": {},
   "outputs": [],
   "source": [
    "df[\"Life expectancy females\"] = df[\"Life expectancy females\"].str.replace(\"years\", \"\")"
   ]
  },
  {
   "cell_type": "code",
   "execution_count": 56,
   "id": "49e5ef57",
   "metadata": {},
   "outputs": [
    {
     "data": {
      "text/html": [
       "<div>\n",
       "<style scoped>\n",
       "    .dataframe tbody tr th:only-of-type {\n",
       "        vertical-align: middle;\n",
       "    }\n",
       "\n",
       "    .dataframe tbody tr th {\n",
       "        vertical-align: top;\n",
       "    }\n",
       "\n",
       "    .dataframe thead th {\n",
       "        text-align: right;\n",
       "    }\n",
       "</style>\n",
       "<table border=\"1\" class=\"dataframe\">\n",
       "  <thead>\n",
       "    <tr style=\"text-align: right;\">\n",
       "      <th></th>\n",
       "      <th>Country</th>\n",
       "      <th>Life expectancy males</th>\n",
       "      <th>Life expectancy females</th>\n",
       "      <th>Birth rate</th>\n",
       "      <th>Death rate</th>\n",
       "    </tr>\n",
       "  </thead>\n",
       "  <tbody>\n",
       "    <tr>\n",
       "      <th>0</th>\n",
       "      <td>Hong Kong</td>\n",
       "      <td>83.2</td>\n",
       "      <td>87.9</td>\n",
       "      <td>5.0 ‰</td>\n",
       "      <td>6.9 ‰</td>\n",
       "    </tr>\n",
       "    <tr>\n",
       "      <th>1</th>\n",
       "      <td>Macao</td>\n",
       "      <td>82.8</td>\n",
       "      <td>87.9</td>\n",
       "      <td>10.1 ‰</td>\n",
       "      <td>4.1 ‰</td>\n",
       "    </tr>\n",
       "    <tr>\n",
       "      <th>2</th>\n",
       "      <td>Switzerland</td>\n",
       "      <td>81.9</td>\n",
       "      <td>85.9</td>\n",
       "      <td>10.3 ‰</td>\n",
       "      <td>8.2 ‰</td>\n",
       "    </tr>\n",
       "    <tr>\n",
       "      <th>3</th>\n",
       "      <td>Iceland</td>\n",
       "      <td>81.8</td>\n",
       "      <td>84.5</td>\n",
       "      <td>13.1 ‰</td>\n",
       "      <td>6.3 ‰</td>\n",
       "    </tr>\n",
       "    <tr>\n",
       "      <th>4</th>\n",
       "      <td>Norway</td>\n",
       "      <td>81.7</td>\n",
       "      <td>84.7</td>\n",
       "      <td>10.4 ‰</td>\n",
       "      <td>7.8 ‰</td>\n",
       "    </tr>\n",
       "    <tr>\n",
       "      <th>...</th>\n",
       "      <td>...</td>\n",
       "      <td>...</td>\n",
       "      <td>...</td>\n",
       "      <td>...</td>\n",
       "      <td>...</td>\n",
       "    </tr>\n",
       "    <tr>\n",
       "      <th>115</th>\n",
       "      <td>Congo (Dem. Republic)</td>\n",
       "      <td>57.0</td>\n",
       "      <td>61.5</td>\n",
       "      <td>42.0 ‰</td>\n",
       "      <td>9.7 ‰</td>\n",
       "    </tr>\n",
       "    <tr>\n",
       "      <th>116</th>\n",
       "      <td>Zimbabwe</td>\n",
       "      <td>56.2</td>\n",
       "      <td>62.0</td>\n",
       "      <td>30.5 ‰</td>\n",
       "      <td>9.1 ‰</td>\n",
       "    </tr>\n",
       "    <tr>\n",
       "      <th>117</th>\n",
       "      <td>Somalia</td>\n",
       "      <td>53.2</td>\n",
       "      <td>57.4</td>\n",
       "      <td>43.6 ‰</td>\n",
       "      <td>11.6 ‰</td>\n",
       "    </tr>\n",
       "    <tr>\n",
       "      <th>118</th>\n",
       "      <td>Nigeria</td>\n",
       "      <td>52.3</td>\n",
       "      <td>53.1</td>\n",
       "      <td>37.1 ‰</td>\n",
       "      <td>13.1 ‰</td>\n",
       "    </tr>\n",
       "    <tr>\n",
       "      <th>119</th>\n",
       "      <td>Chad</td>\n",
       "      <td>50.8</td>\n",
       "      <td>54.3</td>\n",
       "      <td>43.4 ‰</td>\n",
       "      <td>12.5 ‰</td>\n",
       "    </tr>\n",
       "  </tbody>\n",
       "</table>\n",
       "<p>120 rows × 5 columns</p>\n",
       "</div>"
      ],
      "text/plain": [
       "                   Country Life expectancy males Life expectancy females  \\\n",
       "0                Hong Kong                 83.2                    87.9    \n",
       "1                    Macao                 82.8                    87.9    \n",
       "2              Switzerland                 81.9                    85.9    \n",
       "3                  Iceland                 81.8                    84.5    \n",
       "4                   Norway                 81.7                    84.7    \n",
       "..                     ...                   ...                     ...   \n",
       "115  Congo (Dem. Republic)                 57.0                    61.5    \n",
       "116               Zimbabwe                 56.2                    62.0    \n",
       "117                Somalia                 53.2                    57.4    \n",
       "118                Nigeria                 52.3                    53.1    \n",
       "119                   Chad                 50.8                    54.3    \n",
       "\n",
       "    Birth rate Death rate  \n",
       "0        5.0 ‰      6.9 ‰  \n",
       "1       10.1 ‰      4.1 ‰  \n",
       "2       10.3 ‰      8.2 ‰  \n",
       "3       13.1 ‰      6.3 ‰  \n",
       "4       10.4 ‰      7.8 ‰  \n",
       "..         ...        ...  \n",
       "115     42.0 ‰      9.7 ‰  \n",
       "116     30.5 ‰      9.1 ‰  \n",
       "117     43.6 ‰     11.6 ‰  \n",
       "118     37.1 ‰     13.1 ‰  \n",
       "119     43.4 ‰     12.5 ‰  \n",
       "\n",
       "[120 rows x 5 columns]"
      ]
     },
     "execution_count": 56,
     "metadata": {},
     "output_type": "execute_result"
    }
   ],
   "source": [
    "df"
   ]
  },
  {
   "cell_type": "code",
   "execution_count": 69,
   "id": "c18c1ab3",
   "metadata": {},
   "outputs": [],
   "source": [
    "mapper = {\"Country\" : \"country\",\"Life expectancy males\" : \"life_expectancy_males_(years)\", \"Life expectancy females\" : \"life_expectancy_females_(years)\", \"Birth rate\" : \"birth_rate(%)\", \"Death rate\" : \"death_rate(%)\"}\n",
    "df.rename(columns = mapper, inplace = True)"
   ]
  },
  {
   "cell_type": "code",
   "execution_count": 70,
   "id": "cfd36d70",
   "metadata": {},
   "outputs": [
    {
     "data": {
      "text/html": [
       "<div>\n",
       "<style scoped>\n",
       "    .dataframe tbody tr th:only-of-type {\n",
       "        vertical-align: middle;\n",
       "    }\n",
       "\n",
       "    .dataframe tbody tr th {\n",
       "        vertical-align: top;\n",
       "    }\n",
       "\n",
       "    .dataframe thead th {\n",
       "        text-align: right;\n",
       "    }\n",
       "</style>\n",
       "<table border=\"1\" class=\"dataframe\">\n",
       "  <thead>\n",
       "    <tr style=\"text-align: right;\">\n",
       "      <th></th>\n",
       "      <th>country</th>\n",
       "      <th>life_expectancy_males_(years)</th>\n",
       "      <th>life_expectancy_females_(years)</th>\n",
       "      <th>birth_rate(%)</th>\n",
       "      <th>death_rate(%)</th>\n",
       "    </tr>\n",
       "  </thead>\n",
       "  <tbody>\n",
       "    <tr>\n",
       "      <th>0</th>\n",
       "      <td>Hong Kong</td>\n",
       "      <td>83.2</td>\n",
       "      <td>87.9</td>\n",
       "      <td>5.0 ‰</td>\n",
       "      <td>6.9 ‰</td>\n",
       "    </tr>\n",
       "    <tr>\n",
       "      <th>1</th>\n",
       "      <td>Macao</td>\n",
       "      <td>82.8</td>\n",
       "      <td>87.9</td>\n",
       "      <td>10.1 ‰</td>\n",
       "      <td>4.1 ‰</td>\n",
       "    </tr>\n",
       "    <tr>\n",
       "      <th>2</th>\n",
       "      <td>Switzerland</td>\n",
       "      <td>81.9</td>\n",
       "      <td>85.9</td>\n",
       "      <td>10.3 ‰</td>\n",
       "      <td>8.2 ‰</td>\n",
       "    </tr>\n",
       "    <tr>\n",
       "      <th>3</th>\n",
       "      <td>Iceland</td>\n",
       "      <td>81.8</td>\n",
       "      <td>84.5</td>\n",
       "      <td>13.1 ‰</td>\n",
       "      <td>6.3 ‰</td>\n",
       "    </tr>\n",
       "    <tr>\n",
       "      <th>4</th>\n",
       "      <td>Norway</td>\n",
       "      <td>81.7</td>\n",
       "      <td>84.7</td>\n",
       "      <td>10.4 ‰</td>\n",
       "      <td>7.8 ‰</td>\n",
       "    </tr>\n",
       "    <tr>\n",
       "      <th>...</th>\n",
       "      <td>...</td>\n",
       "      <td>...</td>\n",
       "      <td>...</td>\n",
       "      <td>...</td>\n",
       "      <td>...</td>\n",
       "    </tr>\n",
       "    <tr>\n",
       "      <th>115</th>\n",
       "      <td>Congo (Dem. Republic)</td>\n",
       "      <td>57.0</td>\n",
       "      <td>61.5</td>\n",
       "      <td>42.0 ‰</td>\n",
       "      <td>9.7 ‰</td>\n",
       "    </tr>\n",
       "    <tr>\n",
       "      <th>116</th>\n",
       "      <td>Zimbabwe</td>\n",
       "      <td>56.2</td>\n",
       "      <td>62.0</td>\n",
       "      <td>30.5 ‰</td>\n",
       "      <td>9.1 ‰</td>\n",
       "    </tr>\n",
       "    <tr>\n",
       "      <th>117</th>\n",
       "      <td>Somalia</td>\n",
       "      <td>53.2</td>\n",
       "      <td>57.4</td>\n",
       "      <td>43.6 ‰</td>\n",
       "      <td>11.6 ‰</td>\n",
       "    </tr>\n",
       "    <tr>\n",
       "      <th>118</th>\n",
       "      <td>Nigeria</td>\n",
       "      <td>52.3</td>\n",
       "      <td>53.1</td>\n",
       "      <td>37.1 ‰</td>\n",
       "      <td>13.1 ‰</td>\n",
       "    </tr>\n",
       "    <tr>\n",
       "      <th>119</th>\n",
       "      <td>Chad</td>\n",
       "      <td>50.8</td>\n",
       "      <td>54.3</td>\n",
       "      <td>43.4 ‰</td>\n",
       "      <td>12.5 ‰</td>\n",
       "    </tr>\n",
       "  </tbody>\n",
       "</table>\n",
       "<p>120 rows × 5 columns</p>\n",
       "</div>"
      ],
      "text/plain": [
       "                   country life_expectancy_males_(years)  \\\n",
       "0                Hong Kong                         83.2    \n",
       "1                    Macao                         82.8    \n",
       "2              Switzerland                         81.9    \n",
       "3                  Iceland                         81.8    \n",
       "4                   Norway                         81.7    \n",
       "..                     ...                           ...   \n",
       "115  Congo (Dem. Republic)                         57.0    \n",
       "116               Zimbabwe                         56.2    \n",
       "117                Somalia                         53.2    \n",
       "118                Nigeria                         52.3    \n",
       "119                   Chad                         50.8    \n",
       "\n",
       "    life_expectancy_females_(years) birth_rate(%) death_rate(%)  \n",
       "0                             87.9          5.0 ‰         6.9 ‰  \n",
       "1                             87.9         10.1 ‰         4.1 ‰  \n",
       "2                             85.9         10.3 ‰         8.2 ‰  \n",
       "3                             84.5         13.1 ‰         6.3 ‰  \n",
       "4                             84.7         10.4 ‰         7.8 ‰  \n",
       "..                              ...           ...           ...  \n",
       "115                           61.5         42.0 ‰         9.7 ‰  \n",
       "116                           62.0         30.5 ‰         9.1 ‰  \n",
       "117                           57.4         43.6 ‰        11.6 ‰  \n",
       "118                           53.1         37.1 ‰        13.1 ‰  \n",
       "119                           54.3         43.4 ‰        12.5 ‰  \n",
       "\n",
       "[120 rows x 5 columns]"
      ]
     },
     "execution_count": 70,
     "metadata": {},
     "output_type": "execute_result"
    }
   ],
   "source": [
    "df"
   ]
  },
  {
   "cell_type": "code",
   "execution_count": 76,
   "id": "9dc48f97",
   "metadata": {},
   "outputs": [],
   "source": [
    "df[\"life_expectancy_males_(years)\"] = df[\"life_expectancy_males_(years)\"].astype(\"float\")"
   ]
  },
  {
   "cell_type": "code",
   "execution_count": 77,
   "id": "f13c2d63",
   "metadata": {},
   "outputs": [],
   "source": [
    "df[\"life_expectancy_females_(years)\"] = df[\"life_expectancy_females_(years)\"].astype(\"float\")"
   ]
  },
  {
   "cell_type": "code",
   "execution_count": 78,
   "id": "a3918708",
   "metadata": {},
   "outputs": [
    {
     "data": {
      "text/html": [
       "<div>\n",
       "<style scoped>\n",
       "    .dataframe tbody tr th:only-of-type {\n",
       "        vertical-align: middle;\n",
       "    }\n",
       "\n",
       "    .dataframe tbody tr th {\n",
       "        vertical-align: top;\n",
       "    }\n",
       "\n",
       "    .dataframe thead th {\n",
       "        text-align: right;\n",
       "    }\n",
       "</style>\n",
       "<table border=\"1\" class=\"dataframe\">\n",
       "  <thead>\n",
       "    <tr style=\"text-align: right;\">\n",
       "      <th></th>\n",
       "      <th>country</th>\n",
       "      <th>life_expectancy_males_(years)</th>\n",
       "      <th>life_expectancy_females_(years)</th>\n",
       "      <th>birth_rate(%)</th>\n",
       "      <th>death_rate(%)</th>\n",
       "    </tr>\n",
       "  </thead>\n",
       "  <tbody>\n",
       "    <tr>\n",
       "      <th>0</th>\n",
       "      <td>Hong Kong</td>\n",
       "      <td>83.2</td>\n",
       "      <td>87.9</td>\n",
       "      <td>5.0 ‰</td>\n",
       "      <td>6.9 ‰</td>\n",
       "    </tr>\n",
       "    <tr>\n",
       "      <th>1</th>\n",
       "      <td>Macao</td>\n",
       "      <td>82.8</td>\n",
       "      <td>87.9</td>\n",
       "      <td>10.1 ‰</td>\n",
       "      <td>4.1 ‰</td>\n",
       "    </tr>\n",
       "    <tr>\n",
       "      <th>2</th>\n",
       "      <td>Switzerland</td>\n",
       "      <td>81.9</td>\n",
       "      <td>85.9</td>\n",
       "      <td>10.3 ‰</td>\n",
       "      <td>8.2 ‰</td>\n",
       "    </tr>\n",
       "    <tr>\n",
       "      <th>3</th>\n",
       "      <td>Iceland</td>\n",
       "      <td>81.8</td>\n",
       "      <td>84.5</td>\n",
       "      <td>13.1 ‰</td>\n",
       "      <td>6.3 ‰</td>\n",
       "    </tr>\n",
       "    <tr>\n",
       "      <th>4</th>\n",
       "      <td>Norway</td>\n",
       "      <td>81.7</td>\n",
       "      <td>84.7</td>\n",
       "      <td>10.4 ‰</td>\n",
       "      <td>7.8 ‰</td>\n",
       "    </tr>\n",
       "    <tr>\n",
       "      <th>...</th>\n",
       "      <td>...</td>\n",
       "      <td>...</td>\n",
       "      <td>...</td>\n",
       "      <td>...</td>\n",
       "      <td>...</td>\n",
       "    </tr>\n",
       "    <tr>\n",
       "      <th>115</th>\n",
       "      <td>Congo (Dem. Republic)</td>\n",
       "      <td>57.0</td>\n",
       "      <td>61.5</td>\n",
       "      <td>42.0 ‰</td>\n",
       "      <td>9.7 ‰</td>\n",
       "    </tr>\n",
       "    <tr>\n",
       "      <th>116</th>\n",
       "      <td>Zimbabwe</td>\n",
       "      <td>56.2</td>\n",
       "      <td>62.0</td>\n",
       "      <td>30.5 ‰</td>\n",
       "      <td>9.1 ‰</td>\n",
       "    </tr>\n",
       "    <tr>\n",
       "      <th>117</th>\n",
       "      <td>Somalia</td>\n",
       "      <td>53.2</td>\n",
       "      <td>57.4</td>\n",
       "      <td>43.6 ‰</td>\n",
       "      <td>11.6 ‰</td>\n",
       "    </tr>\n",
       "    <tr>\n",
       "      <th>118</th>\n",
       "      <td>Nigeria</td>\n",
       "      <td>52.3</td>\n",
       "      <td>53.1</td>\n",
       "      <td>37.1 ‰</td>\n",
       "      <td>13.1 ‰</td>\n",
       "    </tr>\n",
       "    <tr>\n",
       "      <th>119</th>\n",
       "      <td>Chad</td>\n",
       "      <td>50.8</td>\n",
       "      <td>54.3</td>\n",
       "      <td>43.4 ‰</td>\n",
       "      <td>12.5 ‰</td>\n",
       "    </tr>\n",
       "  </tbody>\n",
       "</table>\n",
       "<p>120 rows × 5 columns</p>\n",
       "</div>"
      ],
      "text/plain": [
       "                   country  life_expectancy_males_(years)  \\\n",
       "0                Hong Kong                           83.2   \n",
       "1                    Macao                           82.8   \n",
       "2              Switzerland                           81.9   \n",
       "3                  Iceland                           81.8   \n",
       "4                   Norway                           81.7   \n",
       "..                     ...                            ...   \n",
       "115  Congo (Dem. Republic)                           57.0   \n",
       "116               Zimbabwe                           56.2   \n",
       "117                Somalia                           53.2   \n",
       "118                Nigeria                           52.3   \n",
       "119                   Chad                           50.8   \n",
       "\n",
       "     life_expectancy_females_(years) birth_rate(%) death_rate(%)  \n",
       "0                               87.9         5.0 ‰         6.9 ‰  \n",
       "1                               87.9        10.1 ‰         4.1 ‰  \n",
       "2                               85.9        10.3 ‰         8.2 ‰  \n",
       "3                               84.5        13.1 ‰         6.3 ‰  \n",
       "4                               84.7        10.4 ‰         7.8 ‰  \n",
       "..                               ...           ...           ...  \n",
       "115                             61.5        42.0 ‰         9.7 ‰  \n",
       "116                             62.0        30.5 ‰         9.1 ‰  \n",
       "117                             57.4        43.6 ‰        11.6 ‰  \n",
       "118                             53.1        37.1 ‰        13.1 ‰  \n",
       "119                             54.3        43.4 ‰        12.5 ‰  \n",
       "\n",
       "[120 rows x 5 columns]"
      ]
     },
     "execution_count": 78,
     "metadata": {},
     "output_type": "execute_result"
    }
   ],
   "source": [
    "df"
   ]
  },
  {
   "cell_type": "code",
   "execution_count": 79,
   "id": "8c49d003",
   "metadata": {},
   "outputs": [
    {
     "name": "stdout",
     "output_type": "stream",
     "text": [
      "<class 'pandas.core.frame.DataFrame'>\n",
      "RangeIndex: 120 entries, 0 to 119\n",
      "Data columns (total 5 columns):\n",
      " #   Column                           Non-Null Count  Dtype  \n",
      "---  ------                           --------------  -----  \n",
      " 0   country                          120 non-null    string \n",
      " 1   life_expectancy_males_(years)    120 non-null    float64\n",
      " 2   life_expectancy_females_(years)  120 non-null    float64\n",
      " 3   birth_rate(%)                    120 non-null    object \n",
      " 4   death_rate(%)                    120 non-null    object \n",
      "dtypes: float64(2), object(2), string(1)\n",
      "memory usage: 4.8+ KB\n"
     ]
    }
   ],
   "source": [
    "df.info()"
   ]
  },
  {
   "cell_type": "code",
   "execution_count": 82,
   "id": "6ed1102a",
   "metadata": {},
   "outputs": [],
   "source": [
    "df[\"birth_rate(%)\"] = df[\"birth_rate(%)\"].astype(\"string\")"
   ]
  },
  {
   "cell_type": "code",
   "execution_count": 83,
   "id": "e70bb66a",
   "metadata": {},
   "outputs": [],
   "source": [
    "df[\"death_rate(%)\"] = df[\"death_rate(%)\"].astype(\"string\")"
   ]
  },
  {
   "cell_type": "code",
   "execution_count": 86,
   "id": "600f2050",
   "metadata": {},
   "outputs": [
    {
     "name": "stdout",
     "output_type": "stream",
     "text": [
      "<class 'pandas.core.frame.DataFrame'>\n",
      "RangeIndex: 120 entries, 0 to 119\n",
      "Data columns (total 5 columns):\n",
      " #   Column                           Non-Null Count  Dtype  \n",
      "---  ------                           --------------  -----  \n",
      " 0   country                          120 non-null    string \n",
      " 1   life_expectancy_males_(years)    120 non-null    float64\n",
      " 2   life_expectancy_females_(years)  120 non-null    float64\n",
      " 3   birth_rate(%)                    120 non-null    string \n",
      " 4   death_rate(%)                    120 non-null    string \n",
      "dtypes: float64(2), string(3)\n",
      "memory usage: 4.8 KB\n"
     ]
    }
   ],
   "source": [
    "df.info()"
   ]
  },
  {
   "cell_type": "code",
   "execution_count": 90,
   "id": "7066f88d",
   "metadata": {},
   "outputs": [],
   "source": [
    "df[\"birth_rate(%)\"] = df[\"birth_rate(%)\"].str.replace(\"‰\", \"\")"
   ]
  },
  {
   "cell_type": "code",
   "execution_count": 91,
   "id": "42125b61",
   "metadata": {},
   "outputs": [],
   "source": [
    "df [\"death_rate(%)\"] = df[\"death_rate(%)\"].str.replace(\"‰\", \"\")"
   ]
  },
  {
   "cell_type": "code",
   "execution_count": 92,
   "id": "530796b0",
   "metadata": {},
   "outputs": [],
   "source": [
    "df[\"birth_rate(%)\"] = df[\"birth_rate(%)\"].astype(\"float\")"
   ]
  },
  {
   "cell_type": "code",
   "execution_count": 93,
   "id": "c566831d",
   "metadata": {},
   "outputs": [],
   "source": [
    "df[\"death_rate(%)\"] = df[\"death_rate(%)\"].astype(\"float\")"
   ]
  },
  {
   "cell_type": "code",
   "execution_count": 94,
   "id": "2a255086",
   "metadata": {},
   "outputs": [
    {
     "data": {
      "text/html": [
       "<div>\n",
       "<style scoped>\n",
       "    .dataframe tbody tr th:only-of-type {\n",
       "        vertical-align: middle;\n",
       "    }\n",
       "\n",
       "    .dataframe tbody tr th {\n",
       "        vertical-align: top;\n",
       "    }\n",
       "\n",
       "    .dataframe thead th {\n",
       "        text-align: right;\n",
       "    }\n",
       "</style>\n",
       "<table border=\"1\" class=\"dataframe\">\n",
       "  <thead>\n",
       "    <tr style=\"text-align: right;\">\n",
       "      <th></th>\n",
       "      <th>country</th>\n",
       "      <th>life_expectancy_males_(years)</th>\n",
       "      <th>life_expectancy_females_(years)</th>\n",
       "      <th>birth_rate(%)</th>\n",
       "      <th>death_rate(%)</th>\n",
       "    </tr>\n",
       "  </thead>\n",
       "  <tbody>\n",
       "    <tr>\n",
       "      <th>0</th>\n",
       "      <td>Hong Kong</td>\n",
       "      <td>83.2</td>\n",
       "      <td>87.9</td>\n",
       "      <td>5.0</td>\n",
       "      <td>6.9</td>\n",
       "    </tr>\n",
       "    <tr>\n",
       "      <th>1</th>\n",
       "      <td>Macao</td>\n",
       "      <td>82.8</td>\n",
       "      <td>87.9</td>\n",
       "      <td>10.1</td>\n",
       "      <td>4.1</td>\n",
       "    </tr>\n",
       "    <tr>\n",
       "      <th>2</th>\n",
       "      <td>Switzerland</td>\n",
       "      <td>81.9</td>\n",
       "      <td>85.9</td>\n",
       "      <td>10.3</td>\n",
       "      <td>8.2</td>\n",
       "    </tr>\n",
       "    <tr>\n",
       "      <th>3</th>\n",
       "      <td>Iceland</td>\n",
       "      <td>81.8</td>\n",
       "      <td>84.5</td>\n",
       "      <td>13.1</td>\n",
       "      <td>6.3</td>\n",
       "    </tr>\n",
       "    <tr>\n",
       "      <th>4</th>\n",
       "      <td>Norway</td>\n",
       "      <td>81.7</td>\n",
       "      <td>84.7</td>\n",
       "      <td>10.4</td>\n",
       "      <td>7.8</td>\n",
       "    </tr>\n",
       "    <tr>\n",
       "      <th>...</th>\n",
       "      <td>...</td>\n",
       "      <td>...</td>\n",
       "      <td>...</td>\n",
       "      <td>...</td>\n",
       "      <td>...</td>\n",
       "    </tr>\n",
       "    <tr>\n",
       "      <th>115</th>\n",
       "      <td>Congo (Dem. Republic)</td>\n",
       "      <td>57.0</td>\n",
       "      <td>61.5</td>\n",
       "      <td>42.0</td>\n",
       "      <td>9.7</td>\n",
       "    </tr>\n",
       "    <tr>\n",
       "      <th>116</th>\n",
       "      <td>Zimbabwe</td>\n",
       "      <td>56.2</td>\n",
       "      <td>62.0</td>\n",
       "      <td>30.5</td>\n",
       "      <td>9.1</td>\n",
       "    </tr>\n",
       "    <tr>\n",
       "      <th>117</th>\n",
       "      <td>Somalia</td>\n",
       "      <td>53.2</td>\n",
       "      <td>57.4</td>\n",
       "      <td>43.6</td>\n",
       "      <td>11.6</td>\n",
       "    </tr>\n",
       "    <tr>\n",
       "      <th>118</th>\n",
       "      <td>Nigeria</td>\n",
       "      <td>52.3</td>\n",
       "      <td>53.1</td>\n",
       "      <td>37.1</td>\n",
       "      <td>13.1</td>\n",
       "    </tr>\n",
       "    <tr>\n",
       "      <th>119</th>\n",
       "      <td>Chad</td>\n",
       "      <td>50.8</td>\n",
       "      <td>54.3</td>\n",
       "      <td>43.4</td>\n",
       "      <td>12.5</td>\n",
       "    </tr>\n",
       "  </tbody>\n",
       "</table>\n",
       "<p>120 rows × 5 columns</p>\n",
       "</div>"
      ],
      "text/plain": [
       "                   country  life_expectancy_males_(years)  \\\n",
       "0                Hong Kong                           83.2   \n",
       "1                    Macao                           82.8   \n",
       "2              Switzerland                           81.9   \n",
       "3                  Iceland                           81.8   \n",
       "4                   Norway                           81.7   \n",
       "..                     ...                            ...   \n",
       "115  Congo (Dem. Republic)                           57.0   \n",
       "116               Zimbabwe                           56.2   \n",
       "117                Somalia                           53.2   \n",
       "118                Nigeria                           52.3   \n",
       "119                   Chad                           50.8   \n",
       "\n",
       "     life_expectancy_females_(years)  birth_rate(%)  death_rate(%)  \n",
       "0                               87.9            5.0            6.9  \n",
       "1                               87.9           10.1            4.1  \n",
       "2                               85.9           10.3            8.2  \n",
       "3                               84.5           13.1            6.3  \n",
       "4                               84.7           10.4            7.8  \n",
       "..                               ...            ...            ...  \n",
       "115                             61.5           42.0            9.7  \n",
       "116                             62.0           30.5            9.1  \n",
       "117                             57.4           43.6           11.6  \n",
       "118                             53.1           37.1           13.1  \n",
       "119                             54.3           43.4           12.5  \n",
       "\n",
       "[120 rows x 5 columns]"
      ]
     },
     "execution_count": 94,
     "metadata": {},
     "output_type": "execute_result"
    }
   ],
   "source": [
    "df"
   ]
  },
  {
   "cell_type": "code",
   "execution_count": 95,
   "id": "d06b7503",
   "metadata": {},
   "outputs": [
    {
     "name": "stdout",
     "output_type": "stream",
     "text": [
      "<class 'pandas.core.frame.DataFrame'>\n",
      "RangeIndex: 120 entries, 0 to 119\n",
      "Data columns (total 5 columns):\n",
      " #   Column                           Non-Null Count  Dtype  \n",
      "---  ------                           --------------  -----  \n",
      " 0   country                          120 non-null    string \n",
      " 1   life_expectancy_males_(years)    120 non-null    float64\n",
      " 2   life_expectancy_females_(years)  120 non-null    float64\n",
      " 3   birth_rate(%)                    120 non-null    float64\n",
      " 4   death_rate(%)                    120 non-null    float64\n",
      "dtypes: float64(4), string(1)\n",
      "memory usage: 4.8 KB\n"
     ]
    }
   ],
   "source": [
    "df.info()"
   ]
  },
  {
   "cell_type": "code",
   "execution_count": 98,
   "id": "a3541d7d",
   "metadata": {},
   "outputs": [
    {
     "data": {
      "text/plain": [
       "100"
      ]
     },
     "execution_count": 98,
     "metadata": {},
     "output_type": "execute_result"
    }
   ],
   "source": [
    "df[\"life_expectancy_males_(years)\"].nunique()"
   ]
  },
  {
   "cell_type": "code",
   "execution_count": 107,
   "id": "eec729b1",
   "metadata": {},
   "outputs": [
    {
     "data": {
      "text/plain": [
       "50.8"
      ]
     },
     "execution_count": 107,
     "metadata": {},
     "output_type": "execute_result"
    }
   ],
   "source": [
    "df[\"life_expectancy_males_(years)\"].min()"
   ]
  },
  {
   "cell_type": "code",
   "execution_count": 108,
   "id": "34cfa086",
   "metadata": {},
   "outputs": [
    {
     "data": {
      "text/plain": [
       "83.2"
      ]
     },
     "execution_count": 108,
     "metadata": {},
     "output_type": "execute_result"
    }
   ],
   "source": [
    "df[\"life_expectancy_males_(years)\"].max()"
   ]
  },
  {
   "cell_type": "code",
   "execution_count": 100,
   "id": "1e3dfe20",
   "metadata": {},
   "outputs": [
    {
     "data": {
      "text/plain": [
       "66.1    3\n",
       "80.6    3\n",
       "58.9    2\n",
       "66.3    2\n",
       "70.3    2\n",
       "       ..\n",
       "74.5    1\n",
       "74.9    1\n",
       "75.5    1\n",
       "75.6    1\n",
       "50.8    1\n",
       "Name: life_expectancy_males_(years), Length: 100, dtype: int64"
      ]
     },
     "execution_count": 100,
     "metadata": {},
     "output_type": "execute_result"
    }
   ],
   "source": [
    "df[\"life_expectancy_males_(years)\"].value_counts()"
   ]
  },
  {
   "cell_type": "code",
   "execution_count": 101,
   "id": "ca1b16ce",
   "metadata": {},
   "outputs": [
    {
     "data": {
      "text/plain": [
       "98"
      ]
     },
     "execution_count": 101,
     "metadata": {},
     "output_type": "execute_result"
    }
   ],
   "source": [
    "df[\"life_expectancy_females_(years)\"].nunique()"
   ]
  },
  {
   "cell_type": "code",
   "execution_count": 105,
   "id": "6d01fa62",
   "metadata": {},
   "outputs": [
    {
     "data": {
      "text/plain": [
       "87.9"
      ]
     },
     "execution_count": 105,
     "metadata": {},
     "output_type": "execute_result"
    }
   ],
   "source": [
    "df[\"life_expectancy_females_(years)\"].max()"
   ]
  },
  {
   "cell_type": "code",
   "execution_count": 106,
   "id": "3e5c5784",
   "metadata": {},
   "outputs": [
    {
     "data": {
      "text/plain": [
       "53.1"
      ]
     },
     "execution_count": 106,
     "metadata": {},
     "output_type": "execute_result"
    }
   ],
   "source": [
    "df[\"life_expectancy_females_(years)\"].min()"
   ]
  },
  {
   "cell_type": "code",
   "execution_count": 102,
   "id": "26b33dfb",
   "metadata": {},
   "outputs": [
    {
     "data": {
      "text/plain": [
       "66.1    3\n",
       "80.6    3\n",
       "58.9    2\n",
       "66.3    2\n",
       "70.3    2\n",
       "       ..\n",
       "74.5    1\n",
       "74.9    1\n",
       "75.5    1\n",
       "75.6    1\n",
       "50.8    1\n",
       "Name: life_expectancy_males_(years), Length: 100, dtype: int64"
      ]
     },
     "execution_count": 102,
     "metadata": {},
     "output_type": "execute_result"
    }
   ],
   "source": [
    "df[\"life_expectancy_males_(years)\"].value_counts()"
   ]
  },
  {
   "cell_type": "code",
   "execution_count": null,
   "id": "8de36dc6",
   "metadata": {},
   "outputs": [],
   "source": []
  },
  {
   "cell_type": "code",
   "execution_count": null,
   "id": "11d50c5c",
   "metadata": {},
   "outputs": [],
   "source": []
  },
  {
   "cell_type": "code",
   "execution_count": null,
   "id": "3197a338",
   "metadata": {},
   "outputs": [],
   "source": []
  },
  {
   "cell_type": "code",
   "execution_count": null,
   "id": "ebefa142",
   "metadata": {},
   "outputs": [],
   "source": []
  },
  {
   "cell_type": "code",
   "execution_count": null,
   "id": "0d67fc7e",
   "metadata": {},
   "outputs": [],
   "source": []
  },
  {
   "cell_type": "code",
   "execution_count": null,
   "id": "23560cab",
   "metadata": {},
   "outputs": [],
   "source": []
  },
  {
   "cell_type": "code",
   "execution_count": null,
   "id": "693fd5d0",
   "metadata": {},
   "outputs": [],
   "source": []
  },
  {
   "cell_type": "code",
   "execution_count": null,
   "id": "876d3954",
   "metadata": {},
   "outputs": [],
   "source": []
  }
 ],
 "metadata": {
  "kernelspec": {
   "display_name": "Python 3 (ipykernel)",
   "language": "python",
   "name": "python3"
  },
  "language_info": {
   "codemirror_mode": {
    "name": "ipython",
    "version": 3
   },
   "file_extension": ".py",
   "mimetype": "text/x-python",
   "name": "python",
   "nbconvert_exporter": "python",
   "pygments_lexer": "ipython3",
   "version": "3.11.3"
  }
 },
 "nbformat": 4,
 "nbformat_minor": 5
}
