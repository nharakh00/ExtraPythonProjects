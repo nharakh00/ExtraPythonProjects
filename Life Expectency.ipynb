{
 "cells": [
  {
   "cell_type": "code",
   "execution_count": 14,
   "id": "65ad3906",
   "metadata": {},
   "outputs": [],
   "source": [
    "import pandas as pd\n",
    "import matplotlib.pyplot as plt"
   ]
  },
  {
   "cell_type": "code",
   "execution_count": 18,
   "id": "c83900ff",
   "metadata": {},
   "outputs": [
    {
     "name": "stdout",
     "output_type": "stream",
     "text": [
      "<class 'pandas.core.frame.DataFrame'>\n",
      "RangeIndex: 120 entries, 0 to 119\n",
      "Data columns (total 5 columns):\n",
      " #   Column                   Non-Null Count  Dtype \n",
      "---  ------                   --------------  ----- \n",
      " 0   Country                  120 non-null    object\n",
      " 1   Life expectancy males    120 non-null    object\n",
      " 2   Life expectancy females  120 non-null    object\n",
      " 3   Birth rate               120 non-null    object\n",
      " 4   Death rate               120 non-null    object\n",
      "dtypes: object(5)\n",
      "memory usage: 4.8+ KB\n"
     ]
    }
   ],
   "source": [
    "df = pd.read_csv(\"life_expectancy.csv\")\n",
    "df.info()\n"
   ]
  },
  {
   "cell_type": "code",
   "execution_count": 19,
   "id": "13e33594",
   "metadata": {},
   "outputs": [
    {
     "data": {
      "text/html": [
       "<div>\n",
       "<style scoped>\n",
       "    .dataframe tbody tr th:only-of-type {\n",
       "        vertical-align: middle;\n",
       "    }\n",
       "\n",
       "    .dataframe tbody tr th {\n",
       "        vertical-align: top;\n",
       "    }\n",
       "\n",
       "    .dataframe thead th {\n",
       "        text-align: right;\n",
       "    }\n",
       "</style>\n",
       "<table border=\"1\" class=\"dataframe\">\n",
       "  <thead>\n",
       "    <tr style=\"text-align: right;\">\n",
       "      <th></th>\n",
       "      <th>Country</th>\n",
       "      <th>Life expectancy males</th>\n",
       "      <th>Life expectancy females</th>\n",
       "      <th>Birth rate</th>\n",
       "      <th>Death rate</th>\n",
       "    </tr>\n",
       "  </thead>\n",
       "  <tbody>\n",
       "    <tr>\n",
       "      <th>0</th>\n",
       "      <td>Hong Kong *</td>\n",
       "      <td>83.2 years</td>\n",
       "      <td>87.9 years</td>\n",
       "      <td>5.0 ‰</td>\n",
       "      <td>6.9 ‰</td>\n",
       "    </tr>\n",
       "    <tr>\n",
       "      <th>1</th>\n",
       "      <td>Macao *</td>\n",
       "      <td>82.8 years</td>\n",
       "      <td>87.9 years</td>\n",
       "      <td>10.1 ‰</td>\n",
       "      <td>4.1 ‰</td>\n",
       "    </tr>\n",
       "    <tr>\n",
       "      <th>2</th>\n",
       "      <td>Switzerland</td>\n",
       "      <td>81.9 years</td>\n",
       "      <td>85.9 years</td>\n",
       "      <td>10.3 ‰</td>\n",
       "      <td>8.2 ‰</td>\n",
       "    </tr>\n",
       "    <tr>\n",
       "      <th>3</th>\n",
       "      <td>Iceland</td>\n",
       "      <td>81.8 years</td>\n",
       "      <td>84.5 years</td>\n",
       "      <td>13.1 ‰</td>\n",
       "      <td>6.3 ‰</td>\n",
       "    </tr>\n",
       "    <tr>\n",
       "      <th>4</th>\n",
       "      <td>Norway</td>\n",
       "      <td>81.7 years</td>\n",
       "      <td>84.7 years</td>\n",
       "      <td>10.4 ‰</td>\n",
       "      <td>7.8 ‰</td>\n",
       "    </tr>\n",
       "    <tr>\n",
       "      <th>...</th>\n",
       "      <td>...</td>\n",
       "      <td>...</td>\n",
       "      <td>...</td>\n",
       "      <td>...</td>\n",
       "      <td>...</td>\n",
       "    </tr>\n",
       "    <tr>\n",
       "      <th>115</th>\n",
       "      <td>Congo (Dem. Republic)</td>\n",
       "      <td>57.0 years</td>\n",
       "      <td>61.5 years</td>\n",
       "      <td>42.0 ‰</td>\n",
       "      <td>9.7 ‰</td>\n",
       "    </tr>\n",
       "    <tr>\n",
       "      <th>116</th>\n",
       "      <td>Zimbabwe</td>\n",
       "      <td>56.2 years</td>\n",
       "      <td>62.0 years</td>\n",
       "      <td>30.5 ‰</td>\n",
       "      <td>9.1 ‰</td>\n",
       "    </tr>\n",
       "    <tr>\n",
       "      <th>117</th>\n",
       "      <td>Somalia</td>\n",
       "      <td>53.2 years</td>\n",
       "      <td>57.4 years</td>\n",
       "      <td>43.6 ‰</td>\n",
       "      <td>11.6 ‰</td>\n",
       "    </tr>\n",
       "    <tr>\n",
       "      <th>118</th>\n",
       "      <td>Nigeria</td>\n",
       "      <td>52.3 years</td>\n",
       "      <td>53.1 years</td>\n",
       "      <td>37.1 ‰</td>\n",
       "      <td>13.1 ‰</td>\n",
       "    </tr>\n",
       "    <tr>\n",
       "      <th>119</th>\n",
       "      <td>Chad</td>\n",
       "      <td>50.8 years</td>\n",
       "      <td>54.3 years</td>\n",
       "      <td>43.4 ‰</td>\n",
       "      <td>12.5 ‰</td>\n",
       "    </tr>\n",
       "  </tbody>\n",
       "</table>\n",
       "<p>120 rows × 5 columns</p>\n",
       "</div>"
      ],
      "text/plain": [
       "                   Country Life expectancy males Life expectancy females  \\\n",
       "0              Hong Kong *            83.2 years              87.9 years   \n",
       "1                  Macao *            82.8 years              87.9 years   \n",
       "2              Switzerland            81.9 years              85.9 years   \n",
       "3                  Iceland            81.8 years              84.5 years   \n",
       "4                   Norway            81.7 years              84.7 years   \n",
       "..                     ...                   ...                     ...   \n",
       "115  Congo (Dem. Republic)            57.0 years              61.5 years   \n",
       "116               Zimbabwe            56.2 years              62.0 years   \n",
       "117                Somalia            53.2 years              57.4 years   \n",
       "118                Nigeria            52.3 years              53.1 years   \n",
       "119                   Chad            50.8 years              54.3 years   \n",
       "\n",
       "    Birth rate Death rate  \n",
       "0        5.0 ‰      6.9 ‰  \n",
       "1       10.1 ‰      4.1 ‰  \n",
       "2       10.3 ‰      8.2 ‰  \n",
       "3       13.1 ‰      6.3 ‰  \n",
       "4       10.4 ‰      7.8 ‰  \n",
       "..         ...        ...  \n",
       "115     42.0 ‰      9.7 ‰  \n",
       "116     30.5 ‰      9.1 ‰  \n",
       "117     43.6 ‰     11.6 ‰  \n",
       "118     37.1 ‰     13.1 ‰  \n",
       "119     43.4 ‰     12.5 ‰  \n",
       "\n",
       "[120 rows x 5 columns]"
      ]
     },
     "execution_count": 19,
     "metadata": {},
     "output_type": "execute_result"
    }
   ],
   "source": [
    "df\n"
   ]
  },
  {
   "cell_type": "code",
   "execution_count": 20,
   "id": "7f48cbc3",
   "metadata": {},
   "outputs": [
    {
     "data": {
      "text/html": [
       "<div>\n",
       "<style scoped>\n",
       "    .dataframe tbody tr th:only-of-type {\n",
       "        vertical-align: middle;\n",
       "    }\n",
       "\n",
       "    .dataframe tbody tr th {\n",
       "        vertical-align: top;\n",
       "    }\n",
       "\n",
       "    .dataframe thead th {\n",
       "        text-align: right;\n",
       "    }\n",
       "</style>\n",
       "<table border=\"1\" class=\"dataframe\">\n",
       "  <thead>\n",
       "    <tr style=\"text-align: right;\">\n",
       "      <th></th>\n",
       "      <th>Country</th>\n",
       "      <th>Life expectancy males</th>\n",
       "      <th>Life expectancy females</th>\n",
       "      <th>Birth rate</th>\n",
       "      <th>Death rate</th>\n",
       "    </tr>\n",
       "  </thead>\n",
       "  <tbody>\n",
       "    <tr>\n",
       "      <th>0</th>\n",
       "      <td>Hong Kong *</td>\n",
       "      <td>83.2 years</td>\n",
       "      <td>87.9 years</td>\n",
       "      <td>5.0 ‰</td>\n",
       "      <td>6.9 ‰</td>\n",
       "    </tr>\n",
       "    <tr>\n",
       "      <th>1</th>\n",
       "      <td>Macao *</td>\n",
       "      <td>82.8 years</td>\n",
       "      <td>87.9 years</td>\n",
       "      <td>10.1 ‰</td>\n",
       "      <td>4.1 ‰</td>\n",
       "    </tr>\n",
       "    <tr>\n",
       "      <th>2</th>\n",
       "      <td>Switzerland</td>\n",
       "      <td>81.9 years</td>\n",
       "      <td>85.9 years</td>\n",
       "      <td>10.3 ‰</td>\n",
       "      <td>8.2 ‰</td>\n",
       "    </tr>\n",
       "    <tr>\n",
       "      <th>3</th>\n",
       "      <td>Iceland</td>\n",
       "      <td>81.8 years</td>\n",
       "      <td>84.5 years</td>\n",
       "      <td>13.1 ‰</td>\n",
       "      <td>6.3 ‰</td>\n",
       "    </tr>\n",
       "    <tr>\n",
       "      <th>4</th>\n",
       "      <td>Norway</td>\n",
       "      <td>81.7 years</td>\n",
       "      <td>84.7 years</td>\n",
       "      <td>10.4 ‰</td>\n",
       "      <td>7.8 ‰</td>\n",
       "    </tr>\n",
       "  </tbody>\n",
       "</table>\n",
       "</div>"
      ],
      "text/plain": [
       "       Country Life expectancy males Life expectancy females Birth rate  \\\n",
       "0  Hong Kong *            83.2 years              87.9 years      5.0 ‰   \n",
       "1      Macao *            82.8 years              87.9 years     10.1 ‰   \n",
       "2  Switzerland            81.9 years              85.9 years     10.3 ‰   \n",
       "3      Iceland            81.8 years              84.5 years     13.1 ‰   \n",
       "4       Norway            81.7 years              84.7 years     10.4 ‰   \n",
       "\n",
       "  Death rate  \n",
       "0      6.9 ‰  \n",
       "1      4.1 ‰  \n",
       "2      8.2 ‰  \n",
       "3      6.3 ‰  \n",
       "4      7.8 ‰  "
      ]
     },
     "execution_count": 20,
     "metadata": {},
     "output_type": "execute_result"
    }
   ],
   "source": [
    "df.head()"
   ]
  },
  {
   "cell_type": "code",
   "execution_count": 21,
   "id": "f428f738",
   "metadata": {
    "scrolled": true
   },
   "outputs": [
    {
     "data": {
      "text/html": [
       "<div>\n",
       "<style scoped>\n",
       "    .dataframe tbody tr th:only-of-type {\n",
       "        vertical-align: middle;\n",
       "    }\n",
       "\n",
       "    .dataframe tbody tr th {\n",
       "        vertical-align: top;\n",
       "    }\n",
       "\n",
       "    .dataframe thead th {\n",
       "        text-align: right;\n",
       "    }\n",
       "</style>\n",
       "<table border=\"1\" class=\"dataframe\">\n",
       "  <thead>\n",
       "    <tr style=\"text-align: right;\">\n",
       "      <th></th>\n",
       "      <th>Country</th>\n",
       "      <th>Life expectancy males</th>\n",
       "      <th>Life expectancy females</th>\n",
       "      <th>Birth rate</th>\n",
       "      <th>Death rate</th>\n",
       "    </tr>\n",
       "  </thead>\n",
       "  <tbody>\n",
       "    <tr>\n",
       "      <th>115</th>\n",
       "      <td>Congo (Dem. Republic)</td>\n",
       "      <td>57.0 years</td>\n",
       "      <td>61.5 years</td>\n",
       "      <td>42.0 ‰</td>\n",
       "      <td>9.7 ‰</td>\n",
       "    </tr>\n",
       "    <tr>\n",
       "      <th>116</th>\n",
       "      <td>Zimbabwe</td>\n",
       "      <td>56.2 years</td>\n",
       "      <td>62.0 years</td>\n",
       "      <td>30.5 ‰</td>\n",
       "      <td>9.1 ‰</td>\n",
       "    </tr>\n",
       "    <tr>\n",
       "      <th>117</th>\n",
       "      <td>Somalia</td>\n",
       "      <td>53.2 years</td>\n",
       "      <td>57.4 years</td>\n",
       "      <td>43.6 ‰</td>\n",
       "      <td>11.6 ‰</td>\n",
       "    </tr>\n",
       "    <tr>\n",
       "      <th>118</th>\n",
       "      <td>Nigeria</td>\n",
       "      <td>52.3 years</td>\n",
       "      <td>53.1 years</td>\n",
       "      <td>37.1 ‰</td>\n",
       "      <td>13.1 ‰</td>\n",
       "    </tr>\n",
       "    <tr>\n",
       "      <th>119</th>\n",
       "      <td>Chad</td>\n",
       "      <td>50.8 years</td>\n",
       "      <td>54.3 years</td>\n",
       "      <td>43.4 ‰</td>\n",
       "      <td>12.5 ‰</td>\n",
       "    </tr>\n",
       "  </tbody>\n",
       "</table>\n",
       "</div>"
      ],
      "text/plain": [
       "                   Country Life expectancy males Life expectancy females  \\\n",
       "115  Congo (Dem. Republic)            57.0 years              61.5 years   \n",
       "116               Zimbabwe            56.2 years              62.0 years   \n",
       "117                Somalia            53.2 years              57.4 years   \n",
       "118                Nigeria            52.3 years              53.1 years   \n",
       "119                   Chad            50.8 years              54.3 years   \n",
       "\n",
       "    Birth rate Death rate  \n",
       "115     42.0 ‰      9.7 ‰  \n",
       "116     30.5 ‰      9.1 ‰  \n",
       "117     43.6 ‰     11.6 ‰  \n",
       "118     37.1 ‰     13.1 ‰  \n",
       "119     43.4 ‰     12.5 ‰  "
      ]
     },
     "execution_count": 21,
     "metadata": {},
     "output_type": "execute_result"
    }
   ],
   "source": [
    "df.tail()"
   ]
  },
  {
   "cell_type": "code",
   "execution_count": 22,
   "id": "9a2e8eb6",
   "metadata": {},
   "outputs": [
    {
     "name": "stdout",
     "output_type": "stream",
     "text": [
      "<class 'pandas.core.frame.DataFrame'>\n",
      "RangeIndex: 120 entries, 0 to 119\n",
      "Data columns (total 5 columns):\n",
      " #   Column                   Non-Null Count  Dtype \n",
      "---  ------                   --------------  ----- \n",
      " 0   Country                  120 non-null    object\n",
      " 1   Life expectancy males    120 non-null    object\n",
      " 2   Life expectancy females  120 non-null    object\n",
      " 3   Birth rate               120 non-null    object\n",
      " 4   Death rate               120 non-null    object\n",
      "dtypes: object(5)\n",
      "memory usage: 4.8+ KB\n"
     ]
    }
   ],
   "source": [
    "df.info()"
   ]
  },
  {
   "cell_type": "code",
   "execution_count": 23,
   "id": "7a95fd66",
   "metadata": {},
   "outputs": [
    {
     "data": {
      "text/plain": [
       "0                Hong Kong *\n",
       "1                    Macao *\n",
       "2                Switzerland\n",
       "3                    Iceland\n",
       "4                     Norway\n",
       "               ...          \n",
       "115    Congo (Dem. Republic)\n",
       "116                 Zimbabwe\n",
       "117                  Somalia\n",
       "118                  Nigeria\n",
       "119                     Chad\n",
       "Name: Country, Length: 120, dtype: object"
      ]
     },
     "execution_count": 23,
     "metadata": {},
     "output_type": "execute_result"
    }
   ],
   "source": [
    "df[\"Country\"]"
   ]
  },
  {
   "cell_type": "code",
   "execution_count": 24,
   "id": "46c901af",
   "metadata": {},
   "outputs": [
    {
     "name": "stdout",
     "output_type": "stream",
     "text": [
      "<class 'pandas.core.series.Series'>\n",
      "RangeIndex: 120 entries, 0 to 119\n",
      "Series name: Country\n",
      "Non-Null Count  Dtype \n",
      "--------------  ----- \n",
      "120 non-null    object\n",
      "dtypes: object(1)\n",
      "memory usage: 1.1+ KB\n"
     ]
    }
   ],
   "source": [
    "df[\"Country\"].info()"
   ]
  },
  {
   "cell_type": "code",
   "execution_count": 26,
   "id": "5f214d9e",
   "metadata": {},
   "outputs": [
    {
     "data": {
      "text/html": [
       "<div>\n",
       "<style scoped>\n",
       "    .dataframe tbody tr th:only-of-type {\n",
       "        vertical-align: middle;\n",
       "    }\n",
       "\n",
       "    .dataframe tbody tr th {\n",
       "        vertical-align: top;\n",
       "    }\n",
       "\n",
       "    .dataframe thead th {\n",
       "        text-align: right;\n",
       "    }\n",
       "</style>\n",
       "<table border=\"1\" class=\"dataframe\">\n",
       "  <thead>\n",
       "    <tr style=\"text-align: right;\">\n",
       "      <th></th>\n",
       "      <th>Country</th>\n",
       "    </tr>\n",
       "  </thead>\n",
       "  <tbody>\n",
       "    <tr>\n",
       "      <th>0</th>\n",
       "      <td>Hong Kong *</td>\n",
       "    </tr>\n",
       "    <tr>\n",
       "      <th>1</th>\n",
       "      <td>Macao *</td>\n",
       "    </tr>\n",
       "    <tr>\n",
       "      <th>2</th>\n",
       "      <td>Switzerland</td>\n",
       "    </tr>\n",
       "    <tr>\n",
       "      <th>3</th>\n",
       "      <td>Iceland</td>\n",
       "    </tr>\n",
       "    <tr>\n",
       "      <th>4</th>\n",
       "      <td>Norway</td>\n",
       "    </tr>\n",
       "    <tr>\n",
       "      <th>...</th>\n",
       "      <td>...</td>\n",
       "    </tr>\n",
       "    <tr>\n",
       "      <th>115</th>\n",
       "      <td>Congo (Dem. Republic)</td>\n",
       "    </tr>\n",
       "    <tr>\n",
       "      <th>116</th>\n",
       "      <td>Zimbabwe</td>\n",
       "    </tr>\n",
       "    <tr>\n",
       "      <th>117</th>\n",
       "      <td>Somalia</td>\n",
       "    </tr>\n",
       "    <tr>\n",
       "      <th>118</th>\n",
       "      <td>Nigeria</td>\n",
       "    </tr>\n",
       "    <tr>\n",
       "      <th>119</th>\n",
       "      <td>Chad</td>\n",
       "    </tr>\n",
       "  </tbody>\n",
       "</table>\n",
       "<p>120 rows × 1 columns</p>\n",
       "</div>"
      ],
      "text/plain": [
       "                   Country\n",
       "0              Hong Kong *\n",
       "1                  Macao *\n",
       "2              Switzerland\n",
       "3                  Iceland\n",
       "4                   Norway\n",
       "..                     ...\n",
       "115  Congo (Dem. Republic)\n",
       "116               Zimbabwe\n",
       "117                Somalia\n",
       "118                Nigeria\n",
       "119                   Chad\n",
       "\n",
       "[120 rows x 1 columns]"
      ]
     },
     "execution_count": 26,
     "metadata": {},
     "output_type": "execute_result"
    }
   ],
   "source": [
    "df[[\"Country\"]]"
   ]
  },
  {
   "cell_type": "code",
   "execution_count": 27,
   "id": "ee3c834d",
   "metadata": {},
   "outputs": [
    {
     "name": "stdout",
     "output_type": "stream",
     "text": [
      "<class 'pandas.core.frame.DataFrame'>\n",
      "RangeIndex: 120 entries, 0 to 119\n",
      "Data columns (total 1 columns):\n",
      " #   Column   Non-Null Count  Dtype \n",
      "---  ------   --------------  ----- \n",
      " 0   Country  120 non-null    object\n",
      "dtypes: object(1)\n",
      "memory usage: 1.1+ KB\n"
     ]
    }
   ],
   "source": [
    "df[[\"Country\"]].info()"
   ]
  },
  {
   "cell_type": "code",
   "execution_count": null,
   "id": "8e874a30",
   "metadata": {},
   "outputs": [],
   "source": [
    "df[\"Country\"].info()"
   ]
  },
  {
   "cell_type": "code",
   "execution_count": 33,
   "id": "d27082cd",
   "metadata": {},
   "outputs": [
    {
     "data": {
      "text/plain": [
       "Country                      Zimbabwe\n",
       "Life expectancy males      83.2 years\n",
       "Life expectancy females    87.9 years\n",
       "Birth rate                      9.8 ‰\n",
       "Death rate                      9.9 ‰\n",
       "dtype: object"
      ]
     },
     "execution_count": 33,
     "metadata": {},
     "output_type": "execute_result"
    }
   ],
   "source": [
    "df.max()"
   ]
  },
  {
   "cell_type": "code",
   "execution_count": 31,
   "id": "ed98390c",
   "metadata": {},
   "outputs": [
    {
     "data": {
      "text/plain": [
       "Country                    Afghanistan\n",
       "Life expectancy males       50.8 years\n",
       "Life expectancy females     53.1 years\n",
       "Birth rate                      10.0 ‰\n",
       "Death rate                       1.3 ‰\n",
       "dtype: object"
      ]
     },
     "execution_count": 31,
     "metadata": {},
     "output_type": "execute_result"
    }
   ],
   "source": [
    "df.min()"
   ]
  },
  {
   "cell_type": "markdown",
   "id": "ee73e452",
   "metadata": {},
   "source": [
    "# Data Cleaning "
   ]
  },
  {
   "cell_type": "markdown",
   "id": "ff0e0ebb",
   "metadata": {},
   "source": [
    "## Country"
   ]
  },
  {
   "cell_type": "code",
   "execution_count": 38,
   "id": "67e7190a",
   "metadata": {},
   "outputs": [
    {
     "name": "stdout",
     "output_type": "stream",
     "text": [
      "<class 'pandas.core.frame.DataFrame'>\n",
      "RangeIndex: 120 entries, 0 to 119\n",
      "Data columns (total 5 columns):\n",
      " #   Column                   Non-Null Count  Dtype \n",
      "---  ------                   --------------  ----- \n",
      " 0   Country                  120 non-null    object\n",
      " 1   Life expectancy males    120 non-null    object\n",
      " 2   Life expectancy females  120 non-null    object\n",
      " 3   Birth rate               120 non-null    object\n",
      " 4   Death rate               120 non-null    object\n",
      "dtypes: object(5)\n",
      "memory usage: 4.8+ KB\n"
     ]
    }
   ],
   "source": [
    "df.info()"
   ]
  },
  {
   "cell_type": "code",
   "execution_count": 39,
   "id": "2bb3ca2b",
   "metadata": {},
   "outputs": [
    {
     "data": {
      "text/plain": [
       "0                Hong Kong *\n",
       "1                    Macao *\n",
       "2                Switzerland\n",
       "3                    Iceland\n",
       "4                     Norway\n",
       "               ...          \n",
       "115    Congo (Dem. Republic)\n",
       "116                 Zimbabwe\n",
       "117                  Somalia\n",
       "118                  Nigeria\n",
       "119                     Chad\n",
       "Name: Country, Length: 120, dtype: object"
      ]
     },
     "execution_count": 39,
     "metadata": {},
     "output_type": "execute_result"
    }
   ],
   "source": [
    "df[\"Country\"]"
   ]
  },
  {
   "cell_type": "code",
   "execution_count": 40,
   "id": "b97473b8",
   "metadata": {},
   "outputs": [
    {
     "data": {
      "text/html": [
       "<div>\n",
       "<style scoped>\n",
       "    .dataframe tbody tr th:only-of-type {\n",
       "        vertical-align: middle;\n",
       "    }\n",
       "\n",
       "    .dataframe tbody tr th {\n",
       "        vertical-align: top;\n",
       "    }\n",
       "\n",
       "    .dataframe thead th {\n",
       "        text-align: right;\n",
       "    }\n",
       "</style>\n",
       "<table border=\"1\" class=\"dataframe\">\n",
       "  <thead>\n",
       "    <tr style=\"text-align: right;\">\n",
       "      <th></th>\n",
       "      <th>Country</th>\n",
       "    </tr>\n",
       "  </thead>\n",
       "  <tbody>\n",
       "    <tr>\n",
       "      <th>0</th>\n",
       "      <td>Hong Kong *</td>\n",
       "    </tr>\n",
       "    <tr>\n",
       "      <th>1</th>\n",
       "      <td>Macao *</td>\n",
       "    </tr>\n",
       "    <tr>\n",
       "      <th>2</th>\n",
       "      <td>Switzerland</td>\n",
       "    </tr>\n",
       "    <tr>\n",
       "      <th>3</th>\n",
       "      <td>Iceland</td>\n",
       "    </tr>\n",
       "    <tr>\n",
       "      <th>4</th>\n",
       "      <td>Norway</td>\n",
       "    </tr>\n",
       "    <tr>\n",
       "      <th>...</th>\n",
       "      <td>...</td>\n",
       "    </tr>\n",
       "    <tr>\n",
       "      <th>115</th>\n",
       "      <td>Congo (Dem. Republic)</td>\n",
       "    </tr>\n",
       "    <tr>\n",
       "      <th>116</th>\n",
       "      <td>Zimbabwe</td>\n",
       "    </tr>\n",
       "    <tr>\n",
       "      <th>117</th>\n",
       "      <td>Somalia</td>\n",
       "    </tr>\n",
       "    <tr>\n",
       "      <th>118</th>\n",
       "      <td>Nigeria</td>\n",
       "    </tr>\n",
       "    <tr>\n",
       "      <th>119</th>\n",
       "      <td>Chad</td>\n",
       "    </tr>\n",
       "  </tbody>\n",
       "</table>\n",
       "<p>120 rows × 1 columns</p>\n",
       "</div>"
      ],
      "text/plain": [
       "                   Country\n",
       "0              Hong Kong *\n",
       "1                  Macao *\n",
       "2              Switzerland\n",
       "3                  Iceland\n",
       "4                   Norway\n",
       "..                     ...\n",
       "115  Congo (Dem. Republic)\n",
       "116               Zimbabwe\n",
       "117                Somalia\n",
       "118                Nigeria\n",
       "119                   Chad\n",
       "\n",
       "[120 rows x 1 columns]"
      ]
     },
     "execution_count": 40,
     "metadata": {},
     "output_type": "execute_result"
    }
   ],
   "source": [
    "df[[\"Country\"]]"
   ]
  },
  {
   "cell_type": "markdown",
   "id": "c256af83",
   "metadata": {},
   "source": [
    "Convert this to string datatype "
   ]
  },
  {
   "cell_type": "code",
   "execution_count": 42,
   "id": "2a911dc2",
   "metadata": {},
   "outputs": [
    {
     "data": {
      "text/html": [
       "<div>\n",
       "<style scoped>\n",
       "    .dataframe tbody tr th:only-of-type {\n",
       "        vertical-align: middle;\n",
       "    }\n",
       "\n",
       "    .dataframe tbody tr th {\n",
       "        vertical-align: top;\n",
       "    }\n",
       "\n",
       "    .dataframe thead th {\n",
       "        text-align: right;\n",
       "    }\n",
       "</style>\n",
       "<table border=\"1\" class=\"dataframe\">\n",
       "  <thead>\n",
       "    <tr style=\"text-align: right;\">\n",
       "      <th></th>\n",
       "      <th>Country</th>\n",
       "      <th>Life expectancy males</th>\n",
       "      <th>Life expectancy females</th>\n",
       "      <th>Birth rate</th>\n",
       "      <th>Death rate</th>\n",
       "    </tr>\n",
       "  </thead>\n",
       "  <tbody>\n",
       "    <tr>\n",
       "      <th>count</th>\n",
       "      <td>120</td>\n",
       "      <td>120</td>\n",
       "      <td>120</td>\n",
       "      <td>120</td>\n",
       "      <td>120</td>\n",
       "    </tr>\n",
       "    <tr>\n",
       "      <th>unique</th>\n",
       "      <td>120</td>\n",
       "      <td>100</td>\n",
       "      <td>98</td>\n",
       "      <td>96</td>\n",
       "      <td>82</td>\n",
       "    </tr>\n",
       "    <tr>\n",
       "      <th>top</th>\n",
       "      <td>Hong Kong *</td>\n",
       "      <td>66.1 years</td>\n",
       "      <td>76.4 years</td>\n",
       "      <td>9.6 ‰</td>\n",
       "      <td>6.8 ‰</td>\n",
       "    </tr>\n",
       "    <tr>\n",
       "      <th>freq</th>\n",
       "      <td>1</td>\n",
       "      <td>3</td>\n",
       "      <td>3</td>\n",
       "      <td>4</td>\n",
       "      <td>5</td>\n",
       "    </tr>\n",
       "  </tbody>\n",
       "</table>\n",
       "</div>"
      ],
      "text/plain": [
       "            Country Life expectancy males Life expectancy females Birth rate  \\\n",
       "count           120                   120                     120        120   \n",
       "unique          120                   100                      98         96   \n",
       "top     Hong Kong *            66.1 years              76.4 years      9.6 ‰   \n",
       "freq              1                     3                       3          4   \n",
       "\n",
       "       Death rate  \n",
       "count         120  \n",
       "unique         82  \n",
       "top         6.8 ‰  \n",
       "freq            5  "
      ]
     },
     "execution_count": 42,
     "metadata": {},
     "output_type": "execute_result"
    }
   ],
   "source": [
    "df.describe()"
   ]
  },
  {
   "cell_type": "code",
   "execution_count": 45,
   "id": "afbd853a",
   "metadata": {},
   "outputs": [
    {
     "data": {
      "text/plain": [
       "0                Hong Kong *\n",
       "1                    Macao *\n",
       "2                Switzerland\n",
       "3                    Iceland\n",
       "4                     Norway\n",
       "               ...          \n",
       "115    Congo (Dem. Republic)\n",
       "116                 Zimbabwe\n",
       "117                  Somalia\n",
       "118                  Nigeria\n",
       "119                     Chad\n",
       "Name: Country, Length: 120, dtype: string"
      ]
     },
     "execution_count": 45,
     "metadata": {},
     "output_type": "execute_result"
    }
   ],
   "source": [
    "df[\"Country\"].astype(\"string\")"
   ]
  },
  {
   "cell_type": "code",
   "execution_count": 48,
   "id": "641f22ba",
   "metadata": {},
   "outputs": [],
   "source": [
    "df[\"Country\"] = df[\"Country\"].astype(\"string\")"
   ]
  },
  {
   "cell_type": "code",
   "execution_count": 51,
   "id": "74f57990",
   "metadata": {},
   "outputs": [
    {
     "name": "stdout",
     "output_type": "stream",
     "text": [
      "<class 'pandas.core.frame.DataFrame'>\n",
      "RangeIndex: 120 entries, 0 to 119\n",
      "Data columns (total 5 columns):\n",
      " #   Column                   Non-Null Count  Dtype \n",
      "---  ------                   --------------  ----- \n",
      " 0   Country                  120 non-null    string\n",
      " 1   Life expectancy males    120 non-null    object\n",
      " 2   Life expectancy females  120 non-null    object\n",
      " 3   Birth rate               120 non-null    object\n",
      " 4   Death rate               120 non-null    object\n",
      "dtypes: object(4), string(1)\n",
      "memory usage: 4.8+ KB\n"
     ]
    }
   ],
   "source": [
    "df.info()"
   ]
  },
  {
   "cell_type": "code",
   "execution_count": 55,
   "id": "3c600eeb",
   "metadata": {},
   "outputs": [
    {
     "data": {
      "text/plain": [
       "0                Hong Kong *\n",
       "1                    Macao *\n",
       "2                Switzerland\n",
       "3                    Iceland\n",
       "4                     Norway\n",
       "               ...          \n",
       "115    Congo (Dem. Republic)\n",
       "116                 Zimbabwe\n",
       "117                  Somalia\n",
       "118                  Nigeria\n",
       "119                     Chad\n",
       "Name: Country, Length: 120, dtype: string"
      ]
     },
     "execution_count": 55,
     "metadata": {},
     "output_type": "execute_result"
    }
   ],
   "source": [
    "df[\"Country\"]"
   ]
  },
  {
   "cell_type": "code",
   "execution_count": 57,
   "id": "23ddee3a",
   "metadata": {},
   "outputs": [],
   "source": [
    "df[\"Country\"] = df[\"Country\"].str.strip(to_strip = \" \")"
   ]
  },
  {
   "cell_type": "code",
   "execution_count": 58,
   "id": "fb6681f1",
   "metadata": {},
   "outputs": [
    {
     "data": {
      "text/plain": [
       "0                Hong Kong *\n",
       "1                    Macao *\n",
       "2                Switzerland\n",
       "3                    Iceland\n",
       "4                     Norway\n",
       "               ...          \n",
       "115    Congo (Dem. Republic)\n",
       "116                 Zimbabwe\n",
       "117                  Somalia\n",
       "118                  Nigeria\n",
       "119                     Chad\n",
       "Name: Country, Length: 120, dtype: string"
      ]
     },
     "execution_count": 58,
     "metadata": {},
     "output_type": "execute_result"
    }
   ],
   "source": [
    "df[\"Country\"]"
   ]
  },
  {
   "cell_type": "code",
   "execution_count": null,
   "id": "6a20fa0e",
   "metadata": {},
   "outputs": [],
   "source": []
  },
  {
   "cell_type": "code",
   "execution_count": null,
   "id": "9cc3e5de",
   "metadata": {},
   "outputs": [],
   "source": []
  },
  {
   "cell_type": "code",
   "execution_count": null,
   "id": "e690a339",
   "metadata": {},
   "outputs": [],
   "source": []
  },
  {
   "cell_type": "code",
   "execution_count": null,
   "id": "830172b1",
   "metadata": {},
   "outputs": [],
   "source": []
  }
 ],
 "metadata": {
  "kernelspec": {
   "display_name": "Python 3 (ipykernel)",
   "language": "python",
   "name": "python3"
  },
  "language_info": {
   "codemirror_mode": {
    "name": "ipython",
    "version": 3
   },
   "file_extension": ".py",
   "mimetype": "text/x-python",
   "name": "python",
   "nbconvert_exporter": "python",
   "pygments_lexer": "ipython3",
   "version": "3.11.3"
  }
 },
 "nbformat": 4,
 "nbformat_minor": 5
}
