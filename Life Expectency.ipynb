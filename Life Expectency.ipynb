{
 "cells": [
  {
   "cell_type": "code",
   "execution_count": 1,
   "id": "65ad3906",
   "metadata": {},
   "outputs": [],
   "source": [
    "import pandas as pd\n",
    "import matplotlib.pyplot as plt"
   ]
  },
  {
   "cell_type": "code",
   "execution_count": null,
   "id": "96620ecb",
   "metadata": {},
   "outputs": [],
   "source": []
  },
  {
   "cell_type": "markdown",
   "id": "e2a8a2ba",
   "metadata": {},
   "source": [
    "## Initial Inspection"
   ]
  },
  {
   "cell_type": "code",
   "execution_count": 2,
   "id": "c83900ff",
   "metadata": {},
   "outputs": [
    {
     "name": "stdout",
     "output_type": "stream",
     "text": [
      "<class 'pandas.core.frame.DataFrame'>\n",
      "RangeIndex: 120 entries, 0 to 119\n",
      "Data columns (total 5 columns):\n",
      " #   Column                   Non-Null Count  Dtype \n",
      "---  ------                   --------------  ----- \n",
      " 0   Country                  120 non-null    object\n",
      " 1   Life expectancy males    120 non-null    object\n",
      " 2   Life expectancy females  120 non-null    object\n",
      " 3   Birth rate               120 non-null    object\n",
      " 4   Death rate               120 non-null    object\n",
      "dtypes: object(5)\n",
      "memory usage: 4.8+ KB\n"
     ]
    }
   ],
   "source": [
    "df = pd.read_csv(\"life_expectancy.csv\")\n",
    "df.info()\n"
   ]
  },
  {
   "cell_type": "code",
   "execution_count": 3,
   "id": "13e33594",
   "metadata": {},
   "outputs": [
    {
     "data": {
      "text/html": [
       "<div>\n",
       "<style scoped>\n",
       "    .dataframe tbody tr th:only-of-type {\n",
       "        vertical-align: middle;\n",
       "    }\n",
       "\n",
       "    .dataframe tbody tr th {\n",
       "        vertical-align: top;\n",
       "    }\n",
       "\n",
       "    .dataframe thead th {\n",
       "        text-align: right;\n",
       "    }\n",
       "</style>\n",
       "<table border=\"1\" class=\"dataframe\">\n",
       "  <thead>\n",
       "    <tr style=\"text-align: right;\">\n",
       "      <th></th>\n",
       "      <th>Country</th>\n",
       "      <th>Life expectancy males</th>\n",
       "      <th>Life expectancy females</th>\n",
       "      <th>Birth rate</th>\n",
       "      <th>Death rate</th>\n",
       "    </tr>\n",
       "  </thead>\n",
       "  <tbody>\n",
       "    <tr>\n",
       "      <th>0</th>\n",
       "      <td>Hong Kong *</td>\n",
       "      <td>83.2 years</td>\n",
       "      <td>87.9 years</td>\n",
       "      <td>5.0 ‰</td>\n",
       "      <td>6.9 ‰</td>\n",
       "    </tr>\n",
       "    <tr>\n",
       "      <th>1</th>\n",
       "      <td>Macao *</td>\n",
       "      <td>82.8 years</td>\n",
       "      <td>87.9 years</td>\n",
       "      <td>10.1 ‰</td>\n",
       "      <td>4.1 ‰</td>\n",
       "    </tr>\n",
       "    <tr>\n",
       "      <th>2</th>\n",
       "      <td>Switzerland</td>\n",
       "      <td>81.9 years</td>\n",
       "      <td>85.9 years</td>\n",
       "      <td>10.3 ‰</td>\n",
       "      <td>8.2 ‰</td>\n",
       "    </tr>\n",
       "    <tr>\n",
       "      <th>3</th>\n",
       "      <td>Iceland</td>\n",
       "      <td>81.8 years</td>\n",
       "      <td>84.5 years</td>\n",
       "      <td>13.1 ‰</td>\n",
       "      <td>6.3 ‰</td>\n",
       "    </tr>\n",
       "    <tr>\n",
       "      <th>4</th>\n",
       "      <td>Norway</td>\n",
       "      <td>81.7 years</td>\n",
       "      <td>84.7 years</td>\n",
       "      <td>10.4 ‰</td>\n",
       "      <td>7.8 ‰</td>\n",
       "    </tr>\n",
       "    <tr>\n",
       "      <th>...</th>\n",
       "      <td>...</td>\n",
       "      <td>...</td>\n",
       "      <td>...</td>\n",
       "      <td>...</td>\n",
       "      <td>...</td>\n",
       "    </tr>\n",
       "    <tr>\n",
       "      <th>115</th>\n",
       "      <td>Congo (Dem. Republic)</td>\n",
       "      <td>57.0 years</td>\n",
       "      <td>61.5 years</td>\n",
       "      <td>42.0 ‰</td>\n",
       "      <td>9.7 ‰</td>\n",
       "    </tr>\n",
       "    <tr>\n",
       "      <th>116</th>\n",
       "      <td>Zimbabwe</td>\n",
       "      <td>56.2 years</td>\n",
       "      <td>62.0 years</td>\n",
       "      <td>30.5 ‰</td>\n",
       "      <td>9.1 ‰</td>\n",
       "    </tr>\n",
       "    <tr>\n",
       "      <th>117</th>\n",
       "      <td>Somalia</td>\n",
       "      <td>53.2 years</td>\n",
       "      <td>57.4 years</td>\n",
       "      <td>43.6 ‰</td>\n",
       "      <td>11.6 ‰</td>\n",
       "    </tr>\n",
       "    <tr>\n",
       "      <th>118</th>\n",
       "      <td>Nigeria</td>\n",
       "      <td>52.3 years</td>\n",
       "      <td>53.1 years</td>\n",
       "      <td>37.1 ‰</td>\n",
       "      <td>13.1 ‰</td>\n",
       "    </tr>\n",
       "    <tr>\n",
       "      <th>119</th>\n",
       "      <td>Chad</td>\n",
       "      <td>50.8 years</td>\n",
       "      <td>54.3 years</td>\n",
       "      <td>43.4 ‰</td>\n",
       "      <td>12.5 ‰</td>\n",
       "    </tr>\n",
       "  </tbody>\n",
       "</table>\n",
       "<p>120 rows × 5 columns</p>\n",
       "</div>"
      ],
      "text/plain": [
       "                   Country Life expectancy males Life expectancy females  \\\n",
       "0              Hong Kong *            83.2 years              87.9 years   \n",
       "1                  Macao *            82.8 years              87.9 years   \n",
       "2              Switzerland            81.9 years              85.9 years   \n",
       "3                  Iceland            81.8 years              84.5 years   \n",
       "4                   Norway            81.7 years              84.7 years   \n",
       "..                     ...                   ...                     ...   \n",
       "115  Congo (Dem. Republic)            57.0 years              61.5 years   \n",
       "116               Zimbabwe            56.2 years              62.0 years   \n",
       "117                Somalia            53.2 years              57.4 years   \n",
       "118                Nigeria            52.3 years              53.1 years   \n",
       "119                   Chad            50.8 years              54.3 years   \n",
       "\n",
       "    Birth rate Death rate  \n",
       "0        5.0 ‰      6.9 ‰  \n",
       "1       10.1 ‰      4.1 ‰  \n",
       "2       10.3 ‰      8.2 ‰  \n",
       "3       13.1 ‰      6.3 ‰  \n",
       "4       10.4 ‰      7.8 ‰  \n",
       "..         ...        ...  \n",
       "115     42.0 ‰      9.7 ‰  \n",
       "116     30.5 ‰      9.1 ‰  \n",
       "117     43.6 ‰     11.6 ‰  \n",
       "118     37.1 ‰     13.1 ‰  \n",
       "119     43.4 ‰     12.5 ‰  \n",
       "\n",
       "[120 rows x 5 columns]"
      ]
     },
     "execution_count": 3,
     "metadata": {},
     "output_type": "execute_result"
    }
   ],
   "source": [
    "df\n"
   ]
  },
  {
   "cell_type": "code",
   "execution_count": 4,
   "id": "7f48cbc3",
   "metadata": {},
   "outputs": [
    {
     "data": {
      "text/html": [
       "<div>\n",
       "<style scoped>\n",
       "    .dataframe tbody tr th:only-of-type {\n",
       "        vertical-align: middle;\n",
       "    }\n",
       "\n",
       "    .dataframe tbody tr th {\n",
       "        vertical-align: top;\n",
       "    }\n",
       "\n",
       "    .dataframe thead th {\n",
       "        text-align: right;\n",
       "    }\n",
       "</style>\n",
       "<table border=\"1\" class=\"dataframe\">\n",
       "  <thead>\n",
       "    <tr style=\"text-align: right;\">\n",
       "      <th></th>\n",
       "      <th>Country</th>\n",
       "      <th>Life expectancy males</th>\n",
       "      <th>Life expectancy females</th>\n",
       "      <th>Birth rate</th>\n",
       "      <th>Death rate</th>\n",
       "    </tr>\n",
       "  </thead>\n",
       "  <tbody>\n",
       "    <tr>\n",
       "      <th>0</th>\n",
       "      <td>Hong Kong *</td>\n",
       "      <td>83.2 years</td>\n",
       "      <td>87.9 years</td>\n",
       "      <td>5.0 ‰</td>\n",
       "      <td>6.9 ‰</td>\n",
       "    </tr>\n",
       "    <tr>\n",
       "      <th>1</th>\n",
       "      <td>Macao *</td>\n",
       "      <td>82.8 years</td>\n",
       "      <td>87.9 years</td>\n",
       "      <td>10.1 ‰</td>\n",
       "      <td>4.1 ‰</td>\n",
       "    </tr>\n",
       "    <tr>\n",
       "      <th>2</th>\n",
       "      <td>Switzerland</td>\n",
       "      <td>81.9 years</td>\n",
       "      <td>85.9 years</td>\n",
       "      <td>10.3 ‰</td>\n",
       "      <td>8.2 ‰</td>\n",
       "    </tr>\n",
       "    <tr>\n",
       "      <th>3</th>\n",
       "      <td>Iceland</td>\n",
       "      <td>81.8 years</td>\n",
       "      <td>84.5 years</td>\n",
       "      <td>13.1 ‰</td>\n",
       "      <td>6.3 ‰</td>\n",
       "    </tr>\n",
       "    <tr>\n",
       "      <th>4</th>\n",
       "      <td>Norway</td>\n",
       "      <td>81.7 years</td>\n",
       "      <td>84.7 years</td>\n",
       "      <td>10.4 ‰</td>\n",
       "      <td>7.8 ‰</td>\n",
       "    </tr>\n",
       "  </tbody>\n",
       "</table>\n",
       "</div>"
      ],
      "text/plain": [
       "       Country Life expectancy males Life expectancy females Birth rate  \\\n",
       "0  Hong Kong *            83.2 years              87.9 years      5.0 ‰   \n",
       "1      Macao *            82.8 years              87.9 years     10.1 ‰   \n",
       "2  Switzerland            81.9 years              85.9 years     10.3 ‰   \n",
       "3      Iceland            81.8 years              84.5 years     13.1 ‰   \n",
       "4       Norway            81.7 years              84.7 years     10.4 ‰   \n",
       "\n",
       "  Death rate  \n",
       "0      6.9 ‰  \n",
       "1      4.1 ‰  \n",
       "2      8.2 ‰  \n",
       "3      6.3 ‰  \n",
       "4      7.8 ‰  "
      ]
     },
     "execution_count": 4,
     "metadata": {},
     "output_type": "execute_result"
    }
   ],
   "source": [
    "df.head()"
   ]
  },
  {
   "cell_type": "code",
   "execution_count": 5,
   "id": "f428f738",
   "metadata": {
    "scrolled": true
   },
   "outputs": [
    {
     "data": {
      "text/html": [
       "<div>\n",
       "<style scoped>\n",
       "    .dataframe tbody tr th:only-of-type {\n",
       "        vertical-align: middle;\n",
       "    }\n",
       "\n",
       "    .dataframe tbody tr th {\n",
       "        vertical-align: top;\n",
       "    }\n",
       "\n",
       "    .dataframe thead th {\n",
       "        text-align: right;\n",
       "    }\n",
       "</style>\n",
       "<table border=\"1\" class=\"dataframe\">\n",
       "  <thead>\n",
       "    <tr style=\"text-align: right;\">\n",
       "      <th></th>\n",
       "      <th>Country</th>\n",
       "      <th>Life expectancy males</th>\n",
       "      <th>Life expectancy females</th>\n",
       "      <th>Birth rate</th>\n",
       "      <th>Death rate</th>\n",
       "    </tr>\n",
       "  </thead>\n",
       "  <tbody>\n",
       "    <tr>\n",
       "      <th>115</th>\n",
       "      <td>Congo (Dem. Republic)</td>\n",
       "      <td>57.0 years</td>\n",
       "      <td>61.5 years</td>\n",
       "      <td>42.0 ‰</td>\n",
       "      <td>9.7 ‰</td>\n",
       "    </tr>\n",
       "    <tr>\n",
       "      <th>116</th>\n",
       "      <td>Zimbabwe</td>\n",
       "      <td>56.2 years</td>\n",
       "      <td>62.0 years</td>\n",
       "      <td>30.5 ‰</td>\n",
       "      <td>9.1 ‰</td>\n",
       "    </tr>\n",
       "    <tr>\n",
       "      <th>117</th>\n",
       "      <td>Somalia</td>\n",
       "      <td>53.2 years</td>\n",
       "      <td>57.4 years</td>\n",
       "      <td>43.6 ‰</td>\n",
       "      <td>11.6 ‰</td>\n",
       "    </tr>\n",
       "    <tr>\n",
       "      <th>118</th>\n",
       "      <td>Nigeria</td>\n",
       "      <td>52.3 years</td>\n",
       "      <td>53.1 years</td>\n",
       "      <td>37.1 ‰</td>\n",
       "      <td>13.1 ‰</td>\n",
       "    </tr>\n",
       "    <tr>\n",
       "      <th>119</th>\n",
       "      <td>Chad</td>\n",
       "      <td>50.8 years</td>\n",
       "      <td>54.3 years</td>\n",
       "      <td>43.4 ‰</td>\n",
       "      <td>12.5 ‰</td>\n",
       "    </tr>\n",
       "  </tbody>\n",
       "</table>\n",
       "</div>"
      ],
      "text/plain": [
       "                   Country Life expectancy males Life expectancy females  \\\n",
       "115  Congo (Dem. Republic)            57.0 years              61.5 years   \n",
       "116               Zimbabwe            56.2 years              62.0 years   \n",
       "117                Somalia            53.2 years              57.4 years   \n",
       "118                Nigeria            52.3 years              53.1 years   \n",
       "119                   Chad            50.8 years              54.3 years   \n",
       "\n",
       "    Birth rate Death rate  \n",
       "115     42.0 ‰      9.7 ‰  \n",
       "116     30.5 ‰      9.1 ‰  \n",
       "117     43.6 ‰     11.6 ‰  \n",
       "118     37.1 ‰     13.1 ‰  \n",
       "119     43.4 ‰     12.5 ‰  "
      ]
     },
     "execution_count": 5,
     "metadata": {},
     "output_type": "execute_result"
    }
   ],
   "source": [
    "df.tail()"
   ]
  },
  {
   "cell_type": "code",
   "execution_count": 6,
   "id": "9a2e8eb6",
   "metadata": {},
   "outputs": [
    {
     "name": "stdout",
     "output_type": "stream",
     "text": [
      "<class 'pandas.core.frame.DataFrame'>\n",
      "RangeIndex: 120 entries, 0 to 119\n",
      "Data columns (total 5 columns):\n",
      " #   Column                   Non-Null Count  Dtype \n",
      "---  ------                   --------------  ----- \n",
      " 0   Country                  120 non-null    object\n",
      " 1   Life expectancy males    120 non-null    object\n",
      " 2   Life expectancy females  120 non-null    object\n",
      " 3   Birth rate               120 non-null    object\n",
      " 4   Death rate               120 non-null    object\n",
      "dtypes: object(5)\n",
      "memory usage: 4.8+ KB\n"
     ]
    }
   ],
   "source": [
    "df.info()"
   ]
  },
  {
   "cell_type": "markdown",
   "id": "ee73e452",
   "metadata": {},
   "source": [
    "# Data Cleaning "
   ]
  },
  {
   "cell_type": "markdown",
   "id": "b7acc627",
   "metadata": {},
   "source": [
    "## Checking For Missing Values "
   ]
  },
  {
   "cell_type": "code",
   "execution_count": 8,
   "id": "1d40f994",
   "metadata": {},
   "outputs": [
    {
     "data": {
      "text/html": [
       "<div>\n",
       "<style scoped>\n",
       "    .dataframe tbody tr th:only-of-type {\n",
       "        vertical-align: middle;\n",
       "    }\n",
       "\n",
       "    .dataframe tbody tr th {\n",
       "        vertical-align: top;\n",
       "    }\n",
       "\n",
       "    .dataframe thead th {\n",
       "        text-align: right;\n",
       "    }\n",
       "</style>\n",
       "<table border=\"1\" class=\"dataframe\">\n",
       "  <thead>\n",
       "    <tr style=\"text-align: right;\">\n",
       "      <th></th>\n",
       "      <th>Country</th>\n",
       "      <th>Life expectancy males</th>\n",
       "      <th>Life expectancy females</th>\n",
       "      <th>Birth rate</th>\n",
       "      <th>Death rate</th>\n",
       "    </tr>\n",
       "  </thead>\n",
       "  <tbody>\n",
       "  </tbody>\n",
       "</table>\n",
       "</div>"
      ],
      "text/plain": [
       "Empty DataFrame\n",
       "Columns: [Country, Life expectancy males, Life expectancy females, Birth rate, Death rate]\n",
       "Index: []"
      ]
     },
     "execution_count": 8,
     "metadata": {},
     "output_type": "execute_result"
    }
   ],
   "source": [
    "df[df[\"Country\"].isna()]"
   ]
  },
  {
   "cell_type": "code",
   "execution_count": 9,
   "id": "317e760f",
   "metadata": {},
   "outputs": [
    {
     "data": {
      "text/html": [
       "<div>\n",
       "<style scoped>\n",
       "    .dataframe tbody tr th:only-of-type {\n",
       "        vertical-align: middle;\n",
       "    }\n",
       "\n",
       "    .dataframe tbody tr th {\n",
       "        vertical-align: top;\n",
       "    }\n",
       "\n",
       "    .dataframe thead th {\n",
       "        text-align: right;\n",
       "    }\n",
       "</style>\n",
       "<table border=\"1\" class=\"dataframe\">\n",
       "  <thead>\n",
       "    <tr style=\"text-align: right;\">\n",
       "      <th></th>\n",
       "      <th>Country</th>\n",
       "      <th>Life expectancy males</th>\n",
       "      <th>Life expectancy females</th>\n",
       "      <th>Birth rate</th>\n",
       "      <th>Death rate</th>\n",
       "    </tr>\n",
       "  </thead>\n",
       "  <tbody>\n",
       "  </tbody>\n",
       "</table>\n",
       "</div>"
      ],
      "text/plain": [
       "Empty DataFrame\n",
       "Columns: [Country, Life expectancy males, Life expectancy females, Birth rate, Death rate]\n",
       "Index: []"
      ]
     },
     "execution_count": 9,
     "metadata": {},
     "output_type": "execute_result"
    }
   ],
   "source": [
    "df[df[\"Life expectancy males\"].isna()]"
   ]
  },
  {
   "cell_type": "code",
   "execution_count": 10,
   "id": "4e313362",
   "metadata": {},
   "outputs": [
    {
     "data": {
      "text/html": [
       "<div>\n",
       "<style scoped>\n",
       "    .dataframe tbody tr th:only-of-type {\n",
       "        vertical-align: middle;\n",
       "    }\n",
       "\n",
       "    .dataframe tbody tr th {\n",
       "        vertical-align: top;\n",
       "    }\n",
       "\n",
       "    .dataframe thead th {\n",
       "        text-align: right;\n",
       "    }\n",
       "</style>\n",
       "<table border=\"1\" class=\"dataframe\">\n",
       "  <thead>\n",
       "    <tr style=\"text-align: right;\">\n",
       "      <th></th>\n",
       "      <th>Country</th>\n",
       "      <th>Life expectancy males</th>\n",
       "      <th>Life expectancy females</th>\n",
       "      <th>Birth rate</th>\n",
       "      <th>Death rate</th>\n",
       "    </tr>\n",
       "  </thead>\n",
       "  <tbody>\n",
       "  </tbody>\n",
       "</table>\n",
       "</div>"
      ],
      "text/plain": [
       "Empty DataFrame\n",
       "Columns: [Country, Life expectancy males, Life expectancy females, Birth rate, Death rate]\n",
       "Index: []"
      ]
     },
     "execution_count": 10,
     "metadata": {},
     "output_type": "execute_result"
    }
   ],
   "source": [
    "df[df[\"Life expectancy females\"].isna()]"
   ]
  },
  {
   "cell_type": "code",
   "execution_count": 11,
   "id": "1dadc5a8",
   "metadata": {},
   "outputs": [
    {
     "data": {
      "text/html": [
       "<div>\n",
       "<style scoped>\n",
       "    .dataframe tbody tr th:only-of-type {\n",
       "        vertical-align: middle;\n",
       "    }\n",
       "\n",
       "    .dataframe tbody tr th {\n",
       "        vertical-align: top;\n",
       "    }\n",
       "\n",
       "    .dataframe thead th {\n",
       "        text-align: right;\n",
       "    }\n",
       "</style>\n",
       "<table border=\"1\" class=\"dataframe\">\n",
       "  <thead>\n",
       "    <tr style=\"text-align: right;\">\n",
       "      <th></th>\n",
       "      <th>Country</th>\n",
       "      <th>Life expectancy males</th>\n",
       "      <th>Life expectancy females</th>\n",
       "      <th>Birth rate</th>\n",
       "      <th>Death rate</th>\n",
       "    </tr>\n",
       "  </thead>\n",
       "  <tbody>\n",
       "  </tbody>\n",
       "</table>\n",
       "</div>"
      ],
      "text/plain": [
       "Empty DataFrame\n",
       "Columns: [Country, Life expectancy males, Life expectancy females, Birth rate, Death rate]\n",
       "Index: []"
      ]
     },
     "execution_count": 11,
     "metadata": {},
     "output_type": "execute_result"
    }
   ],
   "source": [
    "df[df[\"Birth rate\"].isna()]"
   ]
  },
  {
   "cell_type": "code",
   "execution_count": 12,
   "id": "3dd08e0c",
   "metadata": {},
   "outputs": [
    {
     "data": {
      "text/html": [
       "<div>\n",
       "<style scoped>\n",
       "    .dataframe tbody tr th:only-of-type {\n",
       "        vertical-align: middle;\n",
       "    }\n",
       "\n",
       "    .dataframe tbody tr th {\n",
       "        vertical-align: top;\n",
       "    }\n",
       "\n",
       "    .dataframe thead th {\n",
       "        text-align: right;\n",
       "    }\n",
       "</style>\n",
       "<table border=\"1\" class=\"dataframe\">\n",
       "  <thead>\n",
       "    <tr style=\"text-align: right;\">\n",
       "      <th></th>\n",
       "      <th>Country</th>\n",
       "      <th>Life expectancy males</th>\n",
       "      <th>Life expectancy females</th>\n",
       "      <th>Birth rate</th>\n",
       "      <th>Death rate</th>\n",
       "    </tr>\n",
       "  </thead>\n",
       "  <tbody>\n",
       "  </tbody>\n",
       "</table>\n",
       "</div>"
      ],
      "text/plain": [
       "Empty DataFrame\n",
       "Columns: [Country, Life expectancy males, Life expectancy females, Birth rate, Death rate]\n",
       "Index: []"
      ]
     },
     "execution_count": 12,
     "metadata": {},
     "output_type": "execute_result"
    }
   ],
   "source": [
    "df[df[\"Death rate\"].isna()]"
   ]
  },
  {
   "cell_type": "markdown",
   "id": "79a772ba",
   "metadata": {},
   "source": [
    "### No Missing Values "
   ]
  },
  {
   "cell_type": "markdown",
   "id": "f34a57e5",
   "metadata": {},
   "source": [
    "## Modifying Country Column "
   ]
  },
  {
   "cell_type": "code",
   "execution_count": 13,
   "id": "2bb3ca2b",
   "metadata": {},
   "outputs": [
    {
     "data": {
      "text/plain": [
       "0                Hong Kong *\n",
       "1                    Macao *\n",
       "2                Switzerland\n",
       "3                    Iceland\n",
       "4                     Norway\n",
       "               ...          \n",
       "115    Congo (Dem. Republic)\n",
       "116                 Zimbabwe\n",
       "117                  Somalia\n",
       "118                  Nigeria\n",
       "119                     Chad\n",
       "Name: Country, Length: 120, dtype: object"
      ]
     },
     "execution_count": 13,
     "metadata": {},
     "output_type": "execute_result"
    }
   ],
   "source": [
    "df[\"Country\"]"
   ]
  },
  {
   "cell_type": "code",
   "execution_count": 14,
   "id": "b97473b8",
   "metadata": {},
   "outputs": [
    {
     "data": {
      "text/html": [
       "<div>\n",
       "<style scoped>\n",
       "    .dataframe tbody tr th:only-of-type {\n",
       "        vertical-align: middle;\n",
       "    }\n",
       "\n",
       "    .dataframe tbody tr th {\n",
       "        vertical-align: top;\n",
       "    }\n",
       "\n",
       "    .dataframe thead th {\n",
       "        text-align: right;\n",
       "    }\n",
       "</style>\n",
       "<table border=\"1\" class=\"dataframe\">\n",
       "  <thead>\n",
       "    <tr style=\"text-align: right;\">\n",
       "      <th></th>\n",
       "      <th>Country</th>\n",
       "    </tr>\n",
       "  </thead>\n",
       "  <tbody>\n",
       "    <tr>\n",
       "      <th>0</th>\n",
       "      <td>Hong Kong *</td>\n",
       "    </tr>\n",
       "    <tr>\n",
       "      <th>1</th>\n",
       "      <td>Macao *</td>\n",
       "    </tr>\n",
       "    <tr>\n",
       "      <th>2</th>\n",
       "      <td>Switzerland</td>\n",
       "    </tr>\n",
       "    <tr>\n",
       "      <th>3</th>\n",
       "      <td>Iceland</td>\n",
       "    </tr>\n",
       "    <tr>\n",
       "      <th>4</th>\n",
       "      <td>Norway</td>\n",
       "    </tr>\n",
       "    <tr>\n",
       "      <th>...</th>\n",
       "      <td>...</td>\n",
       "    </tr>\n",
       "    <tr>\n",
       "      <th>115</th>\n",
       "      <td>Congo (Dem. Republic)</td>\n",
       "    </tr>\n",
       "    <tr>\n",
       "      <th>116</th>\n",
       "      <td>Zimbabwe</td>\n",
       "    </tr>\n",
       "    <tr>\n",
       "      <th>117</th>\n",
       "      <td>Somalia</td>\n",
       "    </tr>\n",
       "    <tr>\n",
       "      <th>118</th>\n",
       "      <td>Nigeria</td>\n",
       "    </tr>\n",
       "    <tr>\n",
       "      <th>119</th>\n",
       "      <td>Chad</td>\n",
       "    </tr>\n",
       "  </tbody>\n",
       "</table>\n",
       "<p>120 rows × 1 columns</p>\n",
       "</div>"
      ],
      "text/plain": [
       "                   Country\n",
       "0              Hong Kong *\n",
       "1                  Macao *\n",
       "2              Switzerland\n",
       "3                  Iceland\n",
       "4                   Norway\n",
       "..                     ...\n",
       "115  Congo (Dem. Republic)\n",
       "116               Zimbabwe\n",
       "117                Somalia\n",
       "118                Nigeria\n",
       "119                   Chad\n",
       "\n",
       "[120 rows x 1 columns]"
      ]
     },
     "execution_count": 14,
     "metadata": {},
     "output_type": "execute_result"
    }
   ],
   "source": [
    "df[[\"Country\"]]"
   ]
  },
  {
   "cell_type": "markdown",
   "id": "c256af83",
   "metadata": {},
   "source": [
    "Convert this to string datatype "
   ]
  },
  {
   "cell_type": "code",
   "execution_count": 15,
   "id": "2a911dc2",
   "metadata": {},
   "outputs": [
    {
     "data": {
      "text/html": [
       "<div>\n",
       "<style scoped>\n",
       "    .dataframe tbody tr th:only-of-type {\n",
       "        vertical-align: middle;\n",
       "    }\n",
       "\n",
       "    .dataframe tbody tr th {\n",
       "        vertical-align: top;\n",
       "    }\n",
       "\n",
       "    .dataframe thead th {\n",
       "        text-align: right;\n",
       "    }\n",
       "</style>\n",
       "<table border=\"1\" class=\"dataframe\">\n",
       "  <thead>\n",
       "    <tr style=\"text-align: right;\">\n",
       "      <th></th>\n",
       "      <th>Country</th>\n",
       "      <th>Life expectancy males</th>\n",
       "      <th>Life expectancy females</th>\n",
       "      <th>Birth rate</th>\n",
       "      <th>Death rate</th>\n",
       "    </tr>\n",
       "  </thead>\n",
       "  <tbody>\n",
       "    <tr>\n",
       "      <th>count</th>\n",
       "      <td>120</td>\n",
       "      <td>120</td>\n",
       "      <td>120</td>\n",
       "      <td>120</td>\n",
       "      <td>120</td>\n",
       "    </tr>\n",
       "    <tr>\n",
       "      <th>unique</th>\n",
       "      <td>120</td>\n",
       "      <td>100</td>\n",
       "      <td>98</td>\n",
       "      <td>96</td>\n",
       "      <td>82</td>\n",
       "    </tr>\n",
       "    <tr>\n",
       "      <th>top</th>\n",
       "      <td>Hong Kong *</td>\n",
       "      <td>66.1 years</td>\n",
       "      <td>76.4 years</td>\n",
       "      <td>9.6 ‰</td>\n",
       "      <td>6.8 ‰</td>\n",
       "    </tr>\n",
       "    <tr>\n",
       "      <th>freq</th>\n",
       "      <td>1</td>\n",
       "      <td>3</td>\n",
       "      <td>3</td>\n",
       "      <td>4</td>\n",
       "      <td>5</td>\n",
       "    </tr>\n",
       "  </tbody>\n",
       "</table>\n",
       "</div>"
      ],
      "text/plain": [
       "            Country Life expectancy males Life expectancy females Birth rate  \\\n",
       "count           120                   120                     120        120   \n",
       "unique          120                   100                      98         96   \n",
       "top     Hong Kong *            66.1 years              76.4 years      9.6 ‰   \n",
       "freq              1                     3                       3          4   \n",
       "\n",
       "       Death rate  \n",
       "count         120  \n",
       "unique         82  \n",
       "top         6.8 ‰  \n",
       "freq            5  "
      ]
     },
     "execution_count": 15,
     "metadata": {},
     "output_type": "execute_result"
    }
   ],
   "source": [
    "df.describe()"
   ]
  },
  {
   "cell_type": "code",
   "execution_count": 18,
   "id": "641f22ba",
   "metadata": {},
   "outputs": [],
   "source": [
    "df[\"Country\"] = df[\"Country\"].astype(\"string\")"
   ]
  },
  {
   "cell_type": "code",
   "execution_count": 21,
   "id": "3c600eeb",
   "metadata": {},
   "outputs": [
    {
     "data": {
      "text/plain": [
       "0                Hong Kong *\n",
       "1                    Macao *\n",
       "2                Switzerland\n",
       "3                    Iceland\n",
       "4                     Norway\n",
       "               ...          \n",
       "115    Congo (Dem. Republic)\n",
       "116                 Zimbabwe\n",
       "117                  Somalia\n",
       "118                  Nigeria\n",
       "119                     Chad\n",
       "Name: Country, Length: 120, dtype: string"
      ]
     },
     "execution_count": 21,
     "metadata": {},
     "output_type": "execute_result"
    }
   ],
   "source": [
    "df[\"Country\"]"
   ]
  },
  {
   "cell_type": "markdown",
   "id": "56c9addc",
   "metadata": {},
   "source": [
    "## Changing Values 0 and 1"
   ]
  },
  {
   "cell_type": "code",
   "execution_count": 19,
   "id": "f9d2fc14",
   "metadata": {},
   "outputs": [
    {
     "data": {
      "text/html": [
       "<div>\n",
       "<style scoped>\n",
       "    .dataframe tbody tr th:only-of-type {\n",
       "        vertical-align: middle;\n",
       "    }\n",
       "\n",
       "    .dataframe tbody tr th {\n",
       "        vertical-align: top;\n",
       "    }\n",
       "\n",
       "    .dataframe thead th {\n",
       "        text-align: right;\n",
       "    }\n",
       "</style>\n",
       "<table border=\"1\" class=\"dataframe\">\n",
       "  <thead>\n",
       "    <tr style=\"text-align: right;\">\n",
       "      <th></th>\n",
       "      <th>Country</th>\n",
       "    </tr>\n",
       "  </thead>\n",
       "  <tbody>\n",
       "    <tr>\n",
       "      <th>0</th>\n",
       "      <td>Hong Kong</td>\n",
       "    </tr>\n",
       "  </tbody>\n",
       "</table>\n",
       "</div>"
      ],
      "text/plain": [
       "     Country\n",
       "0  Hong Kong"
      ]
     },
     "execution_count": 19,
     "metadata": {},
     "output_type": "execute_result"
    }
   ],
   "source": [
    "df.loc[[0], [\"Country\"]] = \"Hong Kong\"\n",
    "df.loc[[0], [\"Country\"]]"
   ]
  },
  {
   "cell_type": "code",
   "execution_count": 20,
   "id": "9e5516d9",
   "metadata": {},
   "outputs": [
    {
     "data": {
      "text/html": [
       "<div>\n",
       "<style scoped>\n",
       "    .dataframe tbody tr th:only-of-type {\n",
       "        vertical-align: middle;\n",
       "    }\n",
       "\n",
       "    .dataframe tbody tr th {\n",
       "        vertical-align: top;\n",
       "    }\n",
       "\n",
       "    .dataframe thead th {\n",
       "        text-align: right;\n",
       "    }\n",
       "</style>\n",
       "<table border=\"1\" class=\"dataframe\">\n",
       "  <thead>\n",
       "    <tr style=\"text-align: right;\">\n",
       "      <th></th>\n",
       "      <th>Country</th>\n",
       "    </tr>\n",
       "  </thead>\n",
       "  <tbody>\n",
       "    <tr>\n",
       "      <th>1</th>\n",
       "      <td>Macao</td>\n",
       "    </tr>\n",
       "  </tbody>\n",
       "</table>\n",
       "</div>"
      ],
      "text/plain": [
       "  Country\n",
       "1   Macao"
      ]
     },
     "execution_count": 20,
     "metadata": {},
     "output_type": "execute_result"
    }
   ],
   "source": [
    "df.loc[[1], [\"Country\"]] = \"Macao\"\n",
    "df.loc[[1], [\"Country\"]]"
   ]
  },
  {
   "cell_type": "markdown",
   "id": "c781776f",
   "metadata": {},
   "source": [
    "## Modifying Life expectency male and female columns"
   ]
  },
  {
   "cell_type": "code",
   "execution_count": 25,
   "id": "629a13a0",
   "metadata": {},
   "outputs": [],
   "source": [
    "df[\"Life expectancy males\"] = df[\"Life expectancy males\"].astype(\"string\")\n",
    "df[\"Life expectancy females\"] = df[\"Life expectancy females\"].astype(\"string\")"
   ]
  },
  {
   "cell_type": "code",
   "execution_count": 26,
   "id": "fbb381da",
   "metadata": {},
   "outputs": [
    {
     "data": {
      "text/html": [
       "<div>\n",
       "<style scoped>\n",
       "    .dataframe tbody tr th:only-of-type {\n",
       "        vertical-align: middle;\n",
       "    }\n",
       "\n",
       "    .dataframe tbody tr th {\n",
       "        vertical-align: top;\n",
       "    }\n",
       "\n",
       "    .dataframe thead th {\n",
       "        text-align: right;\n",
       "    }\n",
       "</style>\n",
       "<table border=\"1\" class=\"dataframe\">\n",
       "  <thead>\n",
       "    <tr style=\"text-align: right;\">\n",
       "      <th></th>\n",
       "      <th>Country</th>\n",
       "      <th>Life expectancy males</th>\n",
       "      <th>Life expectancy females</th>\n",
       "      <th>Birth rate</th>\n",
       "      <th>Death rate</th>\n",
       "    </tr>\n",
       "  </thead>\n",
       "  <tbody>\n",
       "    <tr>\n",
       "      <th>0</th>\n",
       "      <td>Hong Kong</td>\n",
       "      <td>83.2 years</td>\n",
       "      <td>87.9 years</td>\n",
       "      <td>5.0 ‰</td>\n",
       "      <td>6.9 ‰</td>\n",
       "    </tr>\n",
       "    <tr>\n",
       "      <th>1</th>\n",
       "      <td>Macao</td>\n",
       "      <td>82.8 years</td>\n",
       "      <td>87.9 years</td>\n",
       "      <td>10.1 ‰</td>\n",
       "      <td>4.1 ‰</td>\n",
       "    </tr>\n",
       "    <tr>\n",
       "      <th>2</th>\n",
       "      <td>Switzerland</td>\n",
       "      <td>81.9 years</td>\n",
       "      <td>85.9 years</td>\n",
       "      <td>10.3 ‰</td>\n",
       "      <td>8.2 ‰</td>\n",
       "    </tr>\n",
       "    <tr>\n",
       "      <th>3</th>\n",
       "      <td>Iceland</td>\n",
       "      <td>81.8 years</td>\n",
       "      <td>84.5 years</td>\n",
       "      <td>13.1 ‰</td>\n",
       "      <td>6.3 ‰</td>\n",
       "    </tr>\n",
       "    <tr>\n",
       "      <th>4</th>\n",
       "      <td>Norway</td>\n",
       "      <td>81.7 years</td>\n",
       "      <td>84.7 years</td>\n",
       "      <td>10.4 ‰</td>\n",
       "      <td>7.8 ‰</td>\n",
       "    </tr>\n",
       "    <tr>\n",
       "      <th>...</th>\n",
       "      <td>...</td>\n",
       "      <td>...</td>\n",
       "      <td>...</td>\n",
       "      <td>...</td>\n",
       "      <td>...</td>\n",
       "    </tr>\n",
       "    <tr>\n",
       "      <th>115</th>\n",
       "      <td>Congo (Dem. Republic)</td>\n",
       "      <td>57.0 years</td>\n",
       "      <td>61.5 years</td>\n",
       "      <td>42.0 ‰</td>\n",
       "      <td>9.7 ‰</td>\n",
       "    </tr>\n",
       "    <tr>\n",
       "      <th>116</th>\n",
       "      <td>Zimbabwe</td>\n",
       "      <td>56.2 years</td>\n",
       "      <td>62.0 years</td>\n",
       "      <td>30.5 ‰</td>\n",
       "      <td>9.1 ‰</td>\n",
       "    </tr>\n",
       "    <tr>\n",
       "      <th>117</th>\n",
       "      <td>Somalia</td>\n",
       "      <td>53.2 years</td>\n",
       "      <td>57.4 years</td>\n",
       "      <td>43.6 ‰</td>\n",
       "      <td>11.6 ‰</td>\n",
       "    </tr>\n",
       "    <tr>\n",
       "      <th>118</th>\n",
       "      <td>Nigeria</td>\n",
       "      <td>52.3 years</td>\n",
       "      <td>53.1 years</td>\n",
       "      <td>37.1 ‰</td>\n",
       "      <td>13.1 ‰</td>\n",
       "    </tr>\n",
       "    <tr>\n",
       "      <th>119</th>\n",
       "      <td>Chad</td>\n",
       "      <td>50.8 years</td>\n",
       "      <td>54.3 years</td>\n",
       "      <td>43.4 ‰</td>\n",
       "      <td>12.5 ‰</td>\n",
       "    </tr>\n",
       "  </tbody>\n",
       "</table>\n",
       "<p>120 rows × 5 columns</p>\n",
       "</div>"
      ],
      "text/plain": [
       "                   Country Life expectancy males Life expectancy females  \\\n",
       "0                Hong Kong            83.2 years              87.9 years   \n",
       "1                    Macao            82.8 years              87.9 years   \n",
       "2              Switzerland            81.9 years              85.9 years   \n",
       "3                  Iceland            81.8 years              84.5 years   \n",
       "4                   Norway            81.7 years              84.7 years   \n",
       "..                     ...                   ...                     ...   \n",
       "115  Congo (Dem. Republic)            57.0 years              61.5 years   \n",
       "116               Zimbabwe            56.2 years              62.0 years   \n",
       "117                Somalia            53.2 years              57.4 years   \n",
       "118                Nigeria            52.3 years              53.1 years   \n",
       "119                   Chad            50.8 years              54.3 years   \n",
       "\n",
       "    Birth rate Death rate  \n",
       "0        5.0 ‰      6.9 ‰  \n",
       "1       10.1 ‰      4.1 ‰  \n",
       "2       10.3 ‰      8.2 ‰  \n",
       "3       13.1 ‰      6.3 ‰  \n",
       "4       10.4 ‰      7.8 ‰  \n",
       "..         ...        ...  \n",
       "115     42.0 ‰      9.7 ‰  \n",
       "116     30.5 ‰      9.1 ‰  \n",
       "117     43.6 ‰     11.6 ‰  \n",
       "118     37.1 ‰     13.1 ‰  \n",
       "119     43.4 ‰     12.5 ‰  \n",
       "\n",
       "[120 rows x 5 columns]"
      ]
     },
     "execution_count": 26,
     "metadata": {},
     "output_type": "execute_result"
    }
   ],
   "source": [
    "df[\"Life expectancy males\"].str.contains(\"years\")\n",
    "df[df[\"Life expectancy males\"].str.contains(\"years\", na = False)]"
   ]
  },
  {
   "cell_type": "code",
   "execution_count": 27,
   "id": "70a0a126",
   "metadata": {},
   "outputs": [
    {
     "data": {
      "text/html": [
       "<div>\n",
       "<style scoped>\n",
       "    .dataframe tbody tr th:only-of-type {\n",
       "        vertical-align: middle;\n",
       "    }\n",
       "\n",
       "    .dataframe tbody tr th {\n",
       "        vertical-align: top;\n",
       "    }\n",
       "\n",
       "    .dataframe thead th {\n",
       "        text-align: right;\n",
       "    }\n",
       "</style>\n",
       "<table border=\"1\" class=\"dataframe\">\n",
       "  <thead>\n",
       "    <tr style=\"text-align: right;\">\n",
       "      <th></th>\n",
       "      <th>Country</th>\n",
       "      <th>Life expectancy males</th>\n",
       "      <th>Life expectancy females</th>\n",
       "      <th>Birth rate</th>\n",
       "      <th>Death rate</th>\n",
       "    </tr>\n",
       "  </thead>\n",
       "  <tbody>\n",
       "    <tr>\n",
       "      <th>0</th>\n",
       "      <td>Hong Kong</td>\n",
       "      <td>83.2 years</td>\n",
       "      <td>87.9 years</td>\n",
       "      <td>5.0 ‰</td>\n",
       "      <td>6.9 ‰</td>\n",
       "    </tr>\n",
       "    <tr>\n",
       "      <th>1</th>\n",
       "      <td>Macao</td>\n",
       "      <td>82.8 years</td>\n",
       "      <td>87.9 years</td>\n",
       "      <td>10.1 ‰</td>\n",
       "      <td>4.1 ‰</td>\n",
       "    </tr>\n",
       "    <tr>\n",
       "      <th>2</th>\n",
       "      <td>Switzerland</td>\n",
       "      <td>81.9 years</td>\n",
       "      <td>85.9 years</td>\n",
       "      <td>10.3 ‰</td>\n",
       "      <td>8.2 ‰</td>\n",
       "    </tr>\n",
       "    <tr>\n",
       "      <th>3</th>\n",
       "      <td>Iceland</td>\n",
       "      <td>81.8 years</td>\n",
       "      <td>84.5 years</td>\n",
       "      <td>13.1 ‰</td>\n",
       "      <td>6.3 ‰</td>\n",
       "    </tr>\n",
       "    <tr>\n",
       "      <th>4</th>\n",
       "      <td>Norway</td>\n",
       "      <td>81.7 years</td>\n",
       "      <td>84.7 years</td>\n",
       "      <td>10.4 ‰</td>\n",
       "      <td>7.8 ‰</td>\n",
       "    </tr>\n",
       "    <tr>\n",
       "      <th>...</th>\n",
       "      <td>...</td>\n",
       "      <td>...</td>\n",
       "      <td>...</td>\n",
       "      <td>...</td>\n",
       "      <td>...</td>\n",
       "    </tr>\n",
       "    <tr>\n",
       "      <th>115</th>\n",
       "      <td>Congo (Dem. Republic)</td>\n",
       "      <td>57.0 years</td>\n",
       "      <td>61.5 years</td>\n",
       "      <td>42.0 ‰</td>\n",
       "      <td>9.7 ‰</td>\n",
       "    </tr>\n",
       "    <tr>\n",
       "      <th>116</th>\n",
       "      <td>Zimbabwe</td>\n",
       "      <td>56.2 years</td>\n",
       "      <td>62.0 years</td>\n",
       "      <td>30.5 ‰</td>\n",
       "      <td>9.1 ‰</td>\n",
       "    </tr>\n",
       "    <tr>\n",
       "      <th>117</th>\n",
       "      <td>Somalia</td>\n",
       "      <td>53.2 years</td>\n",
       "      <td>57.4 years</td>\n",
       "      <td>43.6 ‰</td>\n",
       "      <td>11.6 ‰</td>\n",
       "    </tr>\n",
       "    <tr>\n",
       "      <th>118</th>\n",
       "      <td>Nigeria</td>\n",
       "      <td>52.3 years</td>\n",
       "      <td>53.1 years</td>\n",
       "      <td>37.1 ‰</td>\n",
       "      <td>13.1 ‰</td>\n",
       "    </tr>\n",
       "    <tr>\n",
       "      <th>119</th>\n",
       "      <td>Chad</td>\n",
       "      <td>50.8 years</td>\n",
       "      <td>54.3 years</td>\n",
       "      <td>43.4 ‰</td>\n",
       "      <td>12.5 ‰</td>\n",
       "    </tr>\n",
       "  </tbody>\n",
       "</table>\n",
       "<p>120 rows × 5 columns</p>\n",
       "</div>"
      ],
      "text/plain": [
       "                   Country Life expectancy males Life expectancy females  \\\n",
       "0                Hong Kong            83.2 years              87.9 years   \n",
       "1                    Macao            82.8 years              87.9 years   \n",
       "2              Switzerland            81.9 years              85.9 years   \n",
       "3                  Iceland            81.8 years              84.5 years   \n",
       "4                   Norway            81.7 years              84.7 years   \n",
       "..                     ...                   ...                     ...   \n",
       "115  Congo (Dem. Republic)            57.0 years              61.5 years   \n",
       "116               Zimbabwe            56.2 years              62.0 years   \n",
       "117                Somalia            53.2 years              57.4 years   \n",
       "118                Nigeria            52.3 years              53.1 years   \n",
       "119                   Chad            50.8 years              54.3 years   \n",
       "\n",
       "    Birth rate Death rate  \n",
       "0        5.0 ‰      6.9 ‰  \n",
       "1       10.1 ‰      4.1 ‰  \n",
       "2       10.3 ‰      8.2 ‰  \n",
       "3       13.1 ‰      6.3 ‰  \n",
       "4       10.4 ‰      7.8 ‰  \n",
       "..         ...        ...  \n",
       "115     42.0 ‰      9.7 ‰  \n",
       "116     30.5 ‰      9.1 ‰  \n",
       "117     43.6 ‰     11.6 ‰  \n",
       "118     37.1 ‰     13.1 ‰  \n",
       "119     43.4 ‰     12.5 ‰  \n",
       "\n",
       "[120 rows x 5 columns]"
      ]
     },
     "execution_count": 27,
     "metadata": {},
     "output_type": "execute_result"
    }
   ],
   "source": [
    "df[\"Life expectancy females\"].str.contains(\"years\")\n",
    "df[df[\"Life expectancy females\"].str.contains(\"years\", na = False)]"
   ]
  },
  {
   "cell_type": "code",
   "execution_count": 29,
   "id": "90482aa9",
   "metadata": {},
   "outputs": [],
   "source": [
    "df[\"Life expectancy males\"] = df[\"Life expectancy males\"].str.replace(\"years\", \"\")"
   ]
  },
  {
   "cell_type": "code",
   "execution_count": 30,
   "id": "f4acaa11",
   "metadata": {},
   "outputs": [],
   "source": [
    "df[\"Life expectancy females\"] = df[\"Life expectancy females\"].str.replace(\"years\", \"\")"
   ]
  },
  {
   "cell_type": "markdown",
   "id": "2014d085",
   "metadata": {},
   "source": [
    "## Renaming all Columns "
   ]
  },
  {
   "cell_type": "code",
   "execution_count": 33,
   "id": "c18c1ab3",
   "metadata": {},
   "outputs": [],
   "source": [
    "mapper = {\"Country\" : \"country\",\"Life expectancy males\" : \"life_expectancy_males_(years)\", \"Life expectancy females\" : \"life_expectancy_females_(years)\", \"Birth rate\" : \"birth_rate(%)\", \"Death rate\" : \"death_rate(%)\"}\n",
    "df.rename(columns = mapper, inplace = True)"
   ]
  },
  {
   "cell_type": "code",
   "execution_count": 35,
   "id": "cfd36d70",
   "metadata": {},
   "outputs": [
    {
     "data": {
      "text/html": [
       "<div>\n",
       "<style scoped>\n",
       "    .dataframe tbody tr th:only-of-type {\n",
       "        vertical-align: middle;\n",
       "    }\n",
       "\n",
       "    .dataframe tbody tr th {\n",
       "        vertical-align: top;\n",
       "    }\n",
       "\n",
       "    .dataframe thead th {\n",
       "        text-align: right;\n",
       "    }\n",
       "</style>\n",
       "<table border=\"1\" class=\"dataframe\">\n",
       "  <thead>\n",
       "    <tr style=\"text-align: right;\">\n",
       "      <th></th>\n",
       "      <th>country</th>\n",
       "      <th>life_expectancy_males_(years)</th>\n",
       "      <th>life_expectancy_females_(years)</th>\n",
       "      <th>birth_rate(%)</th>\n",
       "      <th>death_rate(%)</th>\n",
       "    </tr>\n",
       "  </thead>\n",
       "  <tbody>\n",
       "    <tr>\n",
       "      <th>0</th>\n",
       "      <td>Hong Kong</td>\n",
       "      <td>83.2</td>\n",
       "      <td>87.9</td>\n",
       "      <td>5.0 ‰</td>\n",
       "      <td>6.9 ‰</td>\n",
       "    </tr>\n",
       "    <tr>\n",
       "      <th>1</th>\n",
       "      <td>Macao</td>\n",
       "      <td>82.8</td>\n",
       "      <td>87.9</td>\n",
       "      <td>10.1 ‰</td>\n",
       "      <td>4.1 ‰</td>\n",
       "    </tr>\n",
       "    <tr>\n",
       "      <th>2</th>\n",
       "      <td>Switzerland</td>\n",
       "      <td>81.9</td>\n",
       "      <td>85.9</td>\n",
       "      <td>10.3 ‰</td>\n",
       "      <td>8.2 ‰</td>\n",
       "    </tr>\n",
       "    <tr>\n",
       "      <th>3</th>\n",
       "      <td>Iceland</td>\n",
       "      <td>81.8</td>\n",
       "      <td>84.5</td>\n",
       "      <td>13.1 ‰</td>\n",
       "      <td>6.3 ‰</td>\n",
       "    </tr>\n",
       "    <tr>\n",
       "      <th>4</th>\n",
       "      <td>Norway</td>\n",
       "      <td>81.7</td>\n",
       "      <td>84.7</td>\n",
       "      <td>10.4 ‰</td>\n",
       "      <td>7.8 ‰</td>\n",
       "    </tr>\n",
       "    <tr>\n",
       "      <th>...</th>\n",
       "      <td>...</td>\n",
       "      <td>...</td>\n",
       "      <td>...</td>\n",
       "      <td>...</td>\n",
       "      <td>...</td>\n",
       "    </tr>\n",
       "    <tr>\n",
       "      <th>115</th>\n",
       "      <td>Congo (Dem. Republic)</td>\n",
       "      <td>57.0</td>\n",
       "      <td>61.5</td>\n",
       "      <td>42.0 ‰</td>\n",
       "      <td>9.7 ‰</td>\n",
       "    </tr>\n",
       "    <tr>\n",
       "      <th>116</th>\n",
       "      <td>Zimbabwe</td>\n",
       "      <td>56.2</td>\n",
       "      <td>62.0</td>\n",
       "      <td>30.5 ‰</td>\n",
       "      <td>9.1 ‰</td>\n",
       "    </tr>\n",
       "    <tr>\n",
       "      <th>117</th>\n",
       "      <td>Somalia</td>\n",
       "      <td>53.2</td>\n",
       "      <td>57.4</td>\n",
       "      <td>43.6 ‰</td>\n",
       "      <td>11.6 ‰</td>\n",
       "    </tr>\n",
       "    <tr>\n",
       "      <th>118</th>\n",
       "      <td>Nigeria</td>\n",
       "      <td>52.3</td>\n",
       "      <td>53.1</td>\n",
       "      <td>37.1 ‰</td>\n",
       "      <td>13.1 ‰</td>\n",
       "    </tr>\n",
       "    <tr>\n",
       "      <th>119</th>\n",
       "      <td>Chad</td>\n",
       "      <td>50.8</td>\n",
       "      <td>54.3</td>\n",
       "      <td>43.4 ‰</td>\n",
       "      <td>12.5 ‰</td>\n",
       "    </tr>\n",
       "  </tbody>\n",
       "</table>\n",
       "<p>120 rows × 5 columns</p>\n",
       "</div>"
      ],
      "text/plain": [
       "                   country life_expectancy_males_(years)  \\\n",
       "0                Hong Kong                         83.2    \n",
       "1                    Macao                         82.8    \n",
       "2              Switzerland                         81.9    \n",
       "3                  Iceland                         81.8    \n",
       "4                   Norway                         81.7    \n",
       "..                     ...                           ...   \n",
       "115  Congo (Dem. Republic)                         57.0    \n",
       "116               Zimbabwe                         56.2    \n",
       "117                Somalia                         53.2    \n",
       "118                Nigeria                         52.3    \n",
       "119                   Chad                         50.8    \n",
       "\n",
       "    life_expectancy_females_(years) birth_rate(%) death_rate(%)  \n",
       "0                             87.9          5.0 ‰         6.9 ‰  \n",
       "1                             87.9         10.1 ‰         4.1 ‰  \n",
       "2                             85.9         10.3 ‰         8.2 ‰  \n",
       "3                             84.5         13.1 ‰         6.3 ‰  \n",
       "4                             84.7         10.4 ‰         7.8 ‰  \n",
       "..                              ...           ...           ...  \n",
       "115                           61.5         42.0 ‰         9.7 ‰  \n",
       "116                           62.0         30.5 ‰         9.1 ‰  \n",
       "117                           57.4         43.6 ‰        11.6 ‰  \n",
       "118                           53.1         37.1 ‰        13.1 ‰  \n",
       "119                           54.3         43.4 ‰        12.5 ‰  \n",
       "\n",
       "[120 rows x 5 columns]"
      ]
     },
     "execution_count": 35,
     "metadata": {},
     "output_type": "execute_result"
    }
   ],
   "source": [
    "df"
   ]
  },
  {
   "cell_type": "code",
   "execution_count": 36,
   "id": "9dc48f97",
   "metadata": {},
   "outputs": [],
   "source": [
    "df[\"life_expectancy_males_(years)\"] = df[\"life_expectancy_males_(years)\"].astype(\"float\")"
   ]
  },
  {
   "cell_type": "code",
   "execution_count": 37,
   "id": "f13c2d63",
   "metadata": {},
   "outputs": [],
   "source": [
    "df[\"life_expectancy_females_(years)\"] = df[\"life_expectancy_females_(years)\"].astype(\"float\")"
   ]
  },
  {
   "cell_type": "code",
   "execution_count": 50,
   "id": "6ed1102a",
   "metadata": {},
   "outputs": [],
   "source": [
    "df[\"birth_rate(%)\"] = df[\"birth_rate(%)\"].astype(\"string\")"
   ]
  },
  {
   "cell_type": "markdown",
   "id": "02ea0bb8",
   "metadata": {},
   "source": [
    "## Modifying Death and Birth Rate Columns"
   ]
  },
  {
   "cell_type": "code",
   "execution_count": 39,
   "id": "e70bb66a",
   "metadata": {},
   "outputs": [],
   "source": [
    "df[\"death_rate(%)\"] = df[\"death_rate(%)\"].astype(\"string\")"
   ]
  },
  {
   "cell_type": "code",
   "execution_count": 40,
   "id": "7066f88d",
   "metadata": {},
   "outputs": [],
   "source": [
    "df[\"birth_rate(%)\"] = df[\"birth_rate(%)\"].str.replace(\"‰\", \"\")"
   ]
  },
  {
   "cell_type": "code",
   "execution_count": 41,
   "id": "42125b61",
   "metadata": {},
   "outputs": [],
   "source": [
    "df [\"death_rate(%)\"] = df[\"death_rate(%)\"].str.replace(\"‰\", \"\")"
   ]
  },
  {
   "cell_type": "code",
   "execution_count": 42,
   "id": "530796b0",
   "metadata": {},
   "outputs": [],
   "source": [
    "df[\"birth_rate(%)\"] = df[\"birth_rate(%)\"].astype(\"float\")"
   ]
  },
  {
   "cell_type": "code",
   "execution_count": 43,
   "id": "c566831d",
   "metadata": {},
   "outputs": [],
   "source": [
    "df[\"death_rate(%)\"] = df[\"death_rate(%)\"].astype(\"float\")"
   ]
  },
  {
   "cell_type": "code",
   "execution_count": 58,
   "id": "d06b7503",
   "metadata": {},
   "outputs": [
    {
     "name": "stdout",
     "output_type": "stream",
     "text": [
      "<class 'pandas.core.frame.DataFrame'>\n",
      "RangeIndex: 120 entries, 0 to 119\n",
      "Data columns (total 5 columns):\n",
      " #   Column                           Non-Null Count  Dtype  \n",
      "---  ------                           --------------  -----  \n",
      " 0   country                          120 non-null    string \n",
      " 1   life_expectancy_males_(years)    120 non-null    float64\n",
      " 2   life_expectancy_females_(years)  120 non-null    float64\n",
      " 3   birth_rate(%)                    120 non-null    float64\n",
      " 4   death_rate(%)                    120 non-null    float64\n",
      "dtypes: float64(4), string(1)\n",
      "memory usage: 4.8 KB\n"
     ]
    }
   ],
   "source": [
    "df.info()"
   ]
  },
  {
   "cell_type": "markdown",
   "id": "9af2f7e8",
   "metadata": {},
   "source": [
    "## Creating Bins For Life Expectancy Male and Female and Birth and Death Rate "
   ]
  },
  {
   "cell_type": "code",
   "execution_count": 45,
   "id": "a3541d7d",
   "metadata": {},
   "outputs": [
    {
     "data": {
      "text/plain": [
       "100"
      ]
     },
     "execution_count": 45,
     "metadata": {},
     "output_type": "execute_result"
    }
   ],
   "source": [
    "df[\"life_expectancy_males_(years)\"].nunique()"
   ]
  },
  {
   "cell_type": "code",
   "execution_count": 46,
   "id": "eec729b1",
   "metadata": {},
   "outputs": [
    {
     "data": {
      "text/plain": [
       "50.8"
      ]
     },
     "execution_count": 46,
     "metadata": {},
     "output_type": "execute_result"
    }
   ],
   "source": [
    "df[\"life_expectancy_males_(years)\"].min()"
   ]
  },
  {
   "cell_type": "code",
   "execution_count": 47,
   "id": "34cfa086",
   "metadata": {},
   "outputs": [
    {
     "data": {
      "text/plain": [
       "83.2"
      ]
     },
     "execution_count": 47,
     "metadata": {},
     "output_type": "execute_result"
    }
   ],
   "source": [
    "df[\"life_expectancy_males_(years)\"].max()"
   ]
  },
  {
   "cell_type": "code",
   "execution_count": 48,
   "id": "1e3dfe20",
   "metadata": {},
   "outputs": [
    {
     "data": {
      "text/plain": [
       "66.1    3\n",
       "80.6    3\n",
       "58.9    2\n",
       "66.3    2\n",
       "70.3    2\n",
       "       ..\n",
       "74.5    1\n",
       "74.9    1\n",
       "75.5    1\n",
       "75.6    1\n",
       "50.8    1\n",
       "Name: life_expectancy_males_(years), Length: 100, dtype: int64"
      ]
     },
     "execution_count": 48,
     "metadata": {},
     "output_type": "execute_result"
    }
   ],
   "source": [
    "df[\"life_expectancy_males_(years)\"].value_counts()"
   ]
  },
  {
   "cell_type": "code",
   "execution_count": 49,
   "id": "ca1b16ce",
   "metadata": {},
   "outputs": [
    {
     "data": {
      "text/plain": [
       "98"
      ]
     },
     "execution_count": 49,
     "metadata": {},
     "output_type": "execute_result"
    }
   ],
   "source": [
    "df[\"life_expectancy_females_(years)\"].nunique()"
   ]
  },
  {
   "cell_type": "code",
   "execution_count": 50,
   "id": "6d01fa62",
   "metadata": {},
   "outputs": [
    {
     "data": {
      "text/plain": [
       "87.9"
      ]
     },
     "execution_count": 50,
     "metadata": {},
     "output_type": "execute_result"
    }
   ],
   "source": [
    "df[\"life_expectancy_females_(years)\"].max()"
   ]
  },
  {
   "cell_type": "code",
   "execution_count": 51,
   "id": "3e5c5784",
   "metadata": {},
   "outputs": [
    {
     "data": {
      "text/plain": [
       "53.1"
      ]
     },
     "execution_count": 51,
     "metadata": {},
     "output_type": "execute_result"
    }
   ],
   "source": [
    "df[\"life_expectancy_females_(years)\"].min()"
   ]
  },
  {
   "cell_type": "code",
   "execution_count": 52,
   "id": "26b33dfb",
   "metadata": {},
   "outputs": [
    {
     "data": {
      "text/plain": [
       "66.1    3\n",
       "80.6    3\n",
       "58.9    2\n",
       "66.3    2\n",
       "70.3    2\n",
       "       ..\n",
       "74.5    1\n",
       "74.9    1\n",
       "75.5    1\n",
       "75.6    1\n",
       "50.8    1\n",
       "Name: life_expectancy_males_(years), Length: 100, dtype: int64"
      ]
     },
     "execution_count": 52,
     "metadata": {},
     "output_type": "execute_result"
    }
   ],
   "source": [
    "df[\"life_expectancy_males_(years)\"].value_counts()"
   ]
  },
  {
   "cell_type": "code",
   "execution_count": 53,
   "id": "8de36dc6",
   "metadata": {},
   "outputs": [
    {
     "data": {
      "text/html": [
       "<div>\n",
       "<style scoped>\n",
       "    .dataframe tbody tr th:only-of-type {\n",
       "        vertical-align: middle;\n",
       "    }\n",
       "\n",
       "    .dataframe tbody tr th {\n",
       "        vertical-align: top;\n",
       "    }\n",
       "\n",
       "    .dataframe thead th {\n",
       "        text-align: right;\n",
       "    }\n",
       "</style>\n",
       "<table border=\"1\" class=\"dataframe\">\n",
       "  <thead>\n",
       "    <tr style=\"text-align: right;\">\n",
       "      <th></th>\n",
       "      <th>country</th>\n",
       "      <th>life_expectancy_males_(years)</th>\n",
       "      <th>life_expectancy_females_(years)</th>\n",
       "      <th>birth_rate(%)</th>\n",
       "      <th>death_rate(%)</th>\n",
       "    </tr>\n",
       "  </thead>\n",
       "  <tbody>\n",
       "    <tr>\n",
       "      <th>0</th>\n",
       "      <td>Hong Kong</td>\n",
       "      <td>83.2</td>\n",
       "      <td>87.9</td>\n",
       "      <td>5.0</td>\n",
       "      <td>6.9</td>\n",
       "    </tr>\n",
       "    <tr>\n",
       "      <th>1</th>\n",
       "      <td>Macao</td>\n",
       "      <td>82.8</td>\n",
       "      <td>87.9</td>\n",
       "      <td>10.1</td>\n",
       "      <td>4.1</td>\n",
       "    </tr>\n",
       "    <tr>\n",
       "      <th>2</th>\n",
       "      <td>Switzerland</td>\n",
       "      <td>81.9</td>\n",
       "      <td>85.9</td>\n",
       "      <td>10.3</td>\n",
       "      <td>8.2</td>\n",
       "    </tr>\n",
       "    <tr>\n",
       "      <th>3</th>\n",
       "      <td>Iceland</td>\n",
       "      <td>81.8</td>\n",
       "      <td>84.5</td>\n",
       "      <td>13.1</td>\n",
       "      <td>6.3</td>\n",
       "    </tr>\n",
       "    <tr>\n",
       "      <th>4</th>\n",
       "      <td>Norway</td>\n",
       "      <td>81.7</td>\n",
       "      <td>84.7</td>\n",
       "      <td>10.4</td>\n",
       "      <td>7.8</td>\n",
       "    </tr>\n",
       "  </tbody>\n",
       "</table>\n",
       "</div>"
      ],
      "text/plain": [
       "       country  life_expectancy_males_(years)  \\\n",
       "0    Hong Kong                           83.2   \n",
       "1        Macao                           82.8   \n",
       "2  Switzerland                           81.9   \n",
       "3      Iceland                           81.8   \n",
       "4       Norway                           81.7   \n",
       "\n",
       "   life_expectancy_females_(years)  birth_rate(%)  death_rate(%)  \n",
       "0                             87.9            5.0            6.9  \n",
       "1                             87.9           10.1            4.1  \n",
       "2                             85.9           10.3            8.2  \n",
       "3                             84.5           13.1            6.3  \n",
       "4                             84.7           10.4            7.8  "
      ]
     },
     "execution_count": 53,
     "metadata": {},
     "output_type": "execute_result"
    }
   ],
   "source": [
    "df.head()"
   ]
  },
  {
   "cell_type": "code",
   "execution_count": 71,
   "id": "5345c364",
   "metadata": {},
   "outputs": [],
   "source": [
    "range_bins = [50,60,70,80,90]\n",
    "range_labels = ['50-60', '60-70', '70-80', '80-90']"
   ]
  },
  {
   "cell_type": "code",
   "execution_count": 72,
   "id": "11d50c5c",
   "metadata": {},
   "outputs": [],
   "source": [
    "df[\"range_males(years)\"] = pd.cut(df[\"life_expectancy_males_(years)\"], range_bins, labels = range_labels)\n",
    "df[\"range_females(years)\"] = pd.cut(df[\"life_expectancy_females_(years)\"], range_bins, labels = range_labels)"
   ]
  },
  {
   "cell_type": "code",
   "execution_count": 74,
   "id": "2e6383d0",
   "metadata": {},
   "outputs": [
    {
     "data": {
      "text/html": [
       "<div>\n",
       "<style scoped>\n",
       "    .dataframe tbody tr th:only-of-type {\n",
       "        vertical-align: middle;\n",
       "    }\n",
       "\n",
       "    .dataframe tbody tr th {\n",
       "        vertical-align: top;\n",
       "    }\n",
       "\n",
       "    .dataframe thead th {\n",
       "        text-align: right;\n",
       "    }\n",
       "</style>\n",
       "<table border=\"1\" class=\"dataframe\">\n",
       "  <thead>\n",
       "    <tr style=\"text-align: right;\">\n",
       "      <th></th>\n",
       "      <th>country</th>\n",
       "      <th>life_expectancy_males_(years)</th>\n",
       "      <th>life_expectancy_females_(years)</th>\n",
       "      <th>birth_rate(%)</th>\n",
       "      <th>death_rate(%)</th>\n",
       "      <th>range_males(years)</th>\n",
       "      <th>range_females(years)</th>\n",
       "    </tr>\n",
       "  </thead>\n",
       "  <tbody>\n",
       "    <tr>\n",
       "      <th>0</th>\n",
       "      <td>Hong Kong</td>\n",
       "      <td>83.2</td>\n",
       "      <td>87.9</td>\n",
       "      <td>5.0</td>\n",
       "      <td>6.9</td>\n",
       "      <td>80-90</td>\n",
       "      <td>80-90</td>\n",
       "    </tr>\n",
       "    <tr>\n",
       "      <th>1</th>\n",
       "      <td>Macao</td>\n",
       "      <td>82.8</td>\n",
       "      <td>87.9</td>\n",
       "      <td>10.1</td>\n",
       "      <td>4.1</td>\n",
       "      <td>80-90</td>\n",
       "      <td>80-90</td>\n",
       "    </tr>\n",
       "    <tr>\n",
       "      <th>2</th>\n",
       "      <td>Switzerland</td>\n",
       "      <td>81.9</td>\n",
       "      <td>85.9</td>\n",
       "      <td>10.3</td>\n",
       "      <td>8.2</td>\n",
       "      <td>80-90</td>\n",
       "      <td>80-90</td>\n",
       "    </tr>\n",
       "    <tr>\n",
       "      <th>3</th>\n",
       "      <td>Iceland</td>\n",
       "      <td>81.8</td>\n",
       "      <td>84.5</td>\n",
       "      <td>13.1</td>\n",
       "      <td>6.3</td>\n",
       "      <td>80-90</td>\n",
       "      <td>80-90</td>\n",
       "    </tr>\n",
       "    <tr>\n",
       "      <th>4</th>\n",
       "      <td>Norway</td>\n",
       "      <td>81.7</td>\n",
       "      <td>84.7</td>\n",
       "      <td>10.4</td>\n",
       "      <td>7.8</td>\n",
       "      <td>80-90</td>\n",
       "      <td>80-90</td>\n",
       "    </tr>\n",
       "    <tr>\n",
       "      <th>...</th>\n",
       "      <td>...</td>\n",
       "      <td>...</td>\n",
       "      <td>...</td>\n",
       "      <td>...</td>\n",
       "      <td>...</td>\n",
       "      <td>...</td>\n",
       "      <td>...</td>\n",
       "    </tr>\n",
       "    <tr>\n",
       "      <th>115</th>\n",
       "      <td>Congo (Dem. Republic)</td>\n",
       "      <td>57.0</td>\n",
       "      <td>61.5</td>\n",
       "      <td>42.0</td>\n",
       "      <td>9.7</td>\n",
       "      <td>50-60</td>\n",
       "      <td>60-70</td>\n",
       "    </tr>\n",
       "    <tr>\n",
       "      <th>116</th>\n",
       "      <td>Zimbabwe</td>\n",
       "      <td>56.2</td>\n",
       "      <td>62.0</td>\n",
       "      <td>30.5</td>\n",
       "      <td>9.1</td>\n",
       "      <td>50-60</td>\n",
       "      <td>60-70</td>\n",
       "    </tr>\n",
       "    <tr>\n",
       "      <th>117</th>\n",
       "      <td>Somalia</td>\n",
       "      <td>53.2</td>\n",
       "      <td>57.4</td>\n",
       "      <td>43.6</td>\n",
       "      <td>11.6</td>\n",
       "      <td>50-60</td>\n",
       "      <td>50-60</td>\n",
       "    </tr>\n",
       "    <tr>\n",
       "      <th>118</th>\n",
       "      <td>Nigeria</td>\n",
       "      <td>52.3</td>\n",
       "      <td>53.1</td>\n",
       "      <td>37.1</td>\n",
       "      <td>13.1</td>\n",
       "      <td>50-60</td>\n",
       "      <td>50-60</td>\n",
       "    </tr>\n",
       "    <tr>\n",
       "      <th>119</th>\n",
       "      <td>Chad</td>\n",
       "      <td>50.8</td>\n",
       "      <td>54.3</td>\n",
       "      <td>43.4</td>\n",
       "      <td>12.5</td>\n",
       "      <td>50-60</td>\n",
       "      <td>50-60</td>\n",
       "    </tr>\n",
       "  </tbody>\n",
       "</table>\n",
       "<p>120 rows × 7 columns</p>\n",
       "</div>"
      ],
      "text/plain": [
       "                   country  life_expectancy_males_(years)  \\\n",
       "0                Hong Kong                           83.2   \n",
       "1                    Macao                           82.8   \n",
       "2              Switzerland                           81.9   \n",
       "3                  Iceland                           81.8   \n",
       "4                   Norway                           81.7   \n",
       "..                     ...                            ...   \n",
       "115  Congo (Dem. Republic)                           57.0   \n",
       "116               Zimbabwe                           56.2   \n",
       "117                Somalia                           53.2   \n",
       "118                Nigeria                           52.3   \n",
       "119                   Chad                           50.8   \n",
       "\n",
       "     life_expectancy_females_(years)  birth_rate(%)  death_rate(%)  \\\n",
       "0                               87.9            5.0            6.9   \n",
       "1                               87.9           10.1            4.1   \n",
       "2                               85.9           10.3            8.2   \n",
       "3                               84.5           13.1            6.3   \n",
       "4                               84.7           10.4            7.8   \n",
       "..                               ...            ...            ...   \n",
       "115                             61.5           42.0            9.7   \n",
       "116                             62.0           30.5            9.1   \n",
       "117                             57.4           43.6           11.6   \n",
       "118                             53.1           37.1           13.1   \n",
       "119                             54.3           43.4           12.5   \n",
       "\n",
       "    range_males(years) range_females(years)  \n",
       "0                80-90                80-90  \n",
       "1                80-90                80-90  \n",
       "2                80-90                80-90  \n",
       "3                80-90                80-90  \n",
       "4                80-90                80-90  \n",
       "..                 ...                  ...  \n",
       "115              50-60                60-70  \n",
       "116              50-60                60-70  \n",
       "117              50-60                50-60  \n",
       "118              50-60                50-60  \n",
       "119              50-60                50-60  \n",
       "\n",
       "[120 rows x 7 columns]"
      ]
     },
     "execution_count": 74,
     "metadata": {},
     "output_type": "execute_result"
    }
   ],
   "source": [
    "df"
   ]
  },
  {
   "cell_type": "code",
   "execution_count": 75,
   "id": "23560cab",
   "metadata": {},
   "outputs": [
    {
     "data": {
      "text/plain": [
       "70-80    47\n",
       "60-70    43\n",
       "80-90    18\n",
       "50-60    12\n",
       "Name: range_males(years), dtype: int64"
      ]
     },
     "execution_count": 75,
     "metadata": {},
     "output_type": "execute_result"
    }
   ],
   "source": [
    "df[\"range_males(years)\"].value_counts()"
   ]
  },
  {
   "cell_type": "code",
   "execution_count": 76,
   "id": "693fd5d0",
   "metadata": {},
   "outputs": [
    {
     "data": {
      "text/plain": [
       "70-80    54\n",
       "80-90    39\n",
       "60-70    23\n",
       "50-60     4\n",
       "Name: range_females(years), dtype: int64"
      ]
     },
     "execution_count": 76,
     "metadata": {},
     "output_type": "execute_result"
    }
   ],
   "source": [
    "df[\"range_females(years)\"].value_counts()"
   ]
  },
  {
   "cell_type": "code",
   "execution_count": 77,
   "id": "876d3954",
   "metadata": {},
   "outputs": [
    {
     "data": {
      "text/plain": [
       "9.6     4\n",
       "10.3    3\n",
       "10.2    3\n",
       "10.1    2\n",
       "22.0    2\n",
       "       ..\n",
       "14.7    1\n",
       "17.7    1\n",
       "14.0    1\n",
       "9.4     1\n",
       "43.4    1\n",
       "Name: birth_rate(%), Length: 96, dtype: int64"
      ]
     },
     "execution_count": 77,
     "metadata": {},
     "output_type": "execute_result"
    }
   ],
   "source": [
    "df[\"birth_rate(%)\"].value_counts()"
   ]
  },
  {
   "cell_type": "code",
   "execution_count": 78,
   "id": "a1118685",
   "metadata": {},
   "outputs": [
    {
     "data": {
      "text/plain": [
       "6.8     5\n",
       "9.7     4\n",
       "7.2     4\n",
       "6.7     3\n",
       "6.2     3\n",
       "       ..\n",
       "13.8    1\n",
       "14.7    1\n",
       "16.1    1\n",
       "3.8     1\n",
       "12.5    1\n",
       "Name: death_rate(%), Length: 82, dtype: int64"
      ]
     },
     "execution_count": 78,
     "metadata": {},
     "output_type": "execute_result"
    }
   ],
   "source": [
    "df[\"death_rate(%)\"].value_counts()"
   ]
  },
  {
   "cell_type": "code",
   "execution_count": 79,
   "id": "5f29d84d",
   "metadata": {},
   "outputs": [
    {
     "data": {
      "text/plain": [
       "45.3"
      ]
     },
     "execution_count": 79,
     "metadata": {},
     "output_type": "execute_result"
    }
   ],
   "source": [
    "df[\"birth_rate(%)\"].max()"
   ]
  },
  {
   "cell_type": "code",
   "execution_count": 80,
   "id": "a44f81a1",
   "metadata": {},
   "outputs": [
    {
     "data": {
      "text/plain": [
       "5.0"
      ]
     },
     "execution_count": 80,
     "metadata": {},
     "output_type": "execute_result"
    }
   ],
   "source": [
    "df[\"birth_rate(%)\"].min()"
   ]
  },
  {
   "cell_type": "code",
   "execution_count": 81,
   "id": "74aea9f6",
   "metadata": {},
   "outputs": [
    {
     "data": {
      "text/plain": [
       "1.3"
      ]
     },
     "execution_count": 81,
     "metadata": {},
     "output_type": "execute_result"
    }
   ],
   "source": [
    "df[\"death_rate(%)\"].min()"
   ]
  },
  {
   "cell_type": "code",
   "execution_count": 82,
   "id": "a962b524",
   "metadata": {},
   "outputs": [
    {
     "data": {
      "text/plain": [
       "21.7"
      ]
     },
     "execution_count": 82,
     "metadata": {},
     "output_type": "execute_result"
    }
   ],
   "source": [
    "df[\"death_rate(%)\"].max()"
   ]
  },
  {
   "cell_type": "code",
   "execution_count": 83,
   "id": "8da5318f",
   "metadata": {},
   "outputs": [],
   "source": [
    "birth_bins = [0,10,20,30,50]\n",
    "birth_labels = ['0-10', '10-20', '20-30', '30-50']"
   ]
  },
  {
   "cell_type": "code",
   "execution_count": 84,
   "id": "c9b03594",
   "metadata": {},
   "outputs": [],
   "source": [
    "df[\"birth_range(%)\"] = pd.cut(df[\"birth_rate(%)\"], birth_bins, labels = birth_labels)"
   ]
  },
  {
   "cell_type": "code",
   "execution_count": 85,
   "id": "22b7d620",
   "metadata": {},
   "outputs": [
    {
     "data": {
      "text/html": [
       "<div>\n",
       "<style scoped>\n",
       "    .dataframe tbody tr th:only-of-type {\n",
       "        vertical-align: middle;\n",
       "    }\n",
       "\n",
       "    .dataframe tbody tr th {\n",
       "        vertical-align: top;\n",
       "    }\n",
       "\n",
       "    .dataframe thead th {\n",
       "        text-align: right;\n",
       "    }\n",
       "</style>\n",
       "<table border=\"1\" class=\"dataframe\">\n",
       "  <thead>\n",
       "    <tr style=\"text-align: right;\">\n",
       "      <th></th>\n",
       "      <th>country</th>\n",
       "      <th>life_expectancy_males_(years)</th>\n",
       "      <th>life_expectancy_females_(years)</th>\n",
       "      <th>birth_rate(%)</th>\n",
       "      <th>death_rate(%)</th>\n",
       "      <th>range_males(years)</th>\n",
       "      <th>range_females(years)</th>\n",
       "      <th>birth_range(%)</th>\n",
       "    </tr>\n",
       "  </thead>\n",
       "  <tbody>\n",
       "    <tr>\n",
       "      <th>0</th>\n",
       "      <td>Hong Kong</td>\n",
       "      <td>83.2</td>\n",
       "      <td>87.9</td>\n",
       "      <td>5.0</td>\n",
       "      <td>6.9</td>\n",
       "      <td>80-90</td>\n",
       "      <td>80-90</td>\n",
       "      <td>0-10</td>\n",
       "    </tr>\n",
       "    <tr>\n",
       "      <th>1</th>\n",
       "      <td>Macao</td>\n",
       "      <td>82.8</td>\n",
       "      <td>87.9</td>\n",
       "      <td>10.1</td>\n",
       "      <td>4.1</td>\n",
       "      <td>80-90</td>\n",
       "      <td>80-90</td>\n",
       "      <td>10-20</td>\n",
       "    </tr>\n",
       "    <tr>\n",
       "      <th>2</th>\n",
       "      <td>Switzerland</td>\n",
       "      <td>81.9</td>\n",
       "      <td>85.9</td>\n",
       "      <td>10.3</td>\n",
       "      <td>8.2</td>\n",
       "      <td>80-90</td>\n",
       "      <td>80-90</td>\n",
       "      <td>10-20</td>\n",
       "    </tr>\n",
       "    <tr>\n",
       "      <th>3</th>\n",
       "      <td>Iceland</td>\n",
       "      <td>81.8</td>\n",
       "      <td>84.5</td>\n",
       "      <td>13.1</td>\n",
       "      <td>6.3</td>\n",
       "      <td>80-90</td>\n",
       "      <td>80-90</td>\n",
       "      <td>10-20</td>\n",
       "    </tr>\n",
       "    <tr>\n",
       "      <th>4</th>\n",
       "      <td>Norway</td>\n",
       "      <td>81.7</td>\n",
       "      <td>84.7</td>\n",
       "      <td>10.4</td>\n",
       "      <td>7.8</td>\n",
       "      <td>80-90</td>\n",
       "      <td>80-90</td>\n",
       "      <td>10-20</td>\n",
       "    </tr>\n",
       "    <tr>\n",
       "      <th>...</th>\n",
       "      <td>...</td>\n",
       "      <td>...</td>\n",
       "      <td>...</td>\n",
       "      <td>...</td>\n",
       "      <td>...</td>\n",
       "      <td>...</td>\n",
       "      <td>...</td>\n",
       "      <td>...</td>\n",
       "    </tr>\n",
       "    <tr>\n",
       "      <th>115</th>\n",
       "      <td>Congo (Dem. Republic)</td>\n",
       "      <td>57.0</td>\n",
       "      <td>61.5</td>\n",
       "      <td>42.0</td>\n",
       "      <td>9.7</td>\n",
       "      <td>50-60</td>\n",
       "      <td>60-70</td>\n",
       "      <td>30-50</td>\n",
       "    </tr>\n",
       "    <tr>\n",
       "      <th>116</th>\n",
       "      <td>Zimbabwe</td>\n",
       "      <td>56.2</td>\n",
       "      <td>62.0</td>\n",
       "      <td>30.5</td>\n",
       "      <td>9.1</td>\n",
       "      <td>50-60</td>\n",
       "      <td>60-70</td>\n",
       "      <td>30-50</td>\n",
       "    </tr>\n",
       "    <tr>\n",
       "      <th>117</th>\n",
       "      <td>Somalia</td>\n",
       "      <td>53.2</td>\n",
       "      <td>57.4</td>\n",
       "      <td>43.6</td>\n",
       "      <td>11.6</td>\n",
       "      <td>50-60</td>\n",
       "      <td>50-60</td>\n",
       "      <td>30-50</td>\n",
       "    </tr>\n",
       "    <tr>\n",
       "      <th>118</th>\n",
       "      <td>Nigeria</td>\n",
       "      <td>52.3</td>\n",
       "      <td>53.1</td>\n",
       "      <td>37.1</td>\n",
       "      <td>13.1</td>\n",
       "      <td>50-60</td>\n",
       "      <td>50-60</td>\n",
       "      <td>30-50</td>\n",
       "    </tr>\n",
       "    <tr>\n",
       "      <th>119</th>\n",
       "      <td>Chad</td>\n",
       "      <td>50.8</td>\n",
       "      <td>54.3</td>\n",
       "      <td>43.4</td>\n",
       "      <td>12.5</td>\n",
       "      <td>50-60</td>\n",
       "      <td>50-60</td>\n",
       "      <td>30-50</td>\n",
       "    </tr>\n",
       "  </tbody>\n",
       "</table>\n",
       "<p>120 rows × 8 columns</p>\n",
       "</div>"
      ],
      "text/plain": [
       "                   country  life_expectancy_males_(years)  \\\n",
       "0                Hong Kong                           83.2   \n",
       "1                    Macao                           82.8   \n",
       "2              Switzerland                           81.9   \n",
       "3                  Iceland                           81.8   \n",
       "4                   Norway                           81.7   \n",
       "..                     ...                            ...   \n",
       "115  Congo (Dem. Republic)                           57.0   \n",
       "116               Zimbabwe                           56.2   \n",
       "117                Somalia                           53.2   \n",
       "118                Nigeria                           52.3   \n",
       "119                   Chad                           50.8   \n",
       "\n",
       "     life_expectancy_females_(years)  birth_rate(%)  death_rate(%)  \\\n",
       "0                               87.9            5.0            6.9   \n",
       "1                               87.9           10.1            4.1   \n",
       "2                               85.9           10.3            8.2   \n",
       "3                               84.5           13.1            6.3   \n",
       "4                               84.7           10.4            7.8   \n",
       "..                               ...            ...            ...   \n",
       "115                             61.5           42.0            9.7   \n",
       "116                             62.0           30.5            9.1   \n",
       "117                             57.4           43.6           11.6   \n",
       "118                             53.1           37.1           13.1   \n",
       "119                             54.3           43.4           12.5   \n",
       "\n",
       "    range_males(years) range_females(years) birth_range(%)  \n",
       "0                80-90                80-90           0-10  \n",
       "1                80-90                80-90          10-20  \n",
       "2                80-90                80-90          10-20  \n",
       "3                80-90                80-90          10-20  \n",
       "4                80-90                80-90          10-20  \n",
       "..                 ...                  ...            ...  \n",
       "115              50-60                60-70          30-50  \n",
       "116              50-60                60-70          30-50  \n",
       "117              50-60                50-60          30-50  \n",
       "118              50-60                50-60          30-50  \n",
       "119              50-60                50-60          30-50  \n",
       "\n",
       "[120 rows x 8 columns]"
      ]
     },
     "execution_count": 85,
     "metadata": {},
     "output_type": "execute_result"
    }
   ],
   "source": [
    "df"
   ]
  },
  {
   "cell_type": "code",
   "execution_count": 86,
   "id": "26231644",
   "metadata": {},
   "outputs": [
    {
     "data": {
      "text/plain": [
       "10-20    56\n",
       "0-10     30\n",
       "20-30    18\n",
       "30-50    16\n",
       "Name: birth_range(%), dtype: int64"
      ]
     },
     "execution_count": 86,
     "metadata": {},
     "output_type": "execute_result"
    }
   ],
   "source": [
    "df[\"birth_range(%)\"].value_counts()"
   ]
  },
  {
   "cell_type": "code",
   "execution_count": 87,
   "id": "445b6750",
   "metadata": {},
   "outputs": [],
   "source": [
    "death_bins = [0,5,10,15,25]\n",
    "death_labels = ['0-5', '5-10', '10-15', '15-25']"
   ]
  },
  {
   "cell_type": "code",
   "execution_count": 88,
   "id": "75e48ee5",
   "metadata": {},
   "outputs": [],
   "source": [
    "df[\"death_range(%)\"] = pd.cut(df[\"death_rate(%)\"], death_bins, labels = death_labels)"
   ]
  },
  {
   "cell_type": "code",
   "execution_count": 89,
   "id": "1d7a7f98",
   "metadata": {},
   "outputs": [
    {
     "data": {
      "text/html": [
       "<div>\n",
       "<style scoped>\n",
       "    .dataframe tbody tr th:only-of-type {\n",
       "        vertical-align: middle;\n",
       "    }\n",
       "\n",
       "    .dataframe tbody tr th {\n",
       "        vertical-align: top;\n",
       "    }\n",
       "\n",
       "    .dataframe thead th {\n",
       "        text-align: right;\n",
       "    }\n",
       "</style>\n",
       "<table border=\"1\" class=\"dataframe\">\n",
       "  <thead>\n",
       "    <tr style=\"text-align: right;\">\n",
       "      <th></th>\n",
       "      <th>country</th>\n",
       "      <th>life_expectancy_males_(years)</th>\n",
       "      <th>life_expectancy_females_(years)</th>\n",
       "      <th>birth_rate(%)</th>\n",
       "      <th>death_rate(%)</th>\n",
       "      <th>range_males(years)</th>\n",
       "      <th>range_females(years)</th>\n",
       "      <th>birth_range(%)</th>\n",
       "      <th>death_range(%)</th>\n",
       "    </tr>\n",
       "  </thead>\n",
       "  <tbody>\n",
       "    <tr>\n",
       "      <th>0</th>\n",
       "      <td>Hong Kong</td>\n",
       "      <td>83.2</td>\n",
       "      <td>87.9</td>\n",
       "      <td>5.0</td>\n",
       "      <td>6.9</td>\n",
       "      <td>80-90</td>\n",
       "      <td>80-90</td>\n",
       "      <td>0-10</td>\n",
       "      <td>5-10</td>\n",
       "    </tr>\n",
       "    <tr>\n",
       "      <th>1</th>\n",
       "      <td>Macao</td>\n",
       "      <td>82.8</td>\n",
       "      <td>87.9</td>\n",
       "      <td>10.1</td>\n",
       "      <td>4.1</td>\n",
       "      <td>80-90</td>\n",
       "      <td>80-90</td>\n",
       "      <td>10-20</td>\n",
       "      <td>0-5</td>\n",
       "    </tr>\n",
       "    <tr>\n",
       "      <th>2</th>\n",
       "      <td>Switzerland</td>\n",
       "      <td>81.9</td>\n",
       "      <td>85.9</td>\n",
       "      <td>10.3</td>\n",
       "      <td>8.2</td>\n",
       "      <td>80-90</td>\n",
       "      <td>80-90</td>\n",
       "      <td>10-20</td>\n",
       "      <td>5-10</td>\n",
       "    </tr>\n",
       "    <tr>\n",
       "      <th>3</th>\n",
       "      <td>Iceland</td>\n",
       "      <td>81.8</td>\n",
       "      <td>84.5</td>\n",
       "      <td>13.1</td>\n",
       "      <td>6.3</td>\n",
       "      <td>80-90</td>\n",
       "      <td>80-90</td>\n",
       "      <td>10-20</td>\n",
       "      <td>5-10</td>\n",
       "    </tr>\n",
       "    <tr>\n",
       "      <th>4</th>\n",
       "      <td>Norway</td>\n",
       "      <td>81.7</td>\n",
       "      <td>84.7</td>\n",
       "      <td>10.4</td>\n",
       "      <td>7.8</td>\n",
       "      <td>80-90</td>\n",
       "      <td>80-90</td>\n",
       "      <td>10-20</td>\n",
       "      <td>5-10</td>\n",
       "    </tr>\n",
       "    <tr>\n",
       "      <th>...</th>\n",
       "      <td>...</td>\n",
       "      <td>...</td>\n",
       "      <td>...</td>\n",
       "      <td>...</td>\n",
       "      <td>...</td>\n",
       "      <td>...</td>\n",
       "      <td>...</td>\n",
       "      <td>...</td>\n",
       "      <td>...</td>\n",
       "    </tr>\n",
       "    <tr>\n",
       "      <th>115</th>\n",
       "      <td>Congo (Dem. Republic)</td>\n",
       "      <td>57.0</td>\n",
       "      <td>61.5</td>\n",
       "      <td>42.0</td>\n",
       "      <td>9.7</td>\n",
       "      <td>50-60</td>\n",
       "      <td>60-70</td>\n",
       "      <td>30-50</td>\n",
       "      <td>5-10</td>\n",
       "    </tr>\n",
       "    <tr>\n",
       "      <th>116</th>\n",
       "      <td>Zimbabwe</td>\n",
       "      <td>56.2</td>\n",
       "      <td>62.0</td>\n",
       "      <td>30.5</td>\n",
       "      <td>9.1</td>\n",
       "      <td>50-60</td>\n",
       "      <td>60-70</td>\n",
       "      <td>30-50</td>\n",
       "      <td>5-10</td>\n",
       "    </tr>\n",
       "    <tr>\n",
       "      <th>117</th>\n",
       "      <td>Somalia</td>\n",
       "      <td>53.2</td>\n",
       "      <td>57.4</td>\n",
       "      <td>43.6</td>\n",
       "      <td>11.6</td>\n",
       "      <td>50-60</td>\n",
       "      <td>50-60</td>\n",
       "      <td>30-50</td>\n",
       "      <td>10-15</td>\n",
       "    </tr>\n",
       "    <tr>\n",
       "      <th>118</th>\n",
       "      <td>Nigeria</td>\n",
       "      <td>52.3</td>\n",
       "      <td>53.1</td>\n",
       "      <td>37.1</td>\n",
       "      <td>13.1</td>\n",
       "      <td>50-60</td>\n",
       "      <td>50-60</td>\n",
       "      <td>30-50</td>\n",
       "      <td>10-15</td>\n",
       "    </tr>\n",
       "    <tr>\n",
       "      <th>119</th>\n",
       "      <td>Chad</td>\n",
       "      <td>50.8</td>\n",
       "      <td>54.3</td>\n",
       "      <td>43.4</td>\n",
       "      <td>12.5</td>\n",
       "      <td>50-60</td>\n",
       "      <td>50-60</td>\n",
       "      <td>30-50</td>\n",
       "      <td>10-15</td>\n",
       "    </tr>\n",
       "  </tbody>\n",
       "</table>\n",
       "<p>120 rows × 9 columns</p>\n",
       "</div>"
      ],
      "text/plain": [
       "                   country  life_expectancy_males_(years)  \\\n",
       "0                Hong Kong                           83.2   \n",
       "1                    Macao                           82.8   \n",
       "2              Switzerland                           81.9   \n",
       "3                  Iceland                           81.8   \n",
       "4                   Norway                           81.7   \n",
       "..                     ...                            ...   \n",
       "115  Congo (Dem. Republic)                           57.0   \n",
       "116               Zimbabwe                           56.2   \n",
       "117                Somalia                           53.2   \n",
       "118                Nigeria                           52.3   \n",
       "119                   Chad                           50.8   \n",
       "\n",
       "     life_expectancy_females_(years)  birth_rate(%)  death_rate(%)  \\\n",
       "0                               87.9            5.0            6.9   \n",
       "1                               87.9           10.1            4.1   \n",
       "2                               85.9           10.3            8.2   \n",
       "3                               84.5           13.1            6.3   \n",
       "4                               84.7           10.4            7.8   \n",
       "..                               ...            ...            ...   \n",
       "115                             61.5           42.0            9.7   \n",
       "116                             62.0           30.5            9.1   \n",
       "117                             57.4           43.6           11.6   \n",
       "118                             53.1           37.1           13.1   \n",
       "119                             54.3           43.4           12.5   \n",
       "\n",
       "    range_males(years) range_females(years) birth_range(%) death_range(%)  \n",
       "0                80-90                80-90           0-10           5-10  \n",
       "1                80-90                80-90          10-20            0-5  \n",
       "2                80-90                80-90          10-20           5-10  \n",
       "3                80-90                80-90          10-20           5-10  \n",
       "4                80-90                80-90          10-20           5-10  \n",
       "..                 ...                  ...            ...            ...  \n",
       "115              50-60                60-70          30-50           5-10  \n",
       "116              50-60                60-70          30-50           5-10  \n",
       "117              50-60                50-60          30-50          10-15  \n",
       "118              50-60                50-60          30-50          10-15  \n",
       "119              50-60                50-60          30-50          10-15  \n",
       "\n",
       "[120 rows x 9 columns]"
      ]
     },
     "execution_count": 89,
     "metadata": {},
     "output_type": "execute_result"
    }
   ],
   "source": [
    "df"
   ]
  },
  {
   "cell_type": "code",
   "execution_count": 91,
   "id": "139df177",
   "metadata": {},
   "outputs": [
    {
     "data": {
      "text/plain": [
       "5-10     76\n",
       "10-15    22\n",
       "0-5      12\n",
       "15-25    10\n",
       "Name: death_range(%), dtype: int64"
      ]
     },
     "execution_count": 91,
     "metadata": {},
     "output_type": "execute_result"
    }
   ],
   "source": [
    "df[\"death_range(%)\"].value_counts()"
   ]
  },
  {
   "cell_type": "markdown",
   "id": "1b1d098e",
   "metadata": {},
   "source": [
    "# Data Exploration "
   ]
  },
  {
   "cell_type": "code",
   "execution_count": null,
   "id": "2931cbba",
   "metadata": {},
   "outputs": [],
   "source": []
  },
  {
   "cell_type": "markdown",
   "id": "5de33272",
   "metadata": {},
   "source": [
    "Which Country has the highest life expectency?"
   ]
  },
  {
   "cell_type": "code",
   "execution_count": null,
   "id": "d9d61e74",
   "metadata": {},
   "outputs": [],
   "source": []
  },
  {
   "cell_type": "code",
   "execution_count": null,
   "id": "213f6a88",
   "metadata": {},
   "outputs": [],
   "source": [
    "Which Country has the lowest life expectency? "
   ]
  },
  {
   "cell_type": "code",
   "execution_count": null,
   "id": "561616bf",
   "metadata": {},
   "outputs": [],
   "source": []
  },
  {
   "cell_type": "code",
   "execution_count": null,
   "id": "1f8b6bd7",
   "metadata": {},
   "outputs": [],
   "source": []
  },
  {
   "cell_type": "code",
   "execution_count": null,
   "id": "84aaf3eb",
   "metadata": {},
   "outputs": [],
   "source": []
  }
 ],
 "metadata": {
  "kernelspec": {
   "display_name": "Python 3 (ipykernel)",
   "language": "python",
   "name": "python3"
  },
  "language_info": {
   "codemirror_mode": {
    "name": "ipython",
    "version": 3
   },
   "file_extension": ".py",
   "mimetype": "text/x-python",
   "name": "python",
   "nbconvert_exporter": "python",
   "pygments_lexer": "ipython3",
   "version": "3.11.3"
  }
 },
 "nbformat": 4,
 "nbformat_minor": 5
}
